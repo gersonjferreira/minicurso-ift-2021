{
 "cells": [
  {
   "cell_type": "markdown",
   "id": "7847372f-2c60-44fc-bddd-8aee2e886eff",
   "metadata": {},
   "source": [
    "# Numpy essentials\n",
    "\n",
    "Let's analyze the main features that makes **numpy** the most important package for Computational Physics in python."
   ]
  },
  {
   "cell_type": "code",
   "execution_count": null,
   "id": "c650f2cf-86e7-4167-ae0f-436fac895e8d",
   "metadata": {},
   "outputs": [],
   "source": [
    "import numpy as np\n",
    "\n",
    "# using time to measure... time\n",
    "from time import time"
   ]
  },
  {
   "cell_type": "markdown",
   "id": "78e552cf-e14a-4cc0-8367-2b8adcb1a9a4",
   "metadata": {},
   "source": [
    "## Arrays vs lists\n",
    "\n",
    "A raw python **list** is literally a list, and a list can have anything."
   ]
  },
  {
   "cell_type": "code",
   "execution_count": null,
   "id": "0fa8d66b-3f48-4f95-8a2f-5d4c1ecc9913",
   "metadata": {},
   "outputs": [],
   "source": [
    "# a random list of things\n",
    "my_list = ['dogs', 'cats', 1.9 - 3j, 1, 2, 3, 'bananas']\n",
    "print('Heterogeneous data types:', my_list)"
   ]
  },
  {
   "cell_type": "code",
   "execution_count": null,
   "id": "4ad3271a-743c-417d-8093-277fe044b149",
   "metadata": {},
   "outputs": [],
   "source": [
    "# easy to append elements\n",
    "my_list.append('apples')\n",
    "my_list += [10.0]\n",
    "print('List with two extra elements:', my_list)"
   ]
  },
  {
   "cell_type": "code",
   "execution_count": null,
   "id": "8708b8b0-56db-48e0-a157-9ec71f6789dd",
   "metadata": {},
   "outputs": [],
   "source": [
    "# indexing starts at 0 and runs backwards as well\n",
    "print('The third element is:', my_list[2])\n",
    "print('The last element is:', my_list[-1])"
   ]
  },
  {
   "cell_type": "code",
   "execution_count": null,
   "id": "4e04d6da-9633-4ad6-84f2-ce282a5c4ecc",
   "metadata": {},
   "outputs": [],
   "source": [
    "# indexing ranges [init:end:step] semi-open interval [init, end)\n",
    "print('Elements third to sixth:', my_list[2:6])\n",
    "print('Every two elements:', my_list[::2])"
   ]
  },
  {
   "cell_type": "markdown",
   "id": "a390b2f1-8e99-43b3-a6cd-3302b62d0374",
   "metadata": {},
   "source": [
    "Notice that the + operator plays the role of *append*, therefore multiplication by an integer leads to many appends:"
   ]
  },
  {
   "cell_type": "code",
   "execution_count": null,
   "id": "d6702b4c-5ab2-4491-ab64-88b34e983cac",
   "metadata": {},
   "outputs": [],
   "source": [
    "my_list = [0, 1, 2]\n",
    "print('Two lists:', my_list * 2) # = my_list + my_list"
   ]
  },
  {
   "cell_type": "code",
   "execution_count": null,
   "id": "2a2a36b8-fe35-421f-8d98-e412d3bcc34e",
   "metadata": {},
   "outputs": [],
   "source": [
    "# but appends runs *in place*, while + or * does not\n",
    "my_list.append(3)\n",
    "print('Adding the element 3 gives:', my_list)"
   ]
  },
  {
   "cell_type": "code",
   "execution_count": null,
   "id": "4c350239-9b3f-4b80-8a60-35eb0c211abf",
   "metadata": {},
   "outputs": [],
   "source": [
    "new_list = my_list + [4]\n",
    "print('The previous list was:', my_list)\n",
    "print('      The new list is:', new_list)"
   ]
  },
  {
   "cell_type": "markdown",
   "id": "4119fabf-124b-4af9-bd49-cfeaf84fa4e2",
   "metadata": {},
   "source": [
    "On the other hand, a **numpy array** acts as a vector, matrix, or tensor:"
   ]
  },
  {
   "cell_type": "code",
   "execution_count": null,
   "id": "b8555726-4591-4e12-8eb1-091a6322c52b",
   "metadata": {},
   "outputs": [],
   "source": [
    "vec1 = np.array([0, 1, 2]) # float by default\n",
    "print('Multiply by 2 to get:', 2*vec1)"
   ]
  },
  {
   "cell_type": "code",
   "execution_count": null,
   "id": "1e1d5b2b-f759-4729-901e-fbc9e33f9b7b",
   "metadata": {},
   "outputs": [],
   "source": [
    "vec2 = np.array([3, 4, 5])\n",
    "print('Adding, adds as vectors:', vec1 + vec2)"
   ]
  },
  {
   "cell_type": "code",
   "execution_count": null,
   "id": "7908bffa-dcf7-4dde-8b36-71e2a7e24a93",
   "metadata": {},
   "outputs": [],
   "source": [
    "# elementwise: vec1 * vec2 = vec1[0]*vec2[0] + vec1[1]*vec2[1] + ...\n",
    "print('Multiplication is elementwise:', vec1 * vec2)"
   ]
  },
  {
   "cell_type": "code",
   "execution_count": null,
   "id": "6026a843-3939-48c0-89f7-2ed2108c2fe6",
   "metadata": {},
   "outputs": [],
   "source": [
    "# vector products: dot vs vdot?\n",
    "print('The dot product:', np.vdot(vec1, vec2))\n",
    "print('The cross product:', np.cross(vec1, vec2))"
   ]
  },
  {
   "cell_type": "markdown",
   "id": "6bd10991-a404-4f65-953a-a2a2f2c815d3",
   "metadata": {},
   "source": [
    "## Broadcasting, vectorizing, loops in C\n",
    "\n",
    "Loops in python are slow. It's an interpreted language. So, to avoid loops in python, use numpy broadcasts that transfer the loop to its internal C compiled codes.\n",
    "\n",
    "**Broadcasting:** loops over the elements of the array and applies the operation to all of them. Often, broadcasting can also take advantage of **threads** (e.g., matrix multiplications).\n",
    "\n",
    "Let's use the package **time** to measure time and check three forms to do the same vector initialization:"
   ]
  },
  {
   "cell_type": "code",
   "execution_count": null,
   "id": "9a36deb7-5493-4e33-924a-f5cf654260cd",
   "metadata": {},
   "outputs": [],
   "source": [
    "n = 1000000\n",
    "\n",
    "# 1) Using only python and lists\n",
    "t0 = time()\n",
    "y1 = []\n",
    "for x in range(n):\n",
    "    y1.append(x**2)\n",
    "t1 = time()\n",
    "print('List and appends:', t1-t0, ' seconds')"
   ]
  },
  {
   "cell_type": "code",
   "execution_count": null,
   "id": "a53d0944-ce4b-48bf-ad69-0020c7195239",
   "metadata": {},
   "outputs": [],
   "source": [
    "# 2) Fill a numpy array with a for loop\n",
    "t0 = time()\n",
    "y2 = np.zeros(n)\n",
    "for x in range(n):\n",
    "    y2[x] = x**2\n",
    "t1 = time()\n",
    "print('Loop over predefined array:', t1-t0, ' seconds')"
   ]
  },
  {
   "cell_type": "code",
   "execution_count": null,
   "id": "cc4ba3d3-c6a9-4c05-867d-b82fe0f4b312",
   "metadata": {},
   "outputs": [],
   "source": [
    "# 3) Using numpy broadcasts\n",
    "t0 = time()\n",
    "xs = np.arange(n)\n",
    "y3 = xs**2 # xs is the full array above, loop is implied elementwise\n",
    "t1 = time()\n",
    "print('Numpy broadcast:', t1-t0, ' seconds')"
   ]
  },
  {
   "cell_type": "markdown",
   "id": "b53f55e9-fed8-4970-a943-75c03de7cbc6",
   "metadata": {},
   "source": [
    "Let's see another example with a **simple rectangle rule integral**\n",
    "\n",
    "$$\\int_a^b f(x) dx \\approx \\sum_{i=0}^{N-2} f(x_i) \\Delta x, \\text{ with } x_i = a + i \\Delta x, \\Delta x = \\dfrac{b-a}{N-1}$$ \n",
    "\n",
    "**warning:** this is a really bad method for integrals. Using only to illustrate the broadcasting. **Numpy** and specially **scipy** have more efficient and precise methods implemented (e.g., `scipy.integrate.quad` uses Chebyshev expansions)"
   ]
  },
  {
   "cell_type": "code",
   "execution_count": null,
   "id": "8b1f919d-285e-4d66-a0d8-f5c1adcec1ee",
   "metadata": {},
   "outputs": [],
   "source": [
    "# using a lambda call to define the function to integrate\n",
    "f = lambda x: 6*x*(1-x)\n",
    "\n",
    "a = 0\n",
    "b = 1\n",
    "N = 10000000\n",
    "dx = (b-a)/(N-1)\n",
    "\n",
    "# 1) a direct for loop in python \n",
    "t0 = time()\n",
    "res1 = 0\n",
    "for i in range(N-1): # range goes from 0 to N-2, semi-open interval\n",
    "    x = a + i*dx\n",
    "    res1 += f(x)\n",
    "res1 *= dx\n",
    "t1 = time()\n",
    "print('Direct loop in python. The result:', res1)\n",
    "print('And the time:', t1-t0)"
   ]
  },
  {
   "cell_type": "code",
   "execution_count": null,
   "id": "768c0288-5d8d-41cf-8c9b-cb36d4cc8e3d",
   "metadata": {},
   "outputs": [],
   "source": [
    "# 2) using broadcast and auxiliary calls\n",
    "t0 = time()\n",
    "xs = np.linspace(a, b, N)\n",
    "res2 = np.sum(f(xs[:-1]))*dx\n",
    "t1 = time()\n",
    "print('Numpy broadcasting. The result:', res2)\n",
    "print('And the time:', t1-t0)"
   ]
  },
  {
   "cell_type": "markdown",
   "id": "17dc498d-1b4e-4b1b-a22e-75c2c2fb445a",
   "metadata": {},
   "source": [
    "Above we are using the fact that the function `f(x)` is **vectorized**: this means that its arguments (only `x` in this case) allows for elementwise operations with the numpy internal loops written in C. Thus leading to huge speedups.\n",
    "\n",
    "All numpy functions are vectorized: `np.sin(...), np.cos(...), np.exp(...)`, and so on. What would be a non-vectorized function?"
   ]
  },
  {
   "cell_type": "code",
   "execution_count": null,
   "id": "20840a47-f1e9-4660-a87b-248ecbbb366e",
   "metadata": {},
   "outputs": [],
   "source": [
    "def larger(x, y):\n",
    "    if x > y:\n",
    "        return x\n",
    "    else:\n",
    "        return y\n",
    "     \n",
    "# Let's test with simple numbers\n",
    "print('Which is larger, 3 or 5?', larger(3, 5))\n",
    "print('Which is larger, 5 or 3?', larger(5, 3))"
   ]
  },
  {
   "cell_type": "code",
   "execution_count": null,
   "id": "1f942824-403f-4d78-84f7-551803019903",
   "metadata": {},
   "outputs": [],
   "source": [
    "# and now with arrays\n",
    "a = np.array([4, 5, 6])\n",
    "b = np.array([7, 2, 8])\n",
    "\n",
    "print('Compare element by element will fail:', larger(a, b))"
   ]
  },
  {
   "cell_type": "markdown",
   "id": "3f0c9595-a8ed-459a-b54c-ccb54bcdc344",
   "metadata": {},
   "source": [
    "**How to fix it?**\n",
    "\n",
    "**See also:** `np.greater(...)` and other comparisons within numpy."
   ]
  },
  {
   "cell_type": "code",
   "execution_count": null,
   "id": "497e6720-16df-4aed-b02e-e5f5aa0b9f1f",
   "metadata": {},
   "outputs": [],
   "source": [
    "# wrapper to vectorize loops over elements of the inputs\n",
    "vlarger = np.vectorize(larger)\n",
    "\n",
    "print('Not it will work:', vlarger(a, b))"
   ]
  },
  {
   "cell_type": "markdown",
   "id": "328625ee-36f4-4280-bb0b-831d8e88f45e",
   "metadata": {},
   "source": [
    "## Creating vectors with arrays\n",
    "\n",
    "Let's start with some simple methods to build arrays. Later will check generalization for matrices or tensors."
   ]
  },
  {
   "cell_type": "code",
   "execution_count": null,
   "id": "c3763ee8-120a-40c4-99bf-9939b0fcde60",
   "metadata": {},
   "outputs": [],
   "source": [
    "# both zeros and ones take the shape as argument\n",
    "x = np.zeros(5)\n",
    "y = np.ones(5)\n",
    "print('x =', x)\n",
    "print('y =', y)\n",
    "\n",
    "# creating one \"by hand\", or converting from list to array\n",
    "z = np.array([10, 5, 9, 15, 42])\n",
    "print('z =', z)"
   ]
  },
  {
   "cell_type": "markdown",
   "id": "668880af-5ac8-4792-8fc9-e7c9c0ac72ac",
   "metadata": {},
   "source": [
    "There are two similar and useful calls to define arrays over ranges:\n",
    "\n",
    "- `np.arange(a, b, dx)` creates an array over the semi-open interval `[a,b)` in steps of `dx`.\n",
    "- `np.linspace(a, b, n)` creates an array over the full interval `[a,b]` with `n` points.\n",
    "\n",
    "For **arange** the number of points will be $n = (b-a)/dx$.\n",
    "\n",
    "For **linspace** the step between points will be $dx = (b-a)/(n-1)$ by default. But the option `endpoint=False` makes it work with an semi-open interval `[a,b)`, and it becomes compatible with **arange**, with $dx = (b-a)/n$.\n",
    "\n",
    "Try it:"
   ]
  },
  {
   "cell_type": "code",
   "execution_count": null,
   "id": "7af03201-2f5a-4f67-b9fb-3bd0a7b263e3",
   "metadata": {},
   "outputs": [],
   "source": [
    "x = np.arange(0, 5, 1)\n",
    "print('Using arange:')\n",
    "print('n:', len(x))\n",
    "print('dx:', x[1]-x[0])\n",
    "print('x:', x)"
   ]
  },
  {
   "cell_type": "code",
   "execution_count": null,
   "id": "e0d92717-6a00-4d55-ab36-8d8f4982aaae",
   "metadata": {},
   "outputs": [],
   "source": [
    "x = np.linspace(0, 5, 5)\n",
    "print('Using linspace with full interval:')\n",
    "print('n:', len(x))\n",
    "print('dx:', x[1]-x[0])\n",
    "print('x:', x)"
   ]
  },
  {
   "cell_type": "code",
   "execution_count": null,
   "id": "4e954f80-cd59-4238-95b2-3f26d6f73396",
   "metadata": {},
   "outputs": [],
   "source": [
    "x = np.linspace(0, 5, 5, endpoint=False)\n",
    "print('Using linspace with semi-open interval:')\n",
    "print('n:', len(x))\n",
    "print('dx:', x[1]-x[0])\n",
    "print('x:', x)"
   ]
  },
  {
   "cell_type": "markdown",
   "id": "2c55fb7d-23e2-4832-901f-128ad915b407",
   "metadata": {},
   "source": [
    "## Indexing arrays\n",
    "\n",
    "**Sintax:** `x[i:f:s]` refers to the range from index `i` to `f` (not inclusive) in steps of `s`\n",
    "\n",
    "**First and last:** indexes start at 0, and the last one is -1.\n",
    "\n",
    "### Vectors\n",
    "\n",
    "Let's start with a 1D array of 15 elements and extract parts of it."
   ]
  },
  {
   "cell_type": "code",
   "execution_count": 45,
   "id": "f3840b86-8585-48fa-9c55-9042bd5b47c6",
   "metadata": {},
   "outputs": [
    {
     "name": "stdout",
     "output_type": "stream",
     "text": [
      "x: [11 12 13 14 15 16 17 18 19 20 21 22 23 24 25]\n",
      "n: 15\n"
     ]
    }
   ],
   "source": [
    "x = np.arange(11, 26) # semi-open interval [11, 26) with steps of 1 (implied)\n",
    "print('x:', x)\n",
    "print('n:', len(x))"
   ]
  },
  {
   "cell_type": "code",
   "execution_count": 50,
   "id": "85484eff-ac94-4318-b454-43890ecc59df",
   "metadata": {},
   "outputs": [
    {
     "name": "stdout",
     "output_type": "stream",
     "text": [
      "The fifth element: 15\n"
     ]
    }
   ],
   "source": [
    "print('The fifth element:', x[4]) # because it starts from zero"
   ]
  },
  {
   "cell_type": "code",
   "execution_count": 46,
   "id": "826f402f-ca9d-49e2-b537-d4ad4fb24837",
   "metadata": {},
   "outputs": [
    {
     "name": "stdout",
     "output_type": "stream",
     "text": [
      "The first five elements: [11 12 13 14 15]\n"
     ]
    }
   ],
   "source": [
    "print('The first five elements:', x[:5]) # if initial index is implied: from the start"
   ]
  },
  {
   "cell_type": "code",
   "execution_count": 48,
   "id": "c48a6f99-811c-4bca-82ff-3a3691f9d815",
   "metadata": {},
   "outputs": [
    {
     "name": "stdout",
     "output_type": "stream",
     "text": [
      "The last five elements: [21 22 23 24 25]\n"
     ]
    }
   ],
   "source": [
    "print('The last five elements:', x[-5:]) # negative counts backwards"
   ]
  },
  {
   "cell_type": "code",
   "execution_count": 52,
   "id": "e11614a5-d009-46ca-b567-70d1237a07e3",
   "metadata": {},
   "outputs": [
    {
     "name": "stdout",
     "output_type": "stream",
     "text": [
      "All odd elements: [11 13 15 17 19 21 23 25]\n"
     ]
    }
   ],
   "source": [
    "print('All odd elements:', x[::2]) # start and end implied, steps of 2"
   ]
  },
  {
   "cell_type": "code",
   "execution_count": 54,
   "id": "896a6a5f-d240-4939-8023-ae66dee1d148",
   "metadata": {},
   "outputs": [
    {
     "name": "stdout",
     "output_type": "stream",
     "text": [
      "All even elements: [12 14 16 18 20 22 24]\n"
     ]
    }
   ],
   "source": [
    "print('All even elements:', x[1::2]) # start and 1, end implied, steps of 2"
   ]
  },
  {
   "cell_type": "code",
   "execution_count": 56,
   "id": "e378e7b7-06f3-4781-ac03-fdc492957774",
   "metadata": {},
   "outputs": [
    {
     "name": "stdout",
     "output_type": "stream",
     "text": [
      "Elements from 5th to 8th: [15 16 17 18]\n"
     ]
    }
   ],
   "source": [
    "print('Elements from 5th to 8th:', x[4:8]) # 4 since it starts from 0, 8 since it's a semi-open interval"
   ]
  },
  {
   "cell_type": "code",
   "execution_count": 60,
   "id": "88e6d4aa-949b-4191-9bb1-1e3721a7af62",
   "metadata": {},
   "outputs": [
    {
     "name": "stdout",
     "output_type": "stream",
     "text": [
      "Elements larger than 18: [19 20 21 22 23 24 25]\n"
     ]
    }
   ],
   "source": [
    "print('Elements larger than 18:', x[x>18]) # x>18 returns list of True/False"
   ]
  },
  {
   "cell_type": "markdown",
   "id": "572ec5ab-0afd-40f1-815a-baa132f2c976",
   "metadata": {},
   "source": [
    "### Matrices\n",
    "\n",
    "It's all equivalent to above, but now we have lines and columns.\n",
    "\n",
    "`m[i,j]` will refer to line i and column j"
   ]
  },
  {
   "cell_type": "code",
   "execution_count": 72,
   "id": "8683507b-d376-4279-90b9-49bb60821d89",
   "metadata": {},
   "outputs": [
    {
     "name": "stdout",
     "output_type": "stream",
     "text": [
      "[[11 12 13 14 15]\n",
      " [16 17 18 19 20]\n",
      " [21 22 23 24 25]]\n",
      "Shape of m: (3, 5)\n"
     ]
    }
   ],
   "source": [
    "m = x.reshape([3,5]) # rewrites the 1D vector x as a 3x5 matrix.\n",
    "\n",
    "print(m)\n",
    "print('Shape of m:', m.shape)"
   ]
  },
  {
   "cell_type": "code",
   "execution_count": 63,
   "id": "18940bb3-ecec-41e4-8582-f84093a04f3c",
   "metadata": {},
   "outputs": [
    {
     "name": "stdout",
     "output_type": "stream",
     "text": [
      "The second line: [16 17 18 19 20]\n"
     ]
    }
   ],
   "source": [
    "print('The second line:', m[1, :]) # 1, since it starts from 0, and : refers to all"
   ]
  },
  {
   "cell_type": "code",
   "execution_count": 65,
   "id": "4bf37ad8-becc-457e-bb5e-30ec0789d8d4",
   "metadata": {},
   "outputs": [
    {
     "name": "stdout",
     "output_type": "stream",
     "text": [
      "The third column: [13 18 23]\n"
     ]
    }
   ],
   "source": [
    "print('The third column:', m[:, 2])"
   ]
  },
  {
   "cell_type": "code",
   "execution_count": 67,
   "id": "2a1b38ab-8ce7-4701-969e-fb6ce9b8c732",
   "metadata": {},
   "outputs": [
    {
     "name": "stdout",
     "output_type": "stream",
     "text": [
      "The element from line 2, column 3: 18\n"
     ]
    }
   ],
   "source": [
    "print('The element from line 2, column 3:', m[1,2]) # remember that it counts from zero"
   ]
  },
  {
   "cell_type": "markdown",
   "id": "c3d3fdd5-94ad-4572-9e3e-e220dd25aeef",
   "metadata": {},
   "source": [
    "## Creating matrices"
   ]
  },
  {
   "cell_type": "code",
   "execution_count": 83,
   "id": "63539ec1-7f95-4520-8f7a-e7c6e8e88f4e",
   "metadata": {},
   "outputs": [
    {
     "name": "stdout",
     "output_type": "stream",
     "text": [
      "[[1 2 3]\n",
      " [4 5 6]\n",
      " [7 8 9]]\n",
      "Shape of m: (3, 3)\n"
     ]
    }
   ],
   "source": [
    "# by hand (or use comprehensions, see the previous tutorial)\n",
    "m = np.array([\n",
    "    [1, 2, 3],\n",
    "    [4, 5, 6],\n",
    "    [7, 8, 9]\n",
    "])\n",
    "\n",
    "print(m)\n",
    "print('Shape of m:', m.shape)"
   ]
  },
  {
   "cell_type": "code",
   "execution_count": 76,
   "id": "e5a15e6d-fddd-423d-9178-7249a91da73a",
   "metadata": {},
   "outputs": [
    {
     "name": "stdout",
     "output_type": "stream",
     "text": [
      "[[1. 0. 0. 0. 0.]\n",
      " [0. 1. 0. 0. 0.]\n",
      " [0. 0. 1. 0. 0.]\n",
      " [0. 0. 0. 1. 0.]\n",
      " [0. 0. 0. 0. 1.]]\n",
      "Shape of m: (5, 5)\n"
     ]
    }
   ],
   "source": [
    "# identity\n",
    "m = np.eye(5)\n",
    "print(m)\n",
    "print('Shape of m:', m.shape)"
   ]
  },
  {
   "cell_type": "code",
   "execution_count": 86,
   "id": "8bc78abc-26f7-4ed0-9f2c-1d8e54a4b24b",
   "metadata": {},
   "outputs": [
    {
     "name": "stdout",
     "output_type": "stream",
     "text": [
      "[[1. 4. 0. 0. 0.]\n",
      " [0. 1. 4. 0. 0.]\n",
      " [3. 0. 1. 4. 0.]\n",
      " [0. 3. 0. 1. 4.]\n",
      " [0. 0. 3. 0. 1.]]\n",
      "Shape of m: (5, 5)\n"
     ]
    }
   ],
   "source": [
    "# subdiagonals\n",
    "m = np.eye(5) + 4*np.eye(5, k=1) + 3*np.eye(5, k=-2)\n",
    "print(m)\n",
    "print('Shape of m:', m.shape)"
   ]
  },
  {
   "cell_type": "code",
   "execution_count": 81,
   "id": "c3e19663-8d0c-4614-a0f1-c0820c648b0d",
   "metadata": {},
   "outputs": [
    {
     "name": "stdout",
     "output_type": "stream",
     "text": [
      "[[1. 1. 1. 1. 1.]\n",
      " [1. 1. 1. 1. 1.]\n",
      " [1. 1. 1. 1. 1.]]\n",
      "Shape of m: (3, 5)\n"
     ]
    }
   ],
   "source": [
    "# ones\n",
    "m = np.ones([3,5]) # takes the shape as argument\n",
    "print(m)\n",
    "print('Shape of m:', m.shape)"
   ]
  },
  {
   "cell_type": "code",
   "execution_count": 82,
   "id": "11c8af6b-7abb-4c1b-98a2-d4e53e000292",
   "metadata": {},
   "outputs": [
    {
     "name": "stdout",
     "output_type": "stream",
     "text": [
      "[[0. 0. 0. 0. 0.]\n",
      " [0. 0. 0. 0. 0.]\n",
      " [0. 0. 0. 0. 0.]]\n",
      "Shape of m: (3, 5)\n"
     ]
    }
   ],
   "source": [
    "# the same for zeros\n",
    "m = np.zeros([3,5]) # takes the shape as argument\n",
    "print(m)\n",
    "print('Shape of m:', m.shape)"
   ]
  }
 ],
 "metadata": {
  "kernelspec": {
   "display_name": "Python 3",
   "language": "python",
   "name": "python3"
  },
  "language_info": {
   "codemirror_mode": {
    "name": "ipython",
    "version": 3
   },
   "file_extension": ".py",
   "mimetype": "text/x-python",
   "name": "python",
   "nbconvert_exporter": "python",
   "pygments_lexer": "ipython3",
   "version": "3.9.7"
  }
 },
 "nbformat": 4,
 "nbformat_minor": 5
}
