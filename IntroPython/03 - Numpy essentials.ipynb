{
 "cells": [
  {
   "cell_type": "markdown",
   "id": "7847372f-2c60-44fc-bddd-8aee2e886eff",
   "metadata": {},
   "source": [
    "# Numpy essentials\n",
    "\n",
    "Let's analyze the main features that makes **numpy** the most important package for Computational Physics in python."
   ]
  },
  {
   "cell_type": "code",
   "execution_count": null,
   "id": "c650f2cf-86e7-4167-ae0f-436fac895e8d",
   "metadata": {},
   "outputs": [],
   "source": [
    "import numpy as np\n",
    "from time import time # to measure... time"
   ]
  },
  {
   "cell_type": "markdown",
   "id": "78e552cf-e14a-4cc0-8367-2b8adcb1a9a4",
   "metadata": {},
   "source": [
    "## Arrays vs lists\n",
    "\n",
    "A raw python **list** is literally a list, and a list can have anything."
   ]
  },
  {
   "cell_type": "code",
   "execution_count": null,
   "id": "0fa8d66b-3f48-4f95-8a2f-5d4c1ecc9913",
   "metadata": {},
   "outputs": [],
   "source": [
    "# a random list of things\n",
    "my_list = ['dogs', 'cats', 1.9 - 3j, 1, 2, 3, 'bananas']\n",
    "print('Heterogeneous data types:', my_list)"
   ]
  },
  {
   "cell_type": "code",
   "execution_count": null,
   "id": "9a7abc33-c158-4d76-bd9d-6211a998b5a7",
   "metadata": {},
   "outputs": [],
   "source": []
  },
  {
   "cell_type": "code",
   "execution_count": null,
   "id": "7a1a42af-fc1a-4bfa-b8a1-e25614cc96f3",
   "metadata": {},
   "outputs": [],
   "source": []
  },
  {
   "cell_type": "code",
   "execution_count": null,
   "id": "4ad3271a-743c-417d-8093-277fe044b149",
   "metadata": {},
   "outputs": [],
   "source": [
    "# easy to append elements\n",
    "my_list.append('apples')\n",
    "my_list += [10.0]\n",
    "print('List with two extra elements:', my_list)"
   ]
  },
  {
   "cell_type": "code",
   "execution_count": null,
   "id": "387461df-67bf-46e0-9a36-15b5f0484e1b",
   "metadata": {},
   "outputs": [],
   "source": []
  },
  {
   "cell_type": "code",
   "execution_count": null,
   "id": "9315c92f-1b4b-4538-9ce0-54eaaa25c6c8",
   "metadata": {},
   "outputs": [],
   "source": []
  },
  {
   "cell_type": "code",
   "execution_count": null,
   "id": "8708b8b0-56db-48e0-a157-9ec71f6789dd",
   "metadata": {},
   "outputs": [],
   "source": [
    "# indexing starts at 0 and runs backwards as well\n",
    "print('The third element is:', my_list[2])\n",
    "print('The last element is:', my_list[-1])"
   ]
  },
  {
   "cell_type": "code",
   "execution_count": null,
   "id": "795d36c6-afc0-4e2d-9261-3d694610dd32",
   "metadata": {},
   "outputs": [],
   "source": []
  },
  {
   "cell_type": "code",
   "execution_count": null,
   "id": "0bd84e17-6e6f-43d8-9e1a-c7047ef7282f",
   "metadata": {},
   "outputs": [],
   "source": []
  },
  {
   "cell_type": "code",
   "execution_count": null,
   "id": "4e04d6da-9633-4ad6-84f2-ce282a5c4ecc",
   "metadata": {},
   "outputs": [],
   "source": [
    "# indexing ranges [init:end:step] semi-open interval [init, end)\n",
    "print('Elements third to sixth:', my_list[2:6])\n",
    "print('Every two elements:', my_list[::2])"
   ]
  },
  {
   "cell_type": "markdown",
   "id": "a390b2f1-8e99-43b3-a6cd-3302b62d0374",
   "metadata": {},
   "source": [
    "Notice that the + operator plays the role of *append*, therefore multiplication by an integer leads to many appends:"
   ]
  },
  {
   "cell_type": "code",
   "execution_count": null,
   "id": "ef81351d-23ef-4845-838c-70fdfae6be9a",
   "metadata": {},
   "outputs": [],
   "source": []
  },
  {
   "cell_type": "code",
   "execution_count": null,
   "id": "d6702b4c-5ab2-4491-ab64-88b34e983cac",
   "metadata": {},
   "outputs": [],
   "source": [
    "my_list = [0, 1, 2]\n",
    "print('Two lists:', my_list * 2) # = my_list + my_list"
   ]
  },
  {
   "cell_type": "code",
   "execution_count": null,
   "id": "de71ab9b-8cae-43d9-aa50-2cf3387cc344",
   "metadata": {},
   "outputs": [],
   "source": []
  },
  {
   "cell_type": "code",
   "execution_count": null,
   "id": "87867768-22ac-4864-8d48-0bbc4457e720",
   "metadata": {},
   "outputs": [],
   "source": []
  },
  {
   "cell_type": "code",
   "execution_count": null,
   "id": "2a2a36b8-fe35-421f-8d98-e412d3bcc34e",
   "metadata": {},
   "outputs": [],
   "source": [
    "# but appends runs *in place*, while + or * does not\n",
    "my_list.append(3)\n",
    "print('Adding the element 3 gives:', my_list)"
   ]
  },
  {
   "cell_type": "code",
   "execution_count": null,
   "id": "33f2e8a8-07a1-40d6-863b-9f6de4f9a3ee",
   "metadata": {},
   "outputs": [],
   "source": []
  },
  {
   "cell_type": "code",
   "execution_count": null,
   "id": "4c350239-9b3f-4b80-8a60-35eb0c211abf",
   "metadata": {},
   "outputs": [],
   "source": [
    "new_list = my_list + [4]\n",
    "print('The previous list was:', my_list)\n",
    "print('      The new list is:', new_list)"
   ]
  },
  {
   "cell_type": "code",
   "execution_count": null,
   "id": "a5470c94-e41a-49b7-bb5d-ede9f85c1573",
   "metadata": {},
   "outputs": [],
   "source": []
  },
  {
   "cell_type": "code",
   "execution_count": null,
   "id": "14cb6657-acaf-46cf-bad2-0768fa0aef7a",
   "metadata": {},
   "outputs": [],
   "source": []
  },
  {
   "cell_type": "markdown",
   "id": "4119fabf-124b-4af9-bd49-cfeaf84fa4e2",
   "metadata": {},
   "source": [
    "On the other hand, a **numpy array** acts as a vector, matrix, or tensor:"
   ]
  },
  {
   "cell_type": "code",
   "execution_count": null,
   "id": "b8555726-4591-4e12-8eb1-091a6322c52b",
   "metadata": {},
   "outputs": [],
   "source": [
    "vec1 = np.array([0, 1, 2]) # float by default\n",
    "print('Multiply by 2 to get:', 2*vec1)"
   ]
  },
  {
   "cell_type": "code",
   "execution_count": null,
   "id": "8452436b-be28-4ed0-9611-ba54f4863ba0",
   "metadata": {},
   "outputs": [],
   "source": []
  },
  {
   "cell_type": "code",
   "execution_count": null,
   "id": "f8963d03-bafd-4f75-ae09-abde3fecd750",
   "metadata": {},
   "outputs": [],
   "source": []
  },
  {
   "cell_type": "code",
   "execution_count": null,
   "id": "1e1d5b2b-f759-4729-901e-fbc9e33f9b7b",
   "metadata": {},
   "outputs": [],
   "source": [
    "vec2 = np.array([3, 4, 5])\n",
    "print('Adding, adds as vectors:', vec1 + vec2)"
   ]
  },
  {
   "cell_type": "code",
   "execution_count": null,
   "id": "912d72c2-6e3b-47b1-8108-05487e6eb31d",
   "metadata": {},
   "outputs": [],
   "source": []
  },
  {
   "cell_type": "code",
   "execution_count": null,
   "id": "80346f20-6bc7-4878-849b-d3f235d87788",
   "metadata": {},
   "outputs": [],
   "source": []
  },
  {
   "cell_type": "code",
   "execution_count": null,
   "id": "7908bffa-dcf7-4dde-8b36-71e2a7e24a93",
   "metadata": {},
   "outputs": [],
   "source": [
    "# elementwise: vec1 * vec2 = vec1[0]*vec2[0] + vec1[1]*vec2[1] + ...\n",
    "print('Multiplication is elementwise:', vec1 * vec2)"
   ]
  },
  {
   "cell_type": "code",
   "execution_count": null,
   "id": "42763042-3f98-4789-94b9-0bd07264a30a",
   "metadata": {},
   "outputs": [],
   "source": []
  },
  {
   "cell_type": "code",
   "execution_count": null,
   "id": "08bd6c98-6d62-472b-8fd7-3fe17bbef3e6",
   "metadata": {},
   "outputs": [],
   "source": []
  },
  {
   "cell_type": "code",
   "execution_count": null,
   "id": "6026a843-3939-48c0-89f7-2ed2108c2fe6",
   "metadata": {},
   "outputs": [],
   "source": [
    "# vector products: dot vs vdot?\n",
    "print('The dot product:', np.vdot(vec1, vec2))\n",
    "print('The cross product:', np.cross(vec1, vec2))"
   ]
  },
  {
   "cell_type": "code",
   "execution_count": null,
   "id": "9a5c81dc-a985-47c1-b9ce-5839c53ae924",
   "metadata": {},
   "outputs": [],
   "source": []
  },
  {
   "cell_type": "code",
   "execution_count": null,
   "id": "1a3a0dd1-f3f0-4b97-ac01-69a1df600332",
   "metadata": {},
   "outputs": [],
   "source": []
  },
  {
   "cell_type": "code",
   "execution_count": null,
   "id": "50e01262-fd7c-4c16-81a9-14862aa65224",
   "metadata": {},
   "outputs": [],
   "source": []
  },
  {
   "cell_type": "markdown",
   "id": "6bd10991-a404-4f65-953a-a2a2f2c815d3",
   "metadata": {},
   "source": [
    "## Broadcasting, vectorizing, loops in C\n",
    "\n",
    "Loops in python are slow. It's an interpreted language. So, to avoid loops in python, use numpy broadcasts that transfer the loop to its internal C compiled codes.\n",
    "\n",
    "**Broadcasting:** loops over the elements of the array and applies the operation to all of them. Often, broadcasting can also take advantage of **threads** (e.g., matrix multiplications).\n",
    "\n",
    "Let's use the package **time** to measure time and check three forms to do the same vector initialization:"
   ]
  },
  {
   "cell_type": "code",
   "execution_count": null,
   "id": "9a36deb7-5493-4e33-924a-f5cf654260cd",
   "metadata": {},
   "outputs": [],
   "source": [
    "n = 1000000\n",
    "\n",
    "# 1) Using only python and lists\n",
    "t0 = time()\n",
    "y1 = []\n",
    "for x in range(n):\n",
    "    y1.append(x**2)\n",
    "t1 = time()\n",
    "print('List and appends:', t1-t0, ' seconds')"
   ]
  },
  {
   "cell_type": "code",
   "execution_count": null,
   "id": "a53d0944-ce4b-48bf-ad69-0020c7195239",
   "metadata": {},
   "outputs": [],
   "source": [
    "# 2) Fill a numpy array with a for loop\n",
    "t0 = time()\n",
    "y2 = np.zeros(n)\n",
    "for x in range(n):\n",
    "    y2[x] = x**2\n",
    "t1 = time()\n",
    "print('Loop over predefined array:', t1-t0, ' seconds')"
   ]
  },
  {
   "cell_type": "code",
   "execution_count": null,
   "id": "cc4ba3d3-c6a9-4c05-867d-b82fe0f4b312",
   "metadata": {},
   "outputs": [],
   "source": [
    "# 3) Using numpy broadcasts\n",
    "# loop is implied elementwise\n",
    "\n",
    "t0 = time()\n",
    "xs = np.arange(n)\n",
    "y3 = xs**2 \n",
    "t1 = time()\n",
    "print('Numpy broadcast:', t1-t0, ' seconds')"
   ]
  },
  {
   "cell_type": "code",
   "execution_count": null,
   "id": "7025f5e9-b38e-4fc5-b9a5-e266e70aa934",
   "metadata": {},
   "outputs": [],
   "source": []
  },
  {
   "cell_type": "code",
   "execution_count": null,
   "id": "d917c176-c3d3-4038-8e47-272a7adaf96b",
   "metadata": {},
   "outputs": [],
   "source": []
  },
  {
   "cell_type": "code",
   "execution_count": null,
   "id": "bb8c9edf-5535-42ff-b85d-1102a8fc1c53",
   "metadata": {},
   "outputs": [],
   "source": []
  },
  {
   "cell_type": "markdown",
   "id": "b53f55e9-fed8-4970-a943-75c03de7cbc6",
   "metadata": {},
   "source": [
    "## Example: integral\n",
    "\n",
    "Let's see another example with a **simple rectangle rule integral**\n",
    "\n",
    "$$\\int_a^b f(x) dx \\approx \\sum_{i=0}^{N-2} f(x_i) \\Delta x, \\text{ with } x_i = a + i \\Delta x, \\Delta x = \\dfrac{b-a}{N-1}$$ \n",
    "\n",
    "**warning:** this is a really bad method for integrals. Using only to illustrate the broadcasting. **Numpy** and specially **scipy** have more efficient and precise methods implemented (e.g., `scipy.integrate.quad` uses Chebyshev expansions)"
   ]
  },
  {
   "cell_type": "code",
   "execution_count": null,
   "id": "1aba9f75-867e-45a3-97af-a98520a812e1",
   "metadata": {},
   "outputs": [],
   "source": []
  },
  {
   "cell_type": "code",
   "execution_count": null,
   "id": "fffb8d0d-402d-41a1-8495-dfb982ddae53",
   "metadata": {},
   "outputs": [],
   "source": []
  },
  {
   "cell_type": "code",
   "execution_count": null,
   "id": "fc8156f1-cd3b-4b70-ac21-8fca5528fe5a",
   "metadata": {},
   "outputs": [],
   "source": []
  },
  {
   "cell_type": "code",
   "execution_count": null,
   "id": "c8509915-f4db-442e-8731-b4d60fc66f86",
   "metadata": {},
   "outputs": [],
   "source": []
  },
  {
   "cell_type": "code",
   "execution_count": null,
   "id": "8b1f919d-285e-4d66-a0d8-f5c1adcec1ee",
   "metadata": {},
   "outputs": [],
   "source": [
    "# using a lambda call to define the function to integrate\n",
    "f = lambda x: 6*x*(1-x)\n",
    "\n",
    "a = 0\n",
    "b = 1\n",
    "N = 10000000\n",
    "dx = (b-a)/(N-1)\n",
    "\n",
    "# 1) a direct for loop in python \n",
    "t0 = time()\n",
    "\n",
    "res1 = 0\n",
    "for i in range(N-1): # range goes from 0 to N-2, semi-open interval\n",
    "    x = a + i*dx\n",
    "    res1 += f(x)\n",
    "res1 *= dx\n",
    "\n",
    "t1 = time()\n",
    "\n",
    "print('Direct loop in python. The result:', res1)\n",
    "print('And the time:', t1-t0)"
   ]
  },
  {
   "cell_type": "code",
   "execution_count": null,
   "id": "6964579b-8aa7-4414-a76c-30b91d663323",
   "metadata": {},
   "outputs": [],
   "source": []
  },
  {
   "cell_type": "code",
   "execution_count": null,
   "id": "f761423b-1a72-49e7-9403-f29aa8aa0317",
   "metadata": {},
   "outputs": [],
   "source": []
  },
  {
   "cell_type": "code",
   "execution_count": null,
   "id": "978c4cfc-51ab-46fc-98fd-fa704817162c",
   "metadata": {},
   "outputs": [],
   "source": []
  },
  {
   "cell_type": "code",
   "execution_count": null,
   "id": "2746c0d5-1c0d-4c08-bfda-c00faa0faee3",
   "metadata": {},
   "outputs": [],
   "source": []
  },
  {
   "cell_type": "code",
   "execution_count": null,
   "id": "768c0288-5d8d-41cf-8c9b-cb36d4cc8e3d",
   "metadata": {},
   "outputs": [],
   "source": [
    "# 2) using broadcast and auxiliary calls\n",
    "t0 = time()\n",
    "\n",
    "xs = np.linspace(a, b, N)\n",
    "res2 = np.sum(f(xs[:-1]))*dx\n",
    "\n",
    "t1 = time()\n",
    "\n",
    "print('Numpy broadcasting. The result:', res2)\n",
    "print('And the time:', t1-t0)"
   ]
  },
  {
   "cell_type": "code",
   "execution_count": null,
   "id": "1ceb2797-7346-4f6c-9821-c2a0a5392120",
   "metadata": {},
   "outputs": [],
   "source": []
  },
  {
   "cell_type": "code",
   "execution_count": null,
   "id": "1f2c7d9a-5edf-4acd-9555-7ff6354ab53c",
   "metadata": {},
   "outputs": [],
   "source": []
  },
  {
   "cell_type": "code",
   "execution_count": null,
   "id": "5b80d3f8-554e-4a7f-b19e-940be9b4778d",
   "metadata": {},
   "outputs": [],
   "source": []
  },
  {
   "cell_type": "code",
   "execution_count": null,
   "id": "bf019a71-cc80-4672-9f65-39b2cf305144",
   "metadata": {},
   "outputs": [],
   "source": []
  },
  {
   "cell_type": "code",
   "execution_count": null,
   "id": "f1317221-6e3f-4594-9285-6c4d00ca7def",
   "metadata": {},
   "outputs": [],
   "source": []
  },
  {
   "cell_type": "code",
   "execution_count": null,
   "id": "258524db-578d-492c-805d-80b815fd1f68",
   "metadata": {},
   "outputs": [],
   "source": []
  },
  {
   "cell_type": "markdown",
   "id": "17dc498d-1b4e-4b1b-a22e-75c2c2fb445a",
   "metadata": {},
   "source": [
    "## Vectorization\n",
    "\n",
    "Above we are using the fact that the function `f(x)` is **vectorized**: this means that its arguments (only `x` in this case) allows for elementwise operations with the numpy internal loops written in C. Thus leading to huge speedups.\n",
    "\n",
    "All numpy functions are vectorized: `np.sin(...), np.cos(...), np.exp(...)`, and so on. What would be a non-vectorized function?"
   ]
  },
  {
   "cell_type": "code",
   "execution_count": null,
   "id": "20840a47-f1e9-4660-a87b-248ecbbb366e",
   "metadata": {},
   "outputs": [],
   "source": [
    "def larger(x, y):\n",
    "    if x > y:\n",
    "        return x\n",
    "    else:\n",
    "        return y\n",
    "     \n",
    "# Let's test with simple numbers\n",
    "print('Which is larger, 3 or 5?', larger(3, 5))\n",
    "print('Which is larger, 5 or 3?', larger(5, 3))"
   ]
  },
  {
   "cell_type": "code",
   "execution_count": null,
   "id": "1f942824-403f-4d78-84f7-551803019903",
   "metadata": {},
   "outputs": [],
   "source": [
    "# and now with arrays\n",
    "a = np.array([4, 5, 6])\n",
    "b = np.array([7, 2, 8])\n",
    "\n",
    "print('Compare element by element will fail:', larger(a, b))"
   ]
  },
  {
   "cell_type": "markdown",
   "id": "3f0c9595-a8ed-459a-b54c-ccb54bcdc344",
   "metadata": {},
   "source": [
    "**How to fix it?**\n",
    "\n",
    "**See also:** `np.greater(...)` and other comparisons within numpy."
   ]
  },
  {
   "cell_type": "code",
   "execution_count": null,
   "id": "497e6720-16df-4aed-b02e-e5f5aa0b9f1f",
   "metadata": {},
   "outputs": [],
   "source": [
    "# wrapper to vectorize loops over elements of the inputs\n",
    "vlarger = np.vectorize(larger)\n",
    "\n",
    "print('Not it will work:', vlarger(a, b))"
   ]
  },
  {
   "cell_type": "code",
   "execution_count": null,
   "id": "12f92c0b-1e93-49fe-ad75-731a75c20d28",
   "metadata": {},
   "outputs": [],
   "source": []
  },
  {
   "cell_type": "code",
   "execution_count": null,
   "id": "64b7ef37-bf56-4c8a-8f63-86d577fcaf71",
   "metadata": {},
   "outputs": [],
   "source": []
  },
  {
   "cell_type": "code",
   "execution_count": null,
   "id": "c5e9a0b2-0cc2-48b7-a7ed-72baf64542bf",
   "metadata": {},
   "outputs": [],
   "source": []
  },
  {
   "cell_type": "code",
   "execution_count": null,
   "id": "54c7ca60-9a9f-4a7e-a1ad-42dbcd4b6dcb",
   "metadata": {},
   "outputs": [],
   "source": []
  },
  {
   "cell_type": "code",
   "execution_count": null,
   "id": "b9ff22dc-5ec4-4635-b190-24b043c0c76d",
   "metadata": {},
   "outputs": [],
   "source": []
  },
  {
   "cell_type": "code",
   "execution_count": null,
   "id": "ba9d6169-a7bb-4edf-97bd-983ecdf2cfaa",
   "metadata": {},
   "outputs": [],
   "source": []
  },
  {
   "cell_type": "code",
   "execution_count": null,
   "id": "234a11df-75db-4ec7-b26a-3aae33dcb6a5",
   "metadata": {},
   "outputs": [],
   "source": []
  },
  {
   "cell_type": "markdown",
   "id": "328625ee-36f4-4280-bb0b-831d8e88f45e",
   "metadata": {},
   "source": [
    "## Creating vectors with arrays\n",
    "\n",
    "Let's start with some simple methods to build arrays. Later will check generalization for matrices or tensors."
   ]
  },
  {
   "cell_type": "code",
   "execution_count": null,
   "id": "c3763ee8-120a-40c4-99bf-9939b0fcde60",
   "metadata": {},
   "outputs": [],
   "source": [
    "# both zeros and ones take the shape as argument\n",
    "x = np.zeros(5)\n",
    "y = np.ones(5)\n",
    "print('x =', x)\n",
    "print('y =', y)\n",
    "\n",
    "# creating one \"by hand\", or converting from list to array\n",
    "z = np.array([10, 5, 9, 15, 42])\n",
    "print('z =', z)"
   ]
  },
  {
   "cell_type": "code",
   "execution_count": null,
   "id": "2fab96d5-981b-4b6d-b67c-e47fa52668e3",
   "metadata": {},
   "outputs": [],
   "source": []
  },
  {
   "cell_type": "code",
   "execution_count": null,
   "id": "26ffd587-9500-4bc6-8ef4-ae48b93a7205",
   "metadata": {},
   "outputs": [],
   "source": []
  },
  {
   "cell_type": "code",
   "execution_count": null,
   "id": "3f900339-f597-4839-9727-a7cb8d62dec5",
   "metadata": {},
   "outputs": [],
   "source": []
  },
  {
   "cell_type": "code",
   "execution_count": null,
   "id": "4eb258f5-cc53-4a31-93e7-8d1b728a4fb9",
   "metadata": {},
   "outputs": [],
   "source": []
  },
  {
   "cell_type": "code",
   "execution_count": null,
   "id": "a6c250a1-e277-432c-a8fb-c37fc1a5c21e",
   "metadata": {},
   "outputs": [],
   "source": []
  },
  {
   "cell_type": "markdown",
   "id": "668880af-5ac8-4792-8fc9-e7c9c0ac72ac",
   "metadata": {},
   "source": [
    "## Linspace vs arange\n",
    "\n",
    "There are two similar and useful calls to define arrays over ranges:\n",
    "\n",
    "- `np.arange(a, b, dx)` creates an array over the semi-open interval `[a,b)` in steps of `dx`.\n",
    "- `np.linspace(a, b, n)` creates an array over the full interval `[a,b]` with `n` points.\n",
    "\n",
    "For **arange** the number of points will be $n = (b-a)/dx$.\n",
    "\n",
    "For **linspace** the step between points will be $dx = (b-a)/(n-1)$ by default. But the option `endpoint=False` makes it work with an semi-open interval `[a,b)`, and it becomes compatible with **arange**, with $dx = (b-a)/n$.\n",
    "\n",
    "Try it:"
   ]
  },
  {
   "cell_type": "code",
   "execution_count": null,
   "id": "7af03201-2f5a-4f67-b9fb-3bd0a7b263e3",
   "metadata": {},
   "outputs": [],
   "source": [
    "x = np.arange(0, 5, 1)\n",
    "print('Using arange:')\n",
    "print('n:', len(x))\n",
    "print('dx:', x[1]-x[0])\n",
    "print('x:', x)"
   ]
  },
  {
   "cell_type": "code",
   "execution_count": null,
   "id": "9185e537-4c2c-4147-9e9c-19fe398e6fcc",
   "metadata": {},
   "outputs": [],
   "source": []
  },
  {
   "cell_type": "code",
   "execution_count": null,
   "id": "c8938180-af5b-4e1b-8f20-5f119c368a19",
   "metadata": {},
   "outputs": [],
   "source": []
  },
  {
   "cell_type": "code",
   "execution_count": null,
   "id": "e0d92717-6a00-4d55-ab36-8d8f4982aaae",
   "metadata": {},
   "outputs": [],
   "source": [
    "x = np.linspace(0, 5, 5)\n",
    "print('Using linspace with full interval:')\n",
    "print('n:', len(x))\n",
    "print('dx:', x[1]-x[0])\n",
    "print('x:', x)"
   ]
  },
  {
   "cell_type": "code",
   "execution_count": null,
   "id": "af593f44-9c27-4a4d-a6d4-899c29657ce0",
   "metadata": {},
   "outputs": [],
   "source": []
  },
  {
   "cell_type": "code",
   "execution_count": null,
   "id": "75915e30-8885-4864-ad06-dc1df984659a",
   "metadata": {},
   "outputs": [],
   "source": []
  },
  {
   "cell_type": "code",
   "execution_count": null,
   "id": "4e954f80-cd59-4238-95b2-3f26d6f73396",
   "metadata": {},
   "outputs": [],
   "source": [
    "x = np.linspace(0, 5, 5, endpoint=False)\n",
    "print('Using linspace with semi-open interval:')\n",
    "print('n:', len(x))\n",
    "print('dx:', x[1]-x[0])\n",
    "print('x:', x)"
   ]
  },
  {
   "cell_type": "code",
   "execution_count": null,
   "id": "96ca1c10-f707-405f-9574-f839dcaae509",
   "metadata": {},
   "outputs": [],
   "source": []
  },
  {
   "cell_type": "code",
   "execution_count": null,
   "id": "d509daba-e255-42a3-a40d-5ed0deab3ee9",
   "metadata": {},
   "outputs": [],
   "source": []
  },
  {
   "cell_type": "code",
   "execution_count": null,
   "id": "fe9c6c57-0c03-49fe-97ba-f2ccb5fc6315",
   "metadata": {},
   "outputs": [],
   "source": []
  },
  {
   "cell_type": "code",
   "execution_count": null,
   "id": "6f8680f9-dc92-4d72-a485-de4a2c9cfa00",
   "metadata": {},
   "outputs": [],
   "source": []
  },
  {
   "cell_type": "code",
   "execution_count": null,
   "id": "bbb7ecd1-4a52-44bb-9136-d3fe6fee5b1f",
   "metadata": {},
   "outputs": [],
   "source": []
  },
  {
   "cell_type": "code",
   "execution_count": null,
   "id": "c5370208-d2f0-4401-92c1-7f5458919eaa",
   "metadata": {},
   "outputs": [],
   "source": []
  },
  {
   "cell_type": "code",
   "execution_count": null,
   "id": "cdc702e9-a0bf-4ce1-ac5a-356106ec843e",
   "metadata": {},
   "outputs": [],
   "source": []
  },
  {
   "cell_type": "code",
   "execution_count": null,
   "id": "867fa671-a520-4ed9-83e9-6dfb0e9d99b9",
   "metadata": {},
   "outputs": [],
   "source": []
  },
  {
   "cell_type": "code",
   "execution_count": null,
   "id": "1e64e3b9-208e-478f-92d6-da7d2f6820ff",
   "metadata": {},
   "outputs": [],
   "source": []
  },
  {
   "cell_type": "markdown",
   "id": "2c55fb7d-23e2-4832-901f-128ad915b407",
   "metadata": {},
   "source": [
    "## Indexing arrays\n",
    "\n",
    "**Sintax:** `x[i:f:s]` refers to the range from index `i` to `f` (not inclusive) in steps of `s`\n",
    "\n",
    "**First and last:** indexes start at 0, and the last one is -1.\n",
    "\n",
    "### Vectors\n",
    "\n",
    "Let's start with a 1D array of 15 elements and extract parts of it."
   ]
  },
  {
   "cell_type": "code",
   "execution_count": null,
   "id": "f3840b86-8585-48fa-9c55-9042bd5b47c6",
   "metadata": {},
   "outputs": [],
   "source": [
    "# semi-open interval [11, 26) with steps of 1 (implied)\n",
    "x = np.arange(11, 26) \n",
    "print('x:', x)\n",
    "print('n:', len(x))"
   ]
  },
  {
   "cell_type": "code",
   "execution_count": null,
   "id": "96014de8-f36a-46d9-b086-49a413383983",
   "metadata": {},
   "outputs": [],
   "source": []
  },
  {
   "cell_type": "code",
   "execution_count": null,
   "id": "eb312874-f420-4b4b-8086-3b25d84bd736",
   "metadata": {},
   "outputs": [],
   "source": []
  },
  {
   "cell_type": "code",
   "execution_count": null,
   "id": "85484eff-ac94-4318-b454-43890ecc59df",
   "metadata": {},
   "outputs": [],
   "source": [
    "# because it starts from zero\n",
    "print('The fifth element:', x[4]) "
   ]
  },
  {
   "cell_type": "code",
   "execution_count": null,
   "id": "29f9f3f1-261d-4a2f-93ce-27b3fa0eff11",
   "metadata": {},
   "outputs": [],
   "source": []
  },
  {
   "cell_type": "code",
   "execution_count": null,
   "id": "9b256a22-360e-498f-b3f4-7579a1127639",
   "metadata": {},
   "outputs": [],
   "source": []
  },
  {
   "cell_type": "code",
   "execution_count": null,
   "id": "826f402f-ca9d-49e2-b537-d4ad4fb24837",
   "metadata": {},
   "outputs": [],
   "source": [
    "# if initial index is implied: from the start\n",
    "print('The first five elements:', x[:5]) "
   ]
  },
  {
   "cell_type": "code",
   "execution_count": null,
   "id": "5cee161d-0d2f-4b2d-b106-744eef2c3d26",
   "metadata": {},
   "outputs": [],
   "source": []
  },
  {
   "cell_type": "code",
   "execution_count": null,
   "id": "d902f8f5-0115-4da8-b18b-c8729dc34689",
   "metadata": {},
   "outputs": [],
   "source": []
  },
  {
   "cell_type": "code",
   "execution_count": null,
   "id": "c48a6f99-811c-4bca-82ff-3a3691f9d815",
   "metadata": {},
   "outputs": [],
   "source": [
    "# negative counts backwards\n",
    "print('The last five elements:', x[-5:]) "
   ]
  },
  {
   "cell_type": "code",
   "execution_count": null,
   "id": "b0ce9af9-debb-474e-859e-27a8c586d8c9",
   "metadata": {},
   "outputs": [],
   "source": []
  },
  {
   "cell_type": "code",
   "execution_count": null,
   "id": "725b7aa8-5466-4c6b-9cbf-1034fce1795f",
   "metadata": {},
   "outputs": [],
   "source": []
  },
  {
   "cell_type": "code",
   "execution_count": null,
   "id": "015d3c14-f436-4e28-9757-98fdce343b93",
   "metadata": {},
   "outputs": [],
   "source": []
  },
  {
   "cell_type": "code",
   "execution_count": null,
   "id": "5dfbb128-be32-4d6c-be6b-8f8c688b9352",
   "metadata": {},
   "outputs": [],
   "source": []
  },
  {
   "cell_type": "code",
   "execution_count": null,
   "id": "e11614a5-d009-46ca-b567-70d1237a07e3",
   "metadata": {},
   "outputs": [],
   "source": [
    "# start and end implied, steps of 2\n",
    "print('All odd elements:', x[::2]) "
   ]
  },
  {
   "cell_type": "code",
   "execution_count": null,
   "id": "2a343421-1996-419c-859e-237201e4eb09",
   "metadata": {},
   "outputs": [],
   "source": []
  },
  {
   "cell_type": "code",
   "execution_count": null,
   "id": "bdb9bc83-26b9-44d6-9cad-635974d831c0",
   "metadata": {},
   "outputs": [],
   "source": []
  },
  {
   "cell_type": "code",
   "execution_count": null,
   "id": "896a6a5f-d240-4939-8023-ae66dee1d148",
   "metadata": {},
   "outputs": [],
   "source": [
    "# start and 1, end implied, steps of 2\n",
    "print('All even elements:', x[1::2]) "
   ]
  },
  {
   "cell_type": "code",
   "execution_count": null,
   "id": "8e0be44b-ac62-462c-a88c-816ec8e8fc8e",
   "metadata": {},
   "outputs": [],
   "source": []
  },
  {
   "cell_type": "code",
   "execution_count": null,
   "id": "e377239f-5fea-43b8-b4cf-9fe093e72ba6",
   "metadata": {},
   "outputs": [],
   "source": []
  },
  {
   "cell_type": "code",
   "execution_count": null,
   "id": "e378e7b7-06f3-4781-ac03-fdc492957774",
   "metadata": {},
   "outputs": [],
   "source": [
    "# 4 since it starts from 0, \n",
    "# 8 since it's a semi-open interval\n",
    "print('Elements from 5th to 8th:', x[4:8]) "
   ]
  },
  {
   "cell_type": "code",
   "execution_count": null,
   "id": "f3f6b917-315a-405c-9904-24954fa7e6dc",
   "metadata": {},
   "outputs": [],
   "source": []
  },
  {
   "cell_type": "code",
   "execution_count": null,
   "id": "72dfe5d5-5681-49ef-9592-1ca7a0ba3bec",
   "metadata": {},
   "outputs": [],
   "source": []
  },
  {
   "cell_type": "code",
   "execution_count": null,
   "id": "88e6d4aa-949b-4191-9bb1-1e3721a7af62",
   "metadata": {},
   "outputs": [],
   "source": [
    "# x>18 returns list of True/False\n",
    "print('Elements larger than 18:', x[x>18]) "
   ]
  },
  {
   "cell_type": "code",
   "execution_count": null,
   "id": "4ec41b8b-3ad5-4089-b55e-fed70b852fbe",
   "metadata": {},
   "outputs": [],
   "source": []
  },
  {
   "cell_type": "code",
   "execution_count": null,
   "id": "4844c149-bfb2-4aa1-8a74-86374707c5ee",
   "metadata": {},
   "outputs": [],
   "source": []
  },
  {
   "cell_type": "code",
   "execution_count": null,
   "id": "7b20b815-f58e-4f44-a3a6-e4f699a65539",
   "metadata": {},
   "outputs": [],
   "source": []
  },
  {
   "cell_type": "code",
   "execution_count": null,
   "id": "f44b26f5-96eb-44ce-af8b-c967d11707f5",
   "metadata": {},
   "outputs": [],
   "source": []
  },
  {
   "cell_type": "code",
   "execution_count": null,
   "id": "33233c30-5fa4-4bf2-afdb-cae8a5d8d82f",
   "metadata": {},
   "outputs": [],
   "source": []
  },
  {
   "cell_type": "code",
   "execution_count": null,
   "id": "3cb382b4-93a5-440b-beb7-dd312b7ff76b",
   "metadata": {},
   "outputs": [],
   "source": []
  },
  {
   "cell_type": "code",
   "execution_count": null,
   "id": "99405ad2-55a7-474a-a61a-435df7d8f1ec",
   "metadata": {},
   "outputs": [],
   "source": []
  },
  {
   "cell_type": "code",
   "execution_count": null,
   "id": "7cc86d0b-4441-4e08-b6f2-bbe8b1f09362",
   "metadata": {},
   "outputs": [],
   "source": []
  },
  {
   "cell_type": "markdown",
   "id": "572ec5ab-0afd-40f1-815a-baa132f2c976",
   "metadata": {
    "tags": []
   },
   "source": [
    "### Matrices\n",
    "\n",
    "It's all equivalent to above, but now we have lines and columns.\n",
    "\n",
    "`m[i,j]` will refer to line i and column j"
   ]
  },
  {
   "cell_type": "code",
   "execution_count": null,
   "id": "8683507b-d376-4279-90b9-49bb60821d89",
   "metadata": {},
   "outputs": [],
   "source": [
    "# rewrites the 1D vector x as a 3x5 matrix.\n",
    "m = x.reshape([3,5]) \n",
    "\n",
    "print(m)\n",
    "print('Shape of m:', m.shape)"
   ]
  },
  {
   "cell_type": "code",
   "execution_count": null,
   "id": "f57c4ccf-f264-44c4-b93c-4b6d0f1cbbce",
   "metadata": {},
   "outputs": [],
   "source": []
  },
  {
   "cell_type": "code",
   "execution_count": null,
   "id": "c7ec9440-b572-49e7-9d36-2b10eff95632",
   "metadata": {},
   "outputs": [],
   "source": []
  },
  {
   "cell_type": "code",
   "execution_count": null,
   "id": "18940bb3-ecec-41e4-8582-f84093a04f3c",
   "metadata": {},
   "outputs": [],
   "source": [
    "# 1, since it starts from 0, and : refers to all\n",
    "print('The second line:', m[1, :]) "
   ]
  },
  {
   "cell_type": "code",
   "execution_count": null,
   "id": "8282164f-5439-4e7f-9d0f-8ac6af2be11f",
   "metadata": {},
   "outputs": [],
   "source": []
  },
  {
   "cell_type": "code",
   "execution_count": null,
   "id": "c17b9f6d-da54-451e-9598-4e521674a8e0",
   "metadata": {},
   "outputs": [],
   "source": []
  },
  {
   "cell_type": "code",
   "execution_count": null,
   "id": "4bf37ad8-becc-457e-bb5e-30ec0789d8d4",
   "metadata": {},
   "outputs": [],
   "source": [
    "print('The third column:', m[:, 2])"
   ]
  },
  {
   "cell_type": "code",
   "execution_count": null,
   "id": "3af44545-7465-4207-ac01-9e0f0cdb6dd9",
   "metadata": {},
   "outputs": [],
   "source": []
  },
  {
   "cell_type": "code",
   "execution_count": null,
   "id": "0bcd6c7e-9953-4706-98aa-7a5deb3e0311",
   "metadata": {},
   "outputs": [],
   "source": []
  },
  {
   "cell_type": "code",
   "execution_count": null,
   "id": "2a1b38ab-8ce7-4701-969e-fb6ce9b8c732",
   "metadata": {},
   "outputs": [],
   "source": [
    "# remember that it counts from zero\n",
    "print('The element from line 2, column 3:', m[1,2]) "
   ]
  },
  {
   "cell_type": "code",
   "execution_count": null,
   "id": "d677deb0-20be-498a-974c-8d9f6711961d",
   "metadata": {},
   "outputs": [],
   "source": []
  },
  {
   "cell_type": "code",
   "execution_count": null,
   "id": "6f3c6a9f-4eb6-4a8b-b921-ab58a45c3d07",
   "metadata": {},
   "outputs": [],
   "source": []
  },
  {
   "cell_type": "code",
   "execution_count": null,
   "id": "11863212-bd62-4797-bf42-834dacab9046",
   "metadata": {},
   "outputs": [],
   "source": []
  },
  {
   "cell_type": "code",
   "execution_count": null,
   "id": "f7ca24d7-b5dc-42b8-8777-f160a218269f",
   "metadata": {},
   "outputs": [],
   "source": []
  },
  {
   "cell_type": "code",
   "execution_count": null,
   "id": "65d15940-e530-4a8d-9498-f6b7f5b711a6",
   "metadata": {},
   "outputs": [],
   "source": []
  },
  {
   "cell_type": "code",
   "execution_count": null,
   "id": "c67900ba-533d-49f6-9652-211ee180ebb6",
   "metadata": {},
   "outputs": [],
   "source": []
  },
  {
   "cell_type": "markdown",
   "id": "c3d3fdd5-94ad-4572-9e3e-e220dd25aeef",
   "metadata": {},
   "source": [
    "## Creating matrices"
   ]
  },
  {
   "cell_type": "code",
   "execution_count": null,
   "id": "63539ec1-7f95-4520-8f7a-e7c6e8e88f4e",
   "metadata": {},
   "outputs": [],
   "source": [
    "# by hand (or use comprehensions, see the previous tutorial)\n",
    "m = np.array([\n",
    "    [1, 2, 3],\n",
    "    [4, 5, 6],\n",
    "    [7, 8, 9]\n",
    "])\n",
    "\n",
    "print(m)\n",
    "print('Shape of m:', m.shape)"
   ]
  },
  {
   "cell_type": "code",
   "execution_count": null,
   "id": "6bcc0082-13ea-41a0-b545-ce34f2d3ec13",
   "metadata": {},
   "outputs": [],
   "source": []
  },
  {
   "cell_type": "code",
   "execution_count": null,
   "id": "078418ae-72e8-42c2-9df8-c38978642105",
   "metadata": {},
   "outputs": [],
   "source": []
  },
  {
   "cell_type": "code",
   "execution_count": null,
   "id": "e5a15e6d-fddd-423d-9178-7249a91da73a",
   "metadata": {},
   "outputs": [],
   "source": [
    "# identity\n",
    "m = np.eye(5)\n",
    "print(m)\n",
    "print('Shape of m:', m.shape)"
   ]
  },
  {
   "cell_type": "code",
   "execution_count": null,
   "id": "68832e44-5f2f-47e2-bc75-657b1c5ae2ca",
   "metadata": {},
   "outputs": [],
   "source": []
  },
  {
   "cell_type": "code",
   "execution_count": null,
   "id": "a47275bb-8366-4e14-b45f-0a54efd70b1d",
   "metadata": {},
   "outputs": [],
   "source": []
  },
  {
   "cell_type": "code",
   "execution_count": null,
   "id": "8bc78abc-26f7-4ed0-9f2c-1d8e54a4b24b",
   "metadata": {},
   "outputs": [],
   "source": [
    "# subdiagonals\n",
    "m = np.eye(5) + 4*np.eye(5, k=1) + 3*np.eye(5, k=-2)\n",
    "print(m)\n",
    "print('Shape of m:', m.shape)"
   ]
  },
  {
   "cell_type": "code",
   "execution_count": null,
   "id": "d1ad0340-0f0a-4dfe-8fd2-3fdb3df48a40",
   "metadata": {},
   "outputs": [],
   "source": []
  },
  {
   "cell_type": "code",
   "execution_count": null,
   "id": "de67e640-ac84-4649-96c9-696f50d414c7",
   "metadata": {},
   "outputs": [],
   "source": []
  },
  {
   "cell_type": "code",
   "execution_count": null,
   "id": "c3e19663-8d0c-4614-a0f1-c0820c648b0d",
   "metadata": {},
   "outputs": [],
   "source": [
    "# ones\n",
    "m = np.ones([3,5]) # takes the shape as argument\n",
    "print(m)\n",
    "print('Shape of m:', m.shape)"
   ]
  },
  {
   "cell_type": "code",
   "execution_count": null,
   "id": "45ef7719-65eb-41e0-85ff-0de69e061d81",
   "metadata": {},
   "outputs": [],
   "source": []
  },
  {
   "cell_type": "code",
   "execution_count": null,
   "id": "d0ded33f-3604-436b-bac9-d96919f1478b",
   "metadata": {},
   "outputs": [],
   "source": []
  },
  {
   "cell_type": "code",
   "execution_count": null,
   "id": "11c8af6b-7abb-4c1b-98a2-d4e53e000292",
   "metadata": {},
   "outputs": [],
   "source": [
    "# the same for zeros\n",
    "m = np.zeros([3,5]) # takes the shape as argument\n",
    "print(m)\n",
    "print('Shape of m:', m.shape)"
   ]
  }
 ],
 "metadata": {
  "kernelspec": {
   "display_name": "Python 3",
   "language": "python",
   "name": "python3"
  },
  "language_info": {
   "codemirror_mode": {
    "name": "ipython",
    "version": 3
   },
   "file_extension": ".py",
   "mimetype": "text/x-python",
   "name": "python",
   "nbconvert_exporter": "python",
   "pygments_lexer": "ipython3",
   "version": "3.9.7"
  }
 },
 "nbformat": 4,
 "nbformat_minor": 5
}
