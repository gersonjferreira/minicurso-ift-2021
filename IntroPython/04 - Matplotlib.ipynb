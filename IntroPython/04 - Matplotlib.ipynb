{
 "cells": [
  {
   "cell_type": "markdown",
   "id": "44497f30-fa2e-4676-9295-17778ecbd72f",
   "metadata": {},
   "source": [
    "# Matplotlib tutorial\n",
    "\n",
    "How to draw beautiful plots. A quick tutorial with only elementary examples. For more, please check:\n",
    "\n",
    "https://compphysics.readthedocs.io/python/matplotlib.html\n",
    "\n",
    "https://www.tutorialspoint.com/matplotlib/index.htm\n",
    "\n",
    "https://www.w3schools.com/python/matplotlib_pyplot.asp"
   ]
  },
  {
   "cell_type": "code",
   "execution_count": null,
   "id": "1069b238-4601-4802-b3e8-22c2594ff3a8",
   "metadata": {},
   "outputs": [],
   "source": [
    "import numpy as np\n",
    "import matplotlib.pyplot as plt\n",
    "\n",
    "# change the default font size\n",
    "plt.rcParams.update({'font.size': 20})"
   ]
  },
  {
   "cell_type": "markdown",
   "id": "4e482f68-bfb8-408a-93a1-49d041191eb7",
   "metadata": {},
   "source": [
    "## Simple plots from two arrays of points"
   ]
  },
  {
   "cell_type": "code",
   "execution_count": null,
   "id": "b343794f-278a-4641-9513-07a0dca4eb80",
   "metadata": {},
   "outputs": [],
   "source": [
    "x = np.array([1, 2, 3, 4, 5])\n",
    "y = np.array([0, 3, 8, 15, 24])\n",
    "\n",
    "# SCATTER PLOT = POINTS\n",
    "plt.figure()\n",
    "plt.scatter(x, y)\n",
    "plt.xlabel(r'The $x$ label')\n",
    "plt.ylabel(r'$y = x^2 - 1$')\n",
    "plt.show()"
   ]
  },
  {
   "cell_type": "code",
   "execution_count": null,
   "id": "c2d37bfe-3c4a-4b37-a12b-c7f4f972d71c",
   "metadata": {},
   "outputs": [],
   "source": [
    "# CONNECT THE LINES INSTEAD: plot\n",
    "plt.figure()\n",
    "plt.plot(x, y)\n",
    "plt.xlabel(r'The $x$ label')\n",
    "plt.ylabel(r'$y = x^2 - 1$')\n",
    "plt.show()"
   ]
  },
  {
   "cell_type": "code",
   "execution_count": null,
   "id": "0a411330-63cc-4520-91e4-359e3c05ad78",
   "metadata": {},
   "outputs": [],
   "source": [
    "# BOTH\n",
    "plt.figure()\n",
    "plt.scatter(x, y)\n",
    "plt.plot(x, y)\n",
    "plt.xlabel(r'The $x$ label')\n",
    "plt.ylabel(r'$y = x^2 - 1$')\n",
    "\n",
    "plt.tight_layout() # adjust the figure to match the boundaries\n",
    "plt.show()"
   ]
  },
  {
   "cell_type": "markdown",
   "id": "cc76d76e-40e9-47db-8724-a072abf1c4ff",
   "metadata": {},
   "source": [
    "## Legends, colors, limits, ..."
   ]
  },
  {
   "cell_type": "code",
   "execution_count": null,
   "id": "7fdaacb7-f67a-46d3-b55c-d1425105f3ba",
   "metadata": {},
   "outputs": [],
   "source": [
    "x = np.linspace(0, 2*np.pi, 300)\n",
    "y1 = np.sin(x)\n",
    "y2 = np.cos(x)\n",
    "y3 = np.tan(x)\n",
    "\n",
    "plt.figure(figsize=(6, 5))\n",
    "\n",
    "plt.plot(x, y1, label=R'$\\sin\\theta$')\n",
    "plt.plot(x, y2, label=R'$\\cos\\theta$', ls='--')\n",
    "plt.plot(x, y3, label=R'$\\tan\\theta$', ls='-.')\n",
    "\n",
    "plt.legend(fontsize=15, loc=(0, 1.05), ncol=3)\n",
    "\n",
    "plt.xlabel(R'$\\theta$ [rad]')\n",
    "plt.ylabel(R'Trigonometric functions')\n",
    "\n",
    "plt.xticks([0, np.pi/2, np.pi, 3*np.pi/2, 2*np.pi], \n",
    "           [\"0\", R\"$\\dfrac{\\pi}{2}$\", R\"$\\pi$\", R\"$\\dfrac{3\\pi}{2}$\", R\"$2\\pi$\"])\n",
    "\n",
    "plt.xlim(0, 2*np.pi)\n",
    "plt.ylim(-2, 2)\n",
    "plt.grid()\n",
    "\n",
    "plt.tight_layout()\n",
    "plt.savefig('Figures/trigonometric.png', dpi=300)\n",
    "plt.savefig('Figures/trigonometric.svg')\n",
    "plt.show()"
   ]
  },
  {
   "cell_type": "markdown",
   "id": "ee8f0aae-42ab-46ed-8594-23159e1ca81d",
   "metadata": {},
   "source": [
    "## Using subplots"
   ]
  },
  {
   "cell_type": "code",
   "execution_count": null,
   "id": "0a5fb111-1e6b-471c-824f-0f6848faddef",
   "metadata": {},
   "outputs": [],
   "source": [
    "x = np.linspace(-10, 10, 100)\n",
    "y1 = np.sin(x)/x\n",
    "y2 = np.exp(-x**2)\n",
    "y3 = np.tanh(x)\n",
    "y4 = x**2\n",
    "\n",
    "plt.figure(figsize=(8,6))\n",
    "\n",
    "plt.subplot(2, 2, 1)\n",
    "plt.plot(x, y1, c='C0')\n",
    "plt.xlabel(R'$x$')\n",
    "plt.ylabel(R'$\\sin(x)/x$')\n",
    "plt.text(0.05, 0.75, R'(a)', transform=plt.gca().transAxes)\n",
    "\n",
    "plt.subplot(2, 2, 2)\n",
    "plt.plot(x, y2, c='C1')\n",
    "plt.xlabel(R'$x$')\n",
    "plt.ylabel(R'$g(x)$')\n",
    "plt.text(0.05, 0.75, R'(b)', transform=plt.gca().transAxes)\n",
    "\n",
    "plt.subplot(2, 2, 3)\n",
    "plt.plot(x, y3, c='red')\n",
    "plt.xlabel(R'$x$')\n",
    "plt.ylabel(R'$\\tanh(x)$')\n",
    "plt.text(0.05, 0.75, R'(c)', transform=plt.gca().transAxes)\n",
    "\n",
    "plt.subplot(2, 2, 4)\n",
    "plt.plot(x, y4, c='#00FFFF')\n",
    "plt.xlabel(R'$x$')\n",
    "plt.ylabel(R'$x^2$')\n",
    "plt.text(0.15, 0.75, R'(d)', transform=plt.gca().transAxes)\n",
    "\n",
    "plt.tight_layout()\n",
    "plt.show()"
   ]
  },
  {
   "cell_type": "code",
   "execution_count": null,
   "id": "643bc043-d0ed-4267-85d3-72dd848e9aae",
   "metadata": {},
   "outputs": [],
   "source": []
  },
  {
   "cell_type": "code",
   "execution_count": null,
   "id": "d792c42c-6ef8-4bda-b8a0-076091bb0ba4",
   "metadata": {},
   "outputs": [],
   "source": []
  }
 ],
 "metadata": {
  "kernelspec": {
   "display_name": "Python 3",
   "language": "python",
   "name": "python3"
  },
  "language_info": {
   "codemirror_mode": {
    "name": "ipython",
    "version": 3
   },
   "file_extension": ".py",
   "mimetype": "text/x-python",
   "name": "python",
   "nbconvert_exporter": "python",
   "pygments_lexer": "ipython3",
   "version": "3.9.7"
  }
 },
 "nbformat": 4,
 "nbformat_minor": 5
}
