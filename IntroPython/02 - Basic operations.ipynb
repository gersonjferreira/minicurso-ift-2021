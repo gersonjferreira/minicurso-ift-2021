{
 "cells": [
  {
   "cell_type": "markdown",
   "id": "994c45ec-3f74-4d73-85e7-d60f20c418f7",
   "metadata": {
    "slideshow": {
     "slide_type": "slide"
    },
    "tags": []
   },
   "source": [
    "# Introduction to Phyton\n",
    "\n",
    "This is a very simple and limited set of examples for those using python for the first time. For more detail, please check online tutorials. My favorites are:\n",
    "\n",
    "https://www.w3schools.com/python/default.asp\n",
    "\n",
    "https://www.tutorialspoint.com/python/index.htm\n",
    "\n",
    "https://compphysics.readthedocs.io/\n",
    "\n",
    "-------------------------"
   ]
  },
  {
   "cell_type": "markdown",
   "id": "cd14d19d-ea5e-45b3-8469-fcdbbb98687b",
   "metadata": {
    "slideshow": {
     "slide_type": "slide"
    },
    "tags": []
   },
   "source": [
    "## Basic operations\n",
    "\n",
    "**1) Assignment**"
   ]
  },
  {
   "cell_type": "code",
   "execution_count": null,
   "id": "ca58ef89-fe61-49c5-8c5a-5d25b13e0871",
   "metadata": {
    "slideshow": {
     "slide_type": "subslide"
    },
    "tags": []
   },
   "outputs": [],
   "source": [
    "a = 3\n",
    "b = 4\n",
    "c = a**2 + b**2\n",
    "print('c = ', c)"
   ]
  },
  {
   "cell_type": "code",
   "execution_count": null,
   "id": "15f6e269-07ac-4589-abaa-45739c722dec",
   "metadata": {},
   "outputs": [],
   "source": []
  },
  {
   "cell_type": "code",
   "execution_count": null,
   "id": "c18dc125-4b4d-4290-8a7e-c37ad9663b5a",
   "metadata": {},
   "outputs": [],
   "source": []
  },
  {
   "cell_type": "code",
   "execution_count": null,
   "id": "f75e9dca-4f9c-4c62-a485-fd426a6a5ed4",
   "metadata": {},
   "outputs": [],
   "source": []
  },
  {
   "cell_type": "code",
   "execution_count": null,
   "id": "649a0a85-35f8-4d93-bbb6-b99be13ad81c",
   "metadata": {},
   "outputs": [],
   "source": []
  },
  {
   "cell_type": "code",
   "execution_count": null,
   "id": "3a8b142c-7ec5-4f2c-8889-fcf81d55de68",
   "metadata": {},
   "outputs": [],
   "source": []
  },
  {
   "cell_type": "code",
   "execution_count": null,
   "id": "6386ac7d-27bc-4c1b-a341-8e3da5b3b030",
   "metadata": {},
   "outputs": [],
   "source": []
  },
  {
   "cell_type": "code",
   "execution_count": null,
   "id": "34e8b5ad-cef0-4981-a023-c905277a1c94",
   "metadata": {},
   "outputs": [],
   "source": []
  },
  {
   "cell_type": "code",
   "execution_count": null,
   "id": "b6bda3fb-1f37-4891-8f91-d475879070d4",
   "metadata": {},
   "outputs": [],
   "source": []
  },
  {
   "cell_type": "code",
   "execution_count": null,
   "id": "c4e78107-70a7-4da6-9d45-7304960dccb7",
   "metadata": {},
   "outputs": [],
   "source": []
  },
  {
   "cell_type": "code",
   "execution_count": null,
   "id": "c6b1ed3b-f0e1-4a6c-bb80-a8414ba5afc9",
   "metadata": {},
   "outputs": [],
   "source": []
  },
  {
   "cell_type": "markdown",
   "id": "f22202db-13a3-47fa-920a-26bd93d3be66",
   "metadata": {
    "slideshow": {
     "slide_type": "slide"
    },
    "tags": []
   },
   "source": [
    "**2) If / else statements**"
   ]
  },
  {
   "cell_type": "code",
   "execution_count": null,
   "id": "dec86e5c-0ea1-45c9-aa37-f405fd23c6e9",
   "metadata": {
    "slideshow": {
     "slide_type": "subslide"
    },
    "tags": []
   },
   "outputs": [],
   "source": [
    "if a > b:\n",
    "    print('a is larger than b')\n",
    "elif a < b:\n",
    "    print('b is larger than a')\n",
    "else:\n",
    "    print('a is equal to b')"
   ]
  },
  {
   "cell_type": "code",
   "execution_count": null,
   "id": "d85cf638-e82a-4e39-968c-bce2524a3bb6",
   "metadata": {},
   "outputs": [],
   "source": []
  },
  {
   "cell_type": "code",
   "execution_count": null,
   "id": "e35ec186-680e-4480-a57c-e8d978f69f5b",
   "metadata": {},
   "outputs": [],
   "source": []
  },
  {
   "cell_type": "code",
   "execution_count": null,
   "id": "636df0d4-d6bd-465e-9932-101a46235210",
   "metadata": {},
   "outputs": [],
   "source": []
  },
  {
   "cell_type": "code",
   "execution_count": null,
   "id": "e240c55c-ce44-4ae6-9adb-26bc3c687529",
   "metadata": {},
   "outputs": [],
   "source": []
  },
  {
   "cell_type": "code",
   "execution_count": null,
   "id": "98f45f99-d83f-44cd-b528-d31c1436c77e",
   "metadata": {},
   "outputs": [],
   "source": []
  },
  {
   "cell_type": "code",
   "execution_count": null,
   "id": "52fd0a88-b4e4-4316-8283-bb8c5f98088c",
   "metadata": {},
   "outputs": [],
   "source": []
  },
  {
   "cell_type": "code",
   "execution_count": null,
   "id": "f6a93bff-d756-44d6-aa27-10a26e521db3",
   "metadata": {},
   "outputs": [],
   "source": []
  },
  {
   "cell_type": "code",
   "execution_count": null,
   "id": "5d160b4c-6f13-43de-89cf-2c0a2429f347",
   "metadata": {},
   "outputs": [],
   "source": []
  },
  {
   "cell_type": "code",
   "execution_count": null,
   "id": "a0b1148c-a852-4959-8abc-726dc9db4bf8",
   "metadata": {},
   "outputs": [],
   "source": []
  },
  {
   "cell_type": "code",
   "execution_count": null,
   "id": "913489c1-6f33-40cc-8f61-71be285dff9f",
   "metadata": {},
   "outputs": [],
   "source": []
  },
  {
   "cell_type": "markdown",
   "id": "c6d255a3-0dfd-411a-b182-5067fc03d9e7",
   "metadata": {
    "slideshow": {
     "slide_type": "slide"
    },
    "tags": []
   },
   "source": [
    "**3) Types of variables and floating point imprecision**"
   ]
  },
  {
   "cell_type": "code",
   "execution_count": null,
   "id": "dac134d5-702b-4f0d-9c3c-2f6e48a0a657",
   "metadata": {
    "slideshow": {
     "slide_type": "subslide"
    },
    "tags": []
   },
   "outputs": [],
   "source": [
    "x = 5         # int\n",
    "y = 4.2       # float\n",
    "Na = 6.022e23 # float\n",
    "z = 3 + 4j    # complex\n",
    "a = 'hello'   # string\n",
    "\n",
    "print(type(z))"
   ]
  },
  {
   "cell_type": "code",
   "execution_count": null,
   "id": "a95031d0-5dd4-4ebd-bf2c-c0971b1faaa5",
   "metadata": {},
   "outputs": [],
   "source": []
  },
  {
   "cell_type": "code",
   "execution_count": null,
   "id": "bd74afae-a225-4d6b-826b-4ed88e1c3da9",
   "metadata": {},
   "outputs": [],
   "source": []
  },
  {
   "cell_type": "code",
   "execution_count": null,
   "id": "cc6090ec-e2d5-4365-8eb5-9618ebd20b09",
   "metadata": {},
   "outputs": [],
   "source": []
  },
  {
   "cell_type": "code",
   "execution_count": null,
   "id": "434dd7f3-cb8a-4af3-a611-1b750698d19c",
   "metadata": {},
   "outputs": [],
   "source": []
  },
  {
   "cell_type": "code",
   "execution_count": null,
   "id": "24ef5fb6-d400-44c8-a07f-f49b2842ae4c",
   "metadata": {},
   "outputs": [],
   "source": []
  },
  {
   "cell_type": "code",
   "execution_count": null,
   "id": "2cd93db4-1019-449a-99ad-bcd81caa42da",
   "metadata": {},
   "outputs": [],
   "source": []
  },
  {
   "cell_type": "code",
   "execution_count": null,
   "id": "144088c9-6844-48bf-8d24-397c210c356b",
   "metadata": {},
   "outputs": [],
   "source": []
  },
  {
   "cell_type": "code",
   "execution_count": null,
   "id": "13d77bca-5a6b-4544-a034-3742cfd1fdab",
   "metadata": {},
   "outputs": [],
   "source": []
  },
  {
   "cell_type": "code",
   "execution_count": null,
   "id": "9d9b4fec-fd0e-420c-9ee8-46a55d0356c0",
   "metadata": {},
   "outputs": [],
   "source": []
  },
  {
   "cell_type": "markdown",
   "id": "83595eb8-42c6-409a-90f2-c0d97efee63f",
   "metadata": {
    "slideshow": {
     "slide_type": "subslide"
    },
    "tags": []
   },
   "source": [
    "Always remember that **floats** are binary approximations of real numbers. What is the big difference between these two examples below?"
   ]
  },
  {
   "cell_type": "code",
   "execution_count": null,
   "id": "5e312196-ec97-4312-8b02-58174c917aff",
   "metadata": {
    "slideshow": {
     "slide_type": "subslide"
    },
    "tags": []
   },
   "outputs": [],
   "source": [
    "# EXAMPLE 1:\n",
    "x = 0.1\n",
    "y = 3*x\n",
    "z = 0.3\n",
    "\n",
    "print('Is z == 0.3?', z == 0.3)\n",
    "print('Is z == y?', z == y)"
   ]
  },
  {
   "cell_type": "code",
   "execution_count": null,
   "id": "7bf87bd4-4dcb-41f7-aaeb-eb73a2dc6a79",
   "metadata": {
    "slideshow": {
     "slide_type": "subslide"
    },
    "tags": []
   },
   "outputs": [],
   "source": [
    "# EXAMPLE 2:\n",
    "x = 0.25\n",
    "y = 3*x\n",
    "z = 0.75\n",
    "\n",
    "print('Is z == 0.75?', z == 0.75)\n",
    "print('Is z == y?', z == y)"
   ]
  },
  {
   "cell_type": "code",
   "execution_count": null,
   "id": "78d39fb1-0e0f-4744-a75a-4e31498558bd",
   "metadata": {},
   "outputs": [],
   "source": []
  },
  {
   "cell_type": "code",
   "execution_count": null,
   "id": "35d5793a-3147-4ded-be96-d268417b8bf0",
   "metadata": {},
   "outputs": [],
   "source": []
  },
  {
   "cell_type": "code",
   "execution_count": null,
   "id": "be4dacd3-9fdb-42fc-9180-788eb54ca221",
   "metadata": {},
   "outputs": [],
   "source": []
  },
  {
   "cell_type": "code",
   "execution_count": null,
   "id": "d7c2a2c5-b618-41c9-ae0d-08c01793ad9d",
   "metadata": {},
   "outputs": [],
   "source": []
  },
  {
   "cell_type": "code",
   "execution_count": null,
   "id": "000e69c5-9dc8-4b85-a643-b4c6aa20f4cb",
   "metadata": {},
   "outputs": [],
   "source": []
  },
  {
   "cell_type": "code",
   "execution_count": null,
   "id": "ab646df1-ded7-41e8-bdef-993ec39f2444",
   "metadata": {},
   "outputs": [],
   "source": []
  },
  {
   "cell_type": "code",
   "execution_count": null,
   "id": "4bbfcd67-a16f-4d2d-8d18-d6385d6562b1",
   "metadata": {},
   "outputs": [],
   "source": []
  },
  {
   "cell_type": "code",
   "execution_count": null,
   "id": "dc7198ef-1aa0-4c35-9300-106135e3323a",
   "metadata": {},
   "outputs": [],
   "source": []
  },
  {
   "cell_type": "code",
   "execution_count": null,
   "id": "476f3516-c3d7-4fb4-bbb1-5218d3b93808",
   "metadata": {},
   "outputs": [],
   "source": []
  },
  {
   "cell_type": "markdown",
   "id": "88193e81-bb83-4d3a-af56-88a14361ddfe",
   "metadata": {
    "slideshow": {
     "slide_type": "subslide"
    },
    "tags": []
   },
   "source": [
    "**SOLUTION:**"
   ]
  },
  {
   "cell_type": "markdown",
   "id": "e23691aa-147a-4c5d-bea6-bff736f23dcd",
   "metadata": {
    "slideshow": {
     "slide_type": "subslide"
    },
    "tags": []
   },
   "source": [
    "In the first example, 0.1 is a *repeating fraction* in base 2, which reads \n",
    "\n",
    "- (0.1)$_b$ = 0.0001100110011... \n",
    "\n",
    "If we truncate it at these decimals, it would read back in base 10 as \n",
    "\n",
    "- (0.0001100110011)$_{10}$ = 0.0999755859375\n",
    "\n",
    "On the other hand, 0.25 = $2^{-2}$, which is exact in base 2 and reads as (0.25)$_b$ = 0.01\n",
    "\n",
    "Therefore, the correct comparison between **floats** is"
   ]
  },
  {
   "cell_type": "code",
   "execution_count": null,
   "id": "d81baf7e-ea8f-41ba-b9a2-a0763e69f96f",
   "metadata": {
    "slideshow": {
     "slide_type": "subslide"
    },
    "tags": []
   },
   "outputs": [],
   "source": [
    "small_number = 1e-12 # small enough be be considered zero\n",
    "\n",
    "# EXAMPLE 1:\n",
    "x = 0.1\n",
    "y = 3*x\n",
    "z = 0.3\n",
    "\n",
    "print('1) Is z == y?', abs(z-y) < small_number)\n",
    "\n",
    "# EXAMPLE 2:\n",
    "x = 0.25\n",
    "y = 3*x\n",
    "z = 0.75\n",
    "\n",
    "print('2) Is z == y?', abs(z-y) < small_number)"
   ]
  },
  {
   "cell_type": "code",
   "execution_count": null,
   "id": "f0f94713-03c3-4487-96c5-8a41e34e722b",
   "metadata": {},
   "outputs": [],
   "source": []
  },
  {
   "cell_type": "code",
   "execution_count": null,
   "id": "a6544a34-a700-4a5a-93eb-0c84d3a7d669",
   "metadata": {},
   "outputs": [],
   "source": []
  },
  {
   "cell_type": "code",
   "execution_count": null,
   "id": "db887166-4ad3-4172-8e50-f7c6f4c2b902",
   "metadata": {},
   "outputs": [],
   "source": []
  },
  {
   "cell_type": "code",
   "execution_count": null,
   "id": "97d47b26-8d81-497e-8bba-20f797f11b61",
   "metadata": {},
   "outputs": [],
   "source": []
  },
  {
   "cell_type": "code",
   "execution_count": null,
   "id": "0d0a189d-8c1b-4539-a905-536b7b89ecd4",
   "metadata": {},
   "outputs": [],
   "source": []
  },
  {
   "cell_type": "code",
   "execution_count": null,
   "id": "a53d3227-9cb4-4098-814b-4041d2fdc1eb",
   "metadata": {},
   "outputs": [],
   "source": []
  },
  {
   "cell_type": "code",
   "execution_count": null,
   "id": "53aa6c05-fc65-4dae-9798-1eec47071b32",
   "metadata": {},
   "outputs": [],
   "source": []
  },
  {
   "cell_type": "code",
   "execution_count": null,
   "id": "b2b2499d-81a1-48fa-b971-d1818ae1d52c",
   "metadata": {},
   "outputs": [],
   "source": []
  },
  {
   "cell_type": "code",
   "execution_count": null,
   "id": "458fe95b-8f1c-4e15-b6e5-fd879ad25c8d",
   "metadata": {},
   "outputs": [],
   "source": []
  },
  {
   "cell_type": "code",
   "execution_count": null,
   "id": "b09f1bd9-43f2-4625-be7e-5d596e0d9ff3",
   "metadata": {},
   "outputs": [],
   "source": []
  },
  {
   "cell_type": "code",
   "execution_count": null,
   "id": "bfdfcaec-3408-46a2-8707-3c3347191fe2",
   "metadata": {},
   "outputs": [],
   "source": []
  },
  {
   "cell_type": "markdown",
   "id": "00a87dca-a00a-4fc1-bec4-f7bdee8fde3a",
   "metadata": {
    "slideshow": {
     "slide_type": "slide"
    },
    "tags": []
   },
   "source": [
    "**4) Operators**\n",
    "\n",
    "Arithmetic: + , - , * , /\n",
    "\n",
    "Exponentiation: **\n",
    "- ex: `1024 == 2**10`\n",
    "\n",
    "Assignment: = , += , -= , *= , /=\n",
    "- ex: `x *= 3 → x = x*3`\n",
    "\n",
    "Comparison: ==, !=, >, >=, <, <=\n",
    "\n",
    "Logical: `and , or , not`\n",
    "\n",
    "Membership: in , not in\n",
    "- ex: `5 in [3, 2, 9]` → False\n",
    "\n",
    "Other useful: % (modulus), // (floor division)\n",
    "- ex: `17 // 3` → 5\n",
    "- ex: `17  % 3` → 2"
   ]
  },
  {
   "cell_type": "code",
   "execution_count": null,
   "id": "d6b53cbf-3e79-469b-b7b0-036a97baaa2a",
   "metadata": {},
   "outputs": [],
   "source": []
  },
  {
   "cell_type": "code",
   "execution_count": null,
   "id": "0aa7da8e-0933-4e79-9baf-8a571d7336bc",
   "metadata": {},
   "outputs": [],
   "source": []
  },
  {
   "cell_type": "code",
   "execution_count": null,
   "id": "40fbbe69-81cd-4d62-9493-b84f012cdc2b",
   "metadata": {},
   "outputs": [],
   "source": []
  },
  {
   "cell_type": "code",
   "execution_count": null,
   "id": "3396dfe9-f929-4842-b278-eb7b7f72b475",
   "metadata": {},
   "outputs": [],
   "source": []
  },
  {
   "cell_type": "code",
   "execution_count": null,
   "id": "9cd2c90d-9eb4-45a2-b5d5-b56ecaa6551d",
   "metadata": {},
   "outputs": [],
   "source": []
  },
  {
   "cell_type": "code",
   "execution_count": null,
   "id": "5c427c36-0d06-4653-9031-86e058f24677",
   "metadata": {},
   "outputs": [],
   "source": []
  },
  {
   "cell_type": "code",
   "execution_count": null,
   "id": "c895799b-9b83-4867-b0ac-fe2cbbf7e7cd",
   "metadata": {},
   "outputs": [],
   "source": []
  },
  {
   "cell_type": "code",
   "execution_count": null,
   "id": "75bb558f-8e06-45d5-8fea-37f90a3ca138",
   "metadata": {},
   "outputs": [],
   "source": []
  },
  {
   "cell_type": "code",
   "execution_count": null,
   "id": "90e16397-ac69-42bc-83d6-50b0ce3c4d41",
   "metadata": {},
   "outputs": [],
   "source": []
  },
  {
   "cell_type": "code",
   "execution_count": null,
   "id": "d00e3cbe-251d-4f7a-b242-181e345f978e",
   "metadata": {},
   "outputs": [],
   "source": []
  },
  {
   "cell_type": "code",
   "execution_count": null,
   "id": "9098f13a-2253-4a36-8b00-7a3281062830",
   "metadata": {},
   "outputs": [],
   "source": []
  },
  {
   "cell_type": "code",
   "execution_count": null,
   "id": "ea93e7c1-fdae-4011-837a-166c8eade25b",
   "metadata": {},
   "outputs": [],
   "source": []
  },
  {
   "cell_type": "markdown",
   "id": "e58961f6-8057-4580-9fc5-30d60d850a0d",
   "metadata": {
    "slideshow": {
     "slide_type": "slide"
    },
    "tags": []
   },
   "source": [
    "**5) Lists**"
   ]
  },
  {
   "cell_type": "code",
   "execution_count": null,
   "id": "b54b5a8a-c01b-45c8-b837-94f60f241233",
   "metadata": {
    "slideshow": {
     "slide_type": "subslide"
    },
    "tags": []
   },
   "outputs": [],
   "source": [
    "fruits = ['bananas', 'oranges']\n",
    "fruits.append('apples')\n",
    "fruits = fruits + ['grapes']\n",
    "fruits.sort()\n",
    "\n",
    "print('Length:', len(fruits))\n",
    "print('first:', fruits[0])\n",
    "print('last:', fruits[-1])"
   ]
  },
  {
   "cell_type": "code",
   "execution_count": null,
   "id": "59c94cad-67a8-43cb-bf26-ddcca2eebe48",
   "metadata": {},
   "outputs": [],
   "source": []
  },
  {
   "cell_type": "code",
   "execution_count": null,
   "id": "686580f6-8810-4973-9576-a61bfc0bf420",
   "metadata": {},
   "outputs": [],
   "source": []
  },
  {
   "cell_type": "code",
   "execution_count": null,
   "id": "b8bded2b-1de0-4853-b1b5-099e8b33cf0b",
   "metadata": {},
   "outputs": [],
   "source": []
  },
  {
   "cell_type": "code",
   "execution_count": null,
   "id": "16f03330-d414-4377-ad9c-9a687bb7140e",
   "metadata": {},
   "outputs": [],
   "source": []
  },
  {
   "cell_type": "code",
   "execution_count": null,
   "id": "a53546f1-88b8-49dc-a7c1-09b61a117286",
   "metadata": {},
   "outputs": [],
   "source": []
  },
  {
   "cell_type": "code",
   "execution_count": null,
   "id": "6497694c-5a67-4eb5-b0cd-171f43d6878a",
   "metadata": {},
   "outputs": [],
   "source": []
  },
  {
   "cell_type": "code",
   "execution_count": null,
   "id": "95bf2130-25fa-4ef9-9274-e0e81ac985cb",
   "metadata": {},
   "outputs": [],
   "source": []
  },
  {
   "cell_type": "code",
   "execution_count": null,
   "id": "3f0f53ff-ac8b-4ecc-b6cc-7f7973a120df",
   "metadata": {},
   "outputs": [],
   "source": []
  },
  {
   "cell_type": "code",
   "execution_count": null,
   "id": "c4cb7f40-ae51-4649-80eb-85cb5edbca74",
   "metadata": {},
   "outputs": [],
   "source": []
  },
  {
   "cell_type": "code",
   "execution_count": null,
   "id": "53b5c66b-e4e3-4e66-a406-c8702cb28775",
   "metadata": {},
   "outputs": [],
   "source": []
  },
  {
   "cell_type": "markdown",
   "id": "69fafae0-3aae-482a-9e8a-a0493ca16ad8",
   "metadata": {
    "slideshow": {
     "slide_type": "slide"
    }
   },
   "source": [
    "**6) For loops over lists**"
   ]
  },
  {
   "cell_type": "code",
   "execution_count": null,
   "id": "fac4b37d-69e0-4888-9067-66bbd5bafe39",
   "metadata": {
    "slideshow": {
     "slide_type": "subslide"
    }
   },
   "outputs": [],
   "source": [
    "for fruit in fruits:\n",
    "    print('we have', fruit)"
   ]
  },
  {
   "cell_type": "code",
   "execution_count": null,
   "id": "237d3c94-0640-472b-9b78-d221fafdbc24",
   "metadata": {},
   "outputs": [],
   "source": [
    "for i in [4, 5, 10]:\n",
    "    print('value of i is', i)"
   ]
  },
  {
   "cell_type": "code",
   "execution_count": null,
   "id": "b6dee718-b816-423e-8d0b-8c2bc9323792",
   "metadata": {},
   "outputs": [],
   "source": []
  },
  {
   "cell_type": "code",
   "execution_count": null,
   "id": "58fb02bf-954e-471f-9c23-e3caac192a16",
   "metadata": {},
   "outputs": [],
   "source": []
  },
  {
   "cell_type": "code",
   "execution_count": null,
   "id": "8111c7e2-a270-4baa-8027-02f0090bde90",
   "metadata": {},
   "outputs": [],
   "source": []
  },
  {
   "cell_type": "code",
   "execution_count": null,
   "id": "48b282dc-d05d-4dcd-b679-2c1e2ba34de0",
   "metadata": {},
   "outputs": [],
   "source": []
  },
  {
   "cell_type": "code",
   "execution_count": null,
   "id": "a5dd937a-f51c-44ac-a83c-e503d9427978",
   "metadata": {},
   "outputs": [],
   "source": []
  },
  {
   "cell_type": "code",
   "execution_count": null,
   "id": "9b034f72-3a7d-4be4-8710-48bc4c868aad",
   "metadata": {},
   "outputs": [],
   "source": []
  },
  {
   "cell_type": "code",
   "execution_count": null,
   "id": "f4ee347f-81ce-4b88-b2f8-eb96e0f7f7e0",
   "metadata": {},
   "outputs": [],
   "source": []
  },
  {
   "cell_type": "code",
   "execution_count": null,
   "id": "0f5835d9-c221-4cfb-8f9e-8b106b760e45",
   "metadata": {},
   "outputs": [],
   "source": []
  },
  {
   "cell_type": "code",
   "execution_count": null,
   "id": "5c231f56-689d-4200-93da-fb3635b5b8ae",
   "metadata": {},
   "outputs": [],
   "source": []
  },
  {
   "cell_type": "code",
   "execution_count": null,
   "id": "58852e20-9e52-4a69-9ae6-b9d1131909e0",
   "metadata": {},
   "outputs": [],
   "source": []
  },
  {
   "cell_type": "code",
   "execution_count": null,
   "id": "3090fe13-0d23-43d2-9116-f5f4778e5c4a",
   "metadata": {},
   "outputs": [],
   "source": []
  },
  {
   "cell_type": "code",
   "execution_count": null,
   "id": "2d23de05-4c11-4183-9e83-bdf2b2606fc4",
   "metadata": {},
   "outputs": [],
   "source": []
  },
  {
   "cell_type": "markdown",
   "id": "03f5818a-2e1c-4383-9ae6-4f1645f37d69",
   "metadata": {
    "slideshow": {
     "slide_type": "slide"
    }
   },
   "source": [
    "**7) Membership**"
   ]
  },
  {
   "cell_type": "code",
   "execution_count": null,
   "id": "2d41674a-d325-47eb-bcff-5d96301aa2a4",
   "metadata": {
    "slideshow": {
     "slide_type": "subslide"
    }
   },
   "outputs": [],
   "source": [
    "if 'grapes' in fruits:\n",
    "    print('yes, we have grapes')\n",
    "else:\n",
    "    print('no, we don’t have grapes')"
   ]
  },
  {
   "cell_type": "code",
   "execution_count": null,
   "id": "58b827e9-9c24-474a-83d3-6d4ad2ff5169",
   "metadata": {},
   "outputs": [],
   "source": []
  },
  {
   "cell_type": "code",
   "execution_count": null,
   "id": "c51a06ed-e513-4c98-9941-87cd98871aed",
   "metadata": {},
   "outputs": [],
   "source": []
  },
  {
   "cell_type": "code",
   "execution_count": null,
   "id": "021b78ad-1223-4304-8197-c3b70f120598",
   "metadata": {},
   "outputs": [],
   "source": []
  },
  {
   "cell_type": "code",
   "execution_count": null,
   "id": "8677acb5-8409-495d-aec9-be0933a11ca1",
   "metadata": {},
   "outputs": [],
   "source": []
  },
  {
   "cell_type": "code",
   "execution_count": null,
   "id": "54d5c385-6171-4945-aef7-3d4409b516ec",
   "metadata": {},
   "outputs": [],
   "source": []
  },
  {
   "cell_type": "code",
   "execution_count": null,
   "id": "0ca7621c-52e9-4b8e-bf58-8e7b61a9de69",
   "metadata": {},
   "outputs": [],
   "source": []
  },
  {
   "cell_type": "code",
   "execution_count": null,
   "id": "26542214-7044-40f6-be8f-9a091f9d59a6",
   "metadata": {},
   "outputs": [],
   "source": []
  },
  {
   "cell_type": "code",
   "execution_count": null,
   "id": "8c30f707-8ce2-4161-8955-fb7863388851",
   "metadata": {},
   "outputs": [],
   "source": []
  },
  {
   "cell_type": "code",
   "execution_count": null,
   "id": "019a1bfd-d491-4d21-b8d5-7cd23f486654",
   "metadata": {},
   "outputs": [],
   "source": []
  },
  {
   "cell_type": "code",
   "execution_count": null,
   "id": "5c6114ab-6b82-4ff3-8447-1be9cd7490ba",
   "metadata": {},
   "outputs": [],
   "source": []
  },
  {
   "cell_type": "code",
   "execution_count": null,
   "id": "7058fe7e-cfcb-47e9-8135-7ae99d827962",
   "metadata": {},
   "outputs": [],
   "source": []
  },
  {
   "cell_type": "code",
   "execution_count": null,
   "id": "130a8414-d24e-404c-a1c4-38a308b36ce6",
   "metadata": {},
   "outputs": [],
   "source": []
  },
  {
   "cell_type": "markdown",
   "id": "9300bc86-7a1c-4ec5-9d61-9f4140083822",
   "metadata": {
    "slideshow": {
     "slide_type": "slide"
    }
   },
   "source": [
    "**8) List over range of integers**\n",
    "\n",
    "Syntax:\n",
    "- range(n) → 0,1,..n-1\n",
    "- range(a, b, s) → semi-open interval (a,b] with steps s"
   ]
  },
  {
   "cell_type": "code",
   "execution_count": null,
   "id": "fe59bda5-849d-4ff6-bfeb-af77cc97e7a9",
   "metadata": {
    "slideshow": {
     "slide_type": "subslide"
    }
   },
   "outputs": [],
   "source": [
    "for i in range(3, 15, 2):\n",
    "    print(i)"
   ]
  },
  {
   "cell_type": "code",
   "execution_count": null,
   "id": "005bf7a4-b325-4dd7-9002-d6eacf245d41",
   "metadata": {
    "slideshow": {
     "slide_type": "subslide"
    }
   },
   "outputs": [],
   "source": [
    "for i in range(len(fruits)):\n",
    "    print(i, fruits[i])"
   ]
  },
  {
   "cell_type": "code",
   "execution_count": null,
   "id": "f8ab96b3-0fd8-46cc-97fe-df7ddeb66b2c",
   "metadata": {},
   "outputs": [],
   "source": []
  },
  {
   "cell_type": "code",
   "execution_count": null,
   "id": "c9f4dc8c-8672-4bb7-a980-8410959c02c1",
   "metadata": {},
   "outputs": [],
   "source": []
  },
  {
   "cell_type": "code",
   "execution_count": null,
   "id": "3c8392b1-a95e-401c-bf53-b96cfd3b0559",
   "metadata": {},
   "outputs": [],
   "source": []
  },
  {
   "cell_type": "code",
   "execution_count": null,
   "id": "a469d6c4-ab17-448a-97b0-3cf662a7127c",
   "metadata": {},
   "outputs": [],
   "source": []
  },
  {
   "cell_type": "code",
   "execution_count": null,
   "id": "ca5a8fec-b75e-4de9-9658-d02e3d700433",
   "metadata": {},
   "outputs": [],
   "source": []
  },
  {
   "cell_type": "code",
   "execution_count": null,
   "id": "e29cc956-4572-454f-b761-7895bcea4830",
   "metadata": {},
   "outputs": [],
   "source": []
  },
  {
   "cell_type": "code",
   "execution_count": null,
   "id": "dbb23bfd-1787-40a4-9b75-9e334adaa304",
   "metadata": {},
   "outputs": [],
   "source": []
  },
  {
   "cell_type": "code",
   "execution_count": null,
   "id": "fb6259c9-5a82-48a5-80e4-30aef73ec438",
   "metadata": {},
   "outputs": [],
   "source": []
  },
  {
   "cell_type": "code",
   "execution_count": null,
   "id": "f221ba69-2f63-4b5e-904f-756d3464c9f1",
   "metadata": {},
   "outputs": [],
   "source": []
  },
  {
   "cell_type": "code",
   "execution_count": null,
   "id": "ab822a59-fbe8-4e43-a872-ba92efbce3fc",
   "metadata": {},
   "outputs": [],
   "source": []
  },
  {
   "cell_type": "code",
   "execution_count": null,
   "id": "1d508c19-1b5e-498a-adcb-6b48ce7bdaf9",
   "metadata": {},
   "outputs": [],
   "source": []
  },
  {
   "cell_type": "markdown",
   "id": "e874e979-4c91-430f-9f66-520393f25348",
   "metadata": {
    "slideshow": {
     "slide_type": "slide"
    }
   },
   "source": [
    "**9) Functions and docstrings**"
   ]
  },
  {
   "cell_type": "code",
   "execution_count": null,
   "id": "94ed2960-5b0e-4ef6-b401-2cb42fa18bfd",
   "metadata": {
    "slideshow": {
     "slide_type": "subslide"
    }
   },
   "outputs": [],
   "source": [
    "def bhaskara(a, b, c=0):\n",
    "    '''\n",
    "    Calculates the roots of ax²+bx+c=0.\n",
    "    \n",
    "    Input:\n",
    "    ------\n",
    "        a, b, c: (floats or integers)\n",
    "        Coefficients of the quadratic polynomial. \n",
    "        If not given, c is assumed to be 0 just for this example.\n",
    "        \n",
    "    Output:\n",
    "    -------\n",
    "        x1, x2: (tuple of floats or complex)\n",
    "        The roots x1 and x2.\n",
    "    '''\n",
    "    d = (b**2-4*a*c)**0.5\n",
    "    x1 = (-b+d)/(2*a)\n",
    "    x2 = (-b-d)/(2*a)\n",
    "    return x1, x2"
   ]
  },
  {
   "cell_type": "code",
   "execution_count": null,
   "id": "88e4c1d1-6daa-491c-ad16-def3662668a6",
   "metadata": {},
   "outputs": [],
   "source": []
  },
  {
   "cell_type": "code",
   "execution_count": null,
   "id": "4fe4dc8a-628c-473f-90d0-3b8133091fdd",
   "metadata": {},
   "outputs": [],
   "source": []
  },
  {
   "cell_type": "code",
   "execution_count": null,
   "id": "33ce4d11-d1ff-4d26-bbb7-5bc62e07ee07",
   "metadata": {},
   "outputs": [],
   "source": [
    "# calling the function\n",
    "r1, r2 = bhaskara(1, -5, 6)\n",
    "print('roots:', r1, ' and', r2)\n",
    "\n",
    "# try now with calls to \n",
    "#   bhaskara(1, -5)\n",
    "#   bhaskara(1, -5, 7.25)"
   ]
  },
  {
   "cell_type": "code",
   "execution_count": null,
   "id": "b2aae1a6-197d-4fee-aa50-a328fec57605",
   "metadata": {},
   "outputs": [],
   "source": []
  },
  {
   "cell_type": "code",
   "execution_count": null,
   "id": "3720e7e3-14fc-4c4f-876b-b68ebf297364",
   "metadata": {},
   "outputs": [],
   "source": []
  },
  {
   "cell_type": "code",
   "execution_count": null,
   "id": "e047523b-bb5f-4e6d-9eca-25be66117908",
   "metadata": {},
   "outputs": [],
   "source": []
  },
  {
   "cell_type": "code",
   "execution_count": null,
   "id": "ce92c653-1361-416c-888f-ec8871560513",
   "metadata": {},
   "outputs": [],
   "source": []
  },
  {
   "cell_type": "code",
   "execution_count": null,
   "id": "d171ca8b-8e37-4bfb-9dc6-8c15b763ab6e",
   "metadata": {},
   "outputs": [],
   "source": []
  },
  {
   "cell_type": "code",
   "execution_count": null,
   "id": "64aa0c12-bb7c-4228-9755-0382b61608a2",
   "metadata": {},
   "outputs": [],
   "source": []
  },
  {
   "cell_type": "code",
   "execution_count": null,
   "id": "0078f594-9022-4ea6-8ee8-0fd99ee535a8",
   "metadata": {},
   "outputs": [],
   "source": []
  },
  {
   "cell_type": "code",
   "execution_count": null,
   "id": "e9c6a285-949b-43dc-afc1-218d3ac7bd45",
   "metadata": {},
   "outputs": [],
   "source": []
  },
  {
   "cell_type": "code",
   "execution_count": null,
   "id": "0d522595-7307-472d-8bef-127003031877",
   "metadata": {},
   "outputs": [],
   "source": []
  },
  {
   "cell_type": "code",
   "execution_count": null,
   "id": "79382567-49e9-44c6-8309-0a2af7335cdc",
   "metadata": {},
   "outputs": [],
   "source": []
  },
  {
   "cell_type": "markdown",
   "id": "be122f2e-36ee-4055-8dc2-106667d5e1c1",
   "metadata": {
    "slideshow": {
     "slide_type": "slide"
    }
   },
   "source": [
    "**10) Lambda inline functions**"
   ]
  },
  {
   "cell_type": "code",
   "execution_count": null,
   "id": "4b3dbc07-03c8-4a44-97c5-7d4edbbecdc4",
   "metadata": {
    "slideshow": {
     "slide_type": "subslide"
    }
   },
   "outputs": [],
   "source": [
    "def quadratic(a, x):\n",
    "    return 5*a*x**2\n",
    "    \n",
    "square = lambda a, x: 5*a*x**2\n",
    "\n",
    "print('The long form:', quadratic(1, 2))\n",
    "print('The short form:', square(1, 2))"
   ]
  },
  {
   "cell_type": "code",
   "execution_count": null,
   "id": "1a5502b0-74a2-4d60-91bf-c6c81de6ef8a",
   "metadata": {},
   "outputs": [],
   "source": []
  },
  {
   "cell_type": "code",
   "execution_count": null,
   "id": "9f98483d-ed37-4f20-8f1e-48599ed86a36",
   "metadata": {},
   "outputs": [],
   "source": []
  },
  {
   "cell_type": "code",
   "execution_count": null,
   "id": "5d333b30-1890-4da8-9e99-d6f5ef1c89dd",
   "metadata": {},
   "outputs": [],
   "source": []
  },
  {
   "cell_type": "code",
   "execution_count": null,
   "id": "2c06b3e4-cfff-45ec-848d-3f3c6840adcf",
   "metadata": {},
   "outputs": [],
   "source": []
  },
  {
   "cell_type": "code",
   "execution_count": null,
   "id": "60a0e064-e20a-4206-9fae-c9151dbd029d",
   "metadata": {},
   "outputs": [],
   "source": []
  },
  {
   "cell_type": "code",
   "execution_count": null,
   "id": "c5fbd12a-955a-42f7-a1ae-0951f8a9cdc6",
   "metadata": {},
   "outputs": [],
   "source": []
  },
  {
   "cell_type": "code",
   "execution_count": null,
   "id": "12e8b196-93a2-4565-b36a-30974053be42",
   "metadata": {},
   "outputs": [],
   "source": []
  },
  {
   "cell_type": "code",
   "execution_count": null,
   "id": "d6846520-ba21-4c4d-9239-7f8a72b70707",
   "metadata": {},
   "outputs": [],
   "source": []
  },
  {
   "cell_type": "code",
   "execution_count": null,
   "id": "a9b4d3b0-b582-4e1c-a8a1-31c4ecdbe033",
   "metadata": {},
   "outputs": [],
   "source": []
  },
  {
   "cell_type": "code",
   "execution_count": null,
   "id": "5f671eb5-4562-4bc5-b89a-190f924630fd",
   "metadata": {},
   "outputs": [],
   "source": []
  },
  {
   "cell_type": "markdown",
   "id": "433d2ca8-5753-4324-aea4-979d5846a48e",
   "metadata": {
    "slideshow": {
     "slide_type": "slide"
    }
   },
   "source": [
    "**11) Libraries**"
   ]
  },
  {
   "cell_type": "code",
   "execution_count": null,
   "id": "3a4bd1bd-f9fc-43e7-a22d-954185129bc9",
   "metadata": {
    "slideshow": {
     "slide_type": "subslide"
    }
   },
   "outputs": [],
   "source": [
    "# importing a single function from a lib\n",
    "from numpy import sqrt\n",
    "\n",
    "print('Square root of 2 is', sqrt(2))\n",
    "\n",
    "# importing the full lib and giving it an alias\n",
    "import numpy as np\n",
    "\n",
    "print('Square root of 4 is', np.sqrt(4))"
   ]
  },
  {
   "cell_type": "code",
   "execution_count": null,
   "id": "06bb4dd2-bc22-469f-8fbf-cbcef42c969a",
   "metadata": {},
   "outputs": [],
   "source": []
  },
  {
   "cell_type": "code",
   "execution_count": null,
   "id": "4988bfbc-03eb-407c-b705-1eb3af6b0f49",
   "metadata": {},
   "outputs": [],
   "source": []
  },
  {
   "cell_type": "code",
   "execution_count": null,
   "id": "8c6aea0f-439f-4333-a595-af94a8910aae",
   "metadata": {},
   "outputs": [],
   "source": []
  },
  {
   "cell_type": "code",
   "execution_count": null,
   "id": "6f91d077-cace-4dbe-9826-5beed04b4e40",
   "metadata": {},
   "outputs": [],
   "source": []
  },
  {
   "cell_type": "code",
   "execution_count": null,
   "id": "2cf4f1c8-067e-48bd-bd45-e8bf60f1c070",
   "metadata": {},
   "outputs": [],
   "source": []
  },
  {
   "cell_type": "code",
   "execution_count": null,
   "id": "a262de0a-f073-4809-8dfc-869f0b04e0fc",
   "metadata": {},
   "outputs": [],
   "source": []
  },
  {
   "cell_type": "code",
   "execution_count": null,
   "id": "e4c71fad-b9a9-4d5e-ad30-7a61d8310b8f",
   "metadata": {},
   "outputs": [],
   "source": []
  },
  {
   "cell_type": "code",
   "execution_count": null,
   "id": "a11392ca-b60b-4250-9f6f-e8474e6cbfec",
   "metadata": {},
   "outputs": [],
   "source": []
  },
  {
   "cell_type": "code",
   "execution_count": null,
   "id": "013c226f-7353-4453-ade2-aec638d5ee58",
   "metadata": {},
   "outputs": [],
   "source": []
  },
  {
   "cell_type": "code",
   "execution_count": null,
   "id": "469f1ca6-4b30-435e-b685-b1c6c031181e",
   "metadata": {},
   "outputs": [],
   "source": []
  },
  {
   "cell_type": "code",
   "execution_count": null,
   "id": "a02cf446-66d5-4d73-ad5c-2c29f94e133b",
   "metadata": {},
   "outputs": [],
   "source": []
  },
  {
   "cell_type": "markdown",
   "id": "17341a85-e7ff-41e5-8c75-abfb3e57a7b6",
   "metadata": {
    "slideshow": {
     "slide_type": "slide"
    }
   },
   "source": [
    "**12) Comprehensions**\n",
    "\n",
    "The comprehensions does not require *numpy*, but quite often we'll combine it with *numpy* for faster data manipulation (we'll discuss **numpy broadcast** later)."
   ]
  },
  {
   "cell_type": "code",
   "execution_count": null,
   "id": "7f2728d0-105d-4658-bda9-a4283fcbc0da",
   "metadata": {
    "slideshow": {
     "slide_type": "subslide"
    }
   },
   "outputs": [],
   "source": [
    "# simple function to illustrate the calls\n",
    "f = lambda i: i**2\n",
    "\n",
    "# short loop notation to set a vector\n",
    "avector = np.array([ f(i) for i in range(5) ])\n",
    "\n",
    "print(avector)"
   ]
  },
  {
   "cell_type": "code",
   "execution_count": null,
   "id": "b642327d-0549-4a36-ba96-658e66794da0",
   "metadata": {},
   "outputs": [],
   "source": []
  },
  {
   "cell_type": "code",
   "execution_count": null,
   "id": "38716eb3-48fb-4b9b-b389-b039a3911fed",
   "metadata": {},
   "outputs": [],
   "source": []
  },
  {
   "cell_type": "code",
   "execution_count": null,
   "id": "f67b7564-0388-4cdd-ace7-0f3fbc065900",
   "metadata": {
    "slideshow": {
     "slide_type": "subslide"
    }
   },
   "outputs": [],
   "source": [
    "# is equivalent to this for loop\n",
    "avector = np.zeros(5)\n",
    "for i in range(5):\n",
    "    avector[i] = f(i)\n",
    "\n",
    "print(avector)"
   ]
  },
  {
   "cell_type": "code",
   "execution_count": null,
   "id": "b0cb10a8-02ed-4f63-ba7b-f3a04609248b",
   "metadata": {},
   "outputs": [],
   "source": []
  },
  {
   "cell_type": "code",
   "execution_count": null,
   "id": "5f483a40-b4bc-46f8-8320-62000ed081c5",
   "metadata": {},
   "outputs": [],
   "source": []
  },
  {
   "cell_type": "code",
   "execution_count": null,
   "id": "fa54f3d4-b544-4b74-86b4-555f7a8fcf69",
   "metadata": {
    "slideshow": {
     "slide_type": "subslide"
    }
   },
   "outputs": [],
   "source": [
    "# or even this one that starts with an empty list\n",
    "# WE DON'T LIKE THIS APPROACH\n",
    "avector = []\n",
    "for i in range(5):\n",
    "    avector += [f(i)]\n",
    "avector = np.array(avector)\n",
    "\n",
    "print(avector)"
   ]
  },
  {
   "cell_type": "code",
   "execution_count": null,
   "id": "cf898365-41b4-4baf-9929-c92f02da97d4",
   "metadata": {},
   "outputs": [],
   "source": []
  },
  {
   "cell_type": "code",
   "execution_count": null,
   "id": "fc81b20f-ab8f-411b-8df2-0c18299d6a85",
   "metadata": {
    "slideshow": {
     "slide_type": "subslide"
    }
   },
   "outputs": [],
   "source": [
    "# since we are talking about numpy already\n",
    "# it can be also defined as\n",
    "avector = f(np.arange(5)) # assuming f(i) is vectorizable\n",
    "\n",
    "print(avector)"
   ]
  },
  {
   "cell_type": "code",
   "execution_count": null,
   "id": "a6de962d-b1a3-425d-9f17-cc4ba96948fa",
   "metadata": {},
   "outputs": [],
   "source": []
  },
  {
   "cell_type": "code",
   "execution_count": null,
   "id": "e62f5666-f36e-44e0-990b-205565795716",
   "metadata": {
    "slideshow": {
     "slide_type": "subslide"
    }
   },
   "outputs": [],
   "source": [
    "# it can also be used to build matrices or tensors\n",
    "\n",
    "# simple function to ilustrete\n",
    "f = lambda i,j: i + j*1j\n",
    "\n",
    "# loops run over columns first and then lines\n",
    "columns = range(3)\n",
    "lines = range(3)\n",
    "amatrix = np.array(\n",
    "    [\n",
    "        [f(i, j) for j in columns] \n",
    "                 for i in lines\n",
    "    ])\n",
    "\n",
    "print(amatrix)"
   ]
  },
  {
   "cell_type": "code",
   "execution_count": null,
   "id": "3b11b485-da28-44e6-8ab0-bff599c6b54c",
   "metadata": {},
   "outputs": [],
   "source": []
  },
  {
   "cell_type": "code",
   "execution_count": null,
   "id": "cc4752cc-4066-4762-86ca-62722ddb697c",
   "metadata": {
    "slideshow": {
     "slide_type": "subslide"
    }
   },
   "outputs": [],
   "source": [
    "# is equivalent to two nested loops\n",
    "amatrix = np.zeros([3,3], dtype=complex)\n",
    "for i in range(3):\n",
    "    for j in range(3):\n",
    "        amatrix[i, j] = f(i, j)\n",
    "\n",
    "print(amatrix)"
   ]
  },
  {
   "cell_type": "code",
   "execution_count": null,
   "id": "4b138b51-9596-4f36-a2dc-d03319e21d52",
   "metadata": {},
   "outputs": [],
   "source": []
  },
  {
   "cell_type": "code",
   "execution_count": null,
   "id": "18e29014-2af6-4b30-bd0a-8a05ed0aafc9",
   "metadata": {},
   "outputs": [],
   "source": []
  },
  {
   "cell_type": "code",
   "execution_count": null,
   "id": "e25d3c56-fa4d-41b8-8fd2-4a09992c6d1c",
   "metadata": {},
   "outputs": [],
   "source": []
  },
  {
   "cell_type": "code",
   "execution_count": null,
   "id": "fe3d1df2-33c8-4cb1-981a-13ceb8ffcedb",
   "metadata": {},
   "outputs": [],
   "source": []
  },
  {
   "cell_type": "code",
   "execution_count": null,
   "id": "97188ac9-c532-445b-85a6-068baa1d8c65",
   "metadata": {},
   "outputs": [],
   "source": []
  },
  {
   "cell_type": "code",
   "execution_count": null,
   "id": "9bb4571d-c56b-4c60-af20-901e33030057",
   "metadata": {},
   "outputs": [],
   "source": []
  },
  {
   "cell_type": "code",
   "execution_count": null,
   "id": "4a87ee3f-e2e6-4959-abd3-50f3b23e6443",
   "metadata": {},
   "outputs": [],
   "source": []
  },
  {
   "cell_type": "code",
   "execution_count": null,
   "id": "d0e25a54-019c-41c6-a408-bdd6f651ec0a",
   "metadata": {},
   "outputs": [],
   "source": []
  },
  {
   "cell_type": "code",
   "execution_count": null,
   "id": "4c741ad8-5dc8-47ae-8542-6e6c630dc33c",
   "metadata": {},
   "outputs": [],
   "source": []
  },
  {
   "cell_type": "code",
   "execution_count": null,
   "id": "3f13e3b9-cb58-446d-b621-d4d85de37fab",
   "metadata": {},
   "outputs": [],
   "source": []
  },
  {
   "cell_type": "markdown",
   "id": "1a41bcd4-8aef-4ea7-96fb-c3a69ec92015",
   "metadata": {
    "slideshow": {
     "slide_type": "slide"
    }
   },
   "source": [
    "**13) Dictionaries**"
   ]
  },
  {
   "cell_type": "code",
   "execution_count": null,
   "id": "4fad5daf-3149-4148-8725-5e3c128b3dec",
   "metadata": {
    "slideshow": {
     "slide_type": "subslide"
    }
   },
   "outputs": [],
   "source": [
    "params = {}\n",
    "params['temperature'] = 300\n",
    "params['mag. field'] = 10\n",
    "params['method'] = 'RK4'\n",
    "\n",
    "print('List all params:', params)\n",
    "print('T =', params['temperature'])"
   ]
  },
  {
   "cell_type": "code",
   "execution_count": null,
   "id": "8dd1a076-f752-48bc-9028-769c08317a5c",
   "metadata": {},
   "outputs": [],
   "source": []
  },
  {
   "cell_type": "code",
   "execution_count": null,
   "id": "d47e138d-9064-4fcd-ad60-7283a2dd9536",
   "metadata": {},
   "outputs": [],
   "source": []
  },
  {
   "cell_type": "code",
   "execution_count": null,
   "id": "2b2fb997-8ef6-4c46-99c2-858d9f510b10",
   "metadata": {},
   "outputs": [],
   "source": []
  },
  {
   "cell_type": "code",
   "execution_count": null,
   "id": "bff5c06f-7f5a-42c7-81b8-0261ec0138ab",
   "metadata": {},
   "outputs": [],
   "source": []
  },
  {
   "cell_type": "code",
   "execution_count": null,
   "id": "ae601616-85d3-4334-acbf-4c97319af708",
   "metadata": {},
   "outputs": [],
   "source": []
  },
  {
   "cell_type": "code",
   "execution_count": null,
   "id": "00f65985-c949-435a-9acb-8d6ed0438282",
   "metadata": {},
   "outputs": [],
   "source": []
  },
  {
   "cell_type": "code",
   "execution_count": null,
   "id": "fe39eb59-1c69-4d90-8dc0-afe21bf8e007",
   "metadata": {},
   "outputs": [],
   "source": []
  },
  {
   "cell_type": "code",
   "execution_count": null,
   "id": "3400deb7-4599-4d55-a2c7-fb8f28bc929d",
   "metadata": {},
   "outputs": [],
   "source": []
  },
  {
   "cell_type": "code",
   "execution_count": null,
   "id": "5729f07d-c7ba-4878-95e7-8cdf295b80e6",
   "metadata": {},
   "outputs": [],
   "source": []
  },
  {
   "cell_type": "code",
   "execution_count": null,
   "id": "e9ac74ee-35fa-4fbc-97f7-870c02899d12",
   "metadata": {},
   "outputs": [],
   "source": []
  },
  {
   "cell_type": "markdown",
   "id": "c4bf2eb3-22b9-48f0-ae70-c48dbf3852a8",
   "metadata": {
    "slideshow": {
     "slide_type": "slide"
    }
   },
   "source": [
    "-------------------------\n",
    "## Exercise: factorial\n",
    "\n",
    "Write a function called `myfactorial` that uses a `for loop` to calculate the factorial $n!$\n",
    "\n",
    "Your function should work as in the test code below:"
   ]
  },
  {
   "cell_type": "code",
   "execution_count": null,
   "id": "0789817c-8802-4b2f-9aaa-813e59c9e803",
   "metadata": {},
   "outputs": [],
   "source": [
    "def myfactorial(n):\n",
    "    f = 1\n",
    "    #######################\n",
    "    # YOUR CODE GOES HERE #\n",
    "    #######################\n",
    "    return f\n",
    "    \n",
    "# testing it\n",
    "n = 10 # try it with different values\n",
    "print('From numpy: ', np.math.factorial(n))\n",
    "print(' Your code: ', myfactorial(n))"
   ]
  },
  {
   "cell_type": "code",
   "execution_count": null,
   "id": "d285d5df-35c0-4f0f-9fab-d5b32b069084",
   "metadata": {},
   "outputs": [],
   "source": []
  },
  {
   "cell_type": "code",
   "execution_count": null,
   "id": "59a9b8ff-b889-40b9-b7cb-ebb6cd4a9d0f",
   "metadata": {},
   "outputs": [],
   "source": []
  },
  {
   "cell_type": "code",
   "execution_count": null,
   "id": "b0132181-1535-4746-913b-d38db46d6ebc",
   "metadata": {},
   "outputs": [],
   "source": []
  },
  {
   "cell_type": "code",
   "execution_count": null,
   "id": "e2156acc-92e8-44d5-8a35-bc15e67402d6",
   "metadata": {},
   "outputs": [],
   "source": []
  }
 ],
 "metadata": {
  "celltoolbar": "Slideshow",
  "kernelspec": {
   "display_name": "Python 3",
   "language": "python",
   "name": "python3"
  },
  "language_info": {
   "codemirror_mode": {
    "name": "ipython",
    "version": 3
   },
   "file_extension": ".py",
   "mimetype": "text/x-python",
   "name": "python",
   "nbconvert_exporter": "python",
   "pygments_lexer": "ipython3",
   "version": "3.9.7"
  }
 },
 "nbformat": 4,
 "nbformat_minor": 5
}
