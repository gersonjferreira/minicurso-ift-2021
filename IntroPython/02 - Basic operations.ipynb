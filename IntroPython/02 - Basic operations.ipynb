{
 "cells": [
  {
   "cell_type": "markdown",
   "id": "994c45ec-3f74-4d73-85e7-d60f20c418f7",
   "metadata": {},
   "source": [
    "# Introduction to Phython\n",
    "\n",
    "This is a very simple and limited set of examples for those using python for the first time. For more detail, please check online tutorials. My favorites are:\n",
    "\n",
    "https://www.w3schools.com/python/default.asp\n",
    "\n",
    "https://www.tutorialspoint.com/python/index.htm\n",
    "\n",
    "https://compphysics.readthedocs.io/\n",
    "\n",
    "-------------------------"
   ]
  },
  {
   "cell_type": "markdown",
   "id": "cd14d19d-ea5e-45b3-8469-fcdbbb98687b",
   "metadata": {},
   "source": [
    "## Basic operations\n",
    "\n",
    "**1) Assignment**"
   ]
  },
  {
   "cell_type": "code",
   "execution_count": null,
   "id": "ca58ef89-fe61-49c5-8c5a-5d25b13e0871",
   "metadata": {},
   "outputs": [],
   "source": [
    "a = 3\n",
    "b = 4\n",
    "c = a**2 + b**2\n",
    "print('c = ', c)"
   ]
  },
  {
   "cell_type": "markdown",
   "id": "f22202db-13a3-47fa-920a-26bd93d3be66",
   "metadata": {},
   "source": [
    "**2) If / else statements**"
   ]
  },
  {
   "cell_type": "code",
   "execution_count": null,
   "id": "dec86e5c-0ea1-45c9-aa37-f405fd23c6e9",
   "metadata": {},
   "outputs": [],
   "source": [
    "if a > b:\n",
    "    print('a is larger than b')\n",
    "elif a < b:\n",
    "    print('b is larger than a')\n",
    "else:\n",
    "    print('a is equal to b')"
   ]
  },
  {
   "cell_type": "markdown",
   "id": "c6d255a3-0dfd-411a-b182-5067fc03d9e7",
   "metadata": {},
   "source": [
    "**3) Types of variables and floating point imprecision**"
   ]
  },
  {
   "cell_type": "code",
   "execution_count": null,
   "id": "dac134d5-702b-4f0d-9c3c-2f6e48a0a657",
   "metadata": {},
   "outputs": [],
   "source": [
    "x = 5         # int\n",
    "y = 4.2       # float\n",
    "Na = 6.022e23 # float\n",
    "z = 3 + 4j    # complex\n",
    "a = 'hello'   # string\n",
    "\n",
    "print(type(z))"
   ]
  },
  {
   "cell_type": "markdown",
   "id": "83595eb8-42c6-409a-90f2-c0d97efee63f",
   "metadata": {},
   "source": [
    "Always remember that **floats** are binary approximations of real numbers. What is the big difference between these two examples below?"
   ]
  },
  {
   "cell_type": "code",
   "execution_count": null,
   "id": "5e312196-ec97-4312-8b02-58174c917aff",
   "metadata": {
    "tags": []
   },
   "outputs": [],
   "source": [
    "# EXAMPLE 1:\n",
    "x = 0.1\n",
    "y = 3*x\n",
    "z = 0.3\n",
    "\n",
    "print('Is z == 0.3?', z == 0.3)\n",
    "print('Is z == y?', z == y)"
   ]
  },
  {
   "cell_type": "code",
   "execution_count": null,
   "id": "7bf87bd4-4dcb-41f7-aaeb-eb73a2dc6a79",
   "metadata": {},
   "outputs": [],
   "source": [
    "# EXAMPLE 2:\n",
    "x = 0.25\n",
    "y = 3*x\n",
    "z = 0.75\n",
    "\n",
    "print('Is z == 0.75?', z == 0.75)\n",
    "print('Is z == y?', z == y)"
   ]
  },
  {
   "cell_type": "markdown",
   "id": "e23691aa-147a-4c5d-bea6-bff736f23dcd",
   "metadata": {},
   "source": [
    "**SOLUTION:**\n",
    "\n",
    "In the first example, 0.1 is a *repeating fraction* in base 2, which reads \n",
    "\n",
    "- (0.1)$_b$ = 0.0001100110011... \n",
    "\n",
    "If we truncate it at these decimals, it would read back in base 10 as \n",
    "\n",
    "- (0.0001100110011)$_{10}$ = 0.0999755859375\n",
    "\n",
    "On the other hand, 0.25 = $2^{-2}$, which is exact in base 2 and reads as (0.25)$_b$ = 0.01\n",
    "\n",
    "Therefore, the correct comparison between **floats** is"
   ]
  },
  {
   "cell_type": "code",
   "execution_count": null,
   "id": "d81baf7e-ea8f-41ba-b9a2-a0763e69f96f",
   "metadata": {},
   "outputs": [],
   "source": [
    "small_number = 1e-12 # small enough be be considered zero\n",
    "\n",
    "# EXAMPLE 1:\n",
    "x = 0.1\n",
    "y = 3*x\n",
    "z = 0.3\n",
    "\n",
    "print('1) Is z == y?', abs(z-y) < small_number)\n",
    "\n",
    "# EXAMPLE 2:\n",
    "x = 0.25\n",
    "y = 3*x\n",
    "z = 0.75\n",
    "\n",
    "print('2) Is z == y?', abs(z-y) < small_number)"
   ]
  },
  {
   "cell_type": "markdown",
   "id": "00a87dca-a00a-4fc1-bec4-f7bdee8fde3a",
   "metadata": {},
   "source": [
    "**4) Operators**\n",
    "\n",
    "Arithmetic: + , - , * , /\n",
    "\n",
    "Exponentiation: **\n",
    "- ex: `1024 == 2**10`\n",
    "\n",
    "Assignment: = , += , -= , *= , /=\n",
    "- ex: `x *= 3 → x = x*3`\n",
    "\n",
    "Comparison: ==, !=, >, >=, <, <=\n",
    "\n",
    "Logical: `and , or , not`\n",
    "\n",
    "Membership: in , not in\n",
    "- ex: `5 in [3, 2, 9]` → False\n",
    "\n",
    "Other useful: % (modulus), // (floor division)\n",
    "- ex: `17 // 3` → 5\n",
    "- ex: `17  % 3` → 2"
   ]
  },
  {
   "cell_type": "markdown",
   "id": "e58961f6-8057-4580-9fc5-30d60d850a0d",
   "metadata": {},
   "source": [
    "**5) Lists**"
   ]
  },
  {
   "cell_type": "code",
   "execution_count": null,
   "id": "b54b5a8a-c01b-45c8-b837-94f60f241233",
   "metadata": {},
   "outputs": [],
   "source": [
    "fruits = ['bananas', 'oranges']\n",
    "fruits.append('apples')\n",
    "fruits = fruits + ['grapes']\n",
    "fruits.sort()\n",
    "\n",
    "print('Length:', len(fruits))\n",
    "print('first:', fruits[0])\n",
    "print('last:', fruits[-1])"
   ]
  },
  {
   "cell_type": "markdown",
   "id": "69fafae0-3aae-482a-9e8a-a0493ca16ad8",
   "metadata": {},
   "source": [
    "**6) For loops over lists**"
   ]
  },
  {
   "cell_type": "code",
   "execution_count": null,
   "id": "fac4b37d-69e0-4888-9067-66bbd5bafe39",
   "metadata": {},
   "outputs": [],
   "source": [
    "for fruit in fruits:\n",
    "    print('we have', fruit)"
   ]
  },
  {
   "cell_type": "markdown",
   "id": "03f5818a-2e1c-4383-9ae6-4f1645f37d69",
   "metadata": {},
   "source": [
    "**7) Membership**"
   ]
  },
  {
   "cell_type": "code",
   "execution_count": null,
   "id": "2d41674a-d325-47eb-bcff-5d96301aa2a4",
   "metadata": {},
   "outputs": [],
   "source": [
    "if 'grapes' in fruits:\n",
    "    print('yes, we have grapes')\n",
    "else:\n",
    "    print('no, we don’t have grapes')"
   ]
  },
  {
   "cell_type": "markdown",
   "id": "9300bc86-7a1c-4ec5-9d61-9f4140083822",
   "metadata": {},
   "source": [
    "**8) List over range of integers**\n",
    "\n",
    "Syntax:\n",
    "- range(n) → 0,1,..n-1\n",
    "- range(a, b, s) → semi-open interval (a,b] with steps s"
   ]
  },
  {
   "cell_type": "code",
   "execution_count": null,
   "id": "fe59bda5-849d-4ff6-bfeb-af77cc97e7a9",
   "metadata": {},
   "outputs": [],
   "source": [
    "for i in range(3, 15, 2):\n",
    "    print(i)"
   ]
  },
  {
   "cell_type": "code",
   "execution_count": null,
   "id": "005bf7a4-b325-4dd7-9002-d6eacf245d41",
   "metadata": {},
   "outputs": [],
   "source": [
    "for i in range(len(fruits)):\n",
    "    print(i, fruits[i])"
   ]
  },
  {
   "cell_type": "markdown",
   "id": "e874e979-4c91-430f-9f66-520393f25348",
   "metadata": {},
   "source": [
    "**9) Functions and docstrings**"
   ]
  },
  {
   "cell_type": "code",
   "execution_count": null,
   "id": "94ed2960-5b0e-4ef6-b401-2cb42fa18bfd",
   "metadata": {},
   "outputs": [],
   "source": [
    "def bhaskara(a, b, c=0):\n",
    "    '''\n",
    "    Calculates the roots of ax²+bx+c=0.\n",
    "    \n",
    "    Input:\n",
    "    ------\n",
    "        a, b, c: (floats or integers)\n",
    "        Coefficients of the quadratic polynomial. \n",
    "        If not given, c is assumed to be 0 just for this example.\n",
    "        \n",
    "    Output:\n",
    "    -------\n",
    "        x1, x2: (tuple of floats or complex)\n",
    "        The roots x1 and x2.\n",
    "    '''\n",
    "    d = (b**2-4*a*c)**0.5\n",
    "    x1 = (-b+d)/(2*a)\n",
    "    x2 = (-b-d)/(2*a)\n",
    "    return x1, x2\n",
    "\n",
    "# calling the function\n",
    "r1, r2 = bhaskara(1, -5, 6)\n",
    "print('roots:', r1, ' and', r2)\n",
    "\n",
    "# try now with calls to \n",
    "#   bhaskara(1, -5)\n",
    "#   bhaskara(1, -5, 7.25)"
   ]
  },
  {
   "cell_type": "markdown",
   "id": "be122f2e-36ee-4055-8dc2-106667d5e1c1",
   "metadata": {},
   "source": [
    "**10) Lambda inline functions**"
   ]
  },
  {
   "cell_type": "code",
   "execution_count": null,
   "id": "4b3dbc07-03c8-4a44-97c5-7d4edbbecdc4",
   "metadata": {},
   "outputs": [],
   "source": [
    "def quadratic(a, x):\n",
    "    return 5*a*x**2\n",
    "    \n",
    "square = lambda a, x: 5*a*x**2\n",
    "\n",
    "print('The long form:', quadratic(1, 2))\n",
    "print('The short form:', square(1, 2))"
   ]
  },
  {
   "cell_type": "markdown",
   "id": "433d2ca8-5753-4324-aea4-979d5846a48e",
   "metadata": {},
   "source": [
    "**11) Libraries**"
   ]
  },
  {
   "cell_type": "code",
   "execution_count": null,
   "id": "3a4bd1bd-f9fc-43e7-a22d-954185129bc9",
   "metadata": {},
   "outputs": [],
   "source": [
    "# importing a single function from a lib\n",
    "from numpy import sqrt\n",
    "\n",
    "print('Square root of 2 is', sqrt(2))\n",
    "\n",
    "# importing the full lib and giving it an alias\n",
    "import numpy as np\n",
    "\n",
    "print('Square root of 4 is', np.sqrt(4))"
   ]
  },
  {
   "cell_type": "markdown",
   "id": "17341a85-e7ff-41e5-8c75-abfb3e57a7b6",
   "metadata": {},
   "source": [
    "**12) Comprehensions**\n",
    "\n",
    "The comprehensions does not require *numpy*, but quite often we'll combine it with *numpy* for faster data manipulation (we'll discuss **numpy broadcast** later)."
   ]
  },
  {
   "cell_type": "code",
   "execution_count": null,
   "id": "7f2728d0-105d-4658-bda9-a4283fcbc0da",
   "metadata": {},
   "outputs": [],
   "source": [
    "# simple function to illustrate the calls\n",
    "f = lambda i: i**2\n",
    "\n",
    "# short loop notation to set a vector\n",
    "avector = np.array([ f(i) for i in range(5) ])\n",
    "\n",
    "print(avector)"
   ]
  },
  {
   "cell_type": "code",
   "execution_count": null,
   "id": "f67b7564-0388-4cdd-ace7-0f3fbc065900",
   "metadata": {},
   "outputs": [],
   "source": [
    "# is equivalent to this for loop\n",
    "avector = np.zeros(5)\n",
    "for i in range(5):\n",
    "    avector[i] = f(i)\n",
    "\n",
    "print(avector)"
   ]
  },
  {
   "cell_type": "code",
   "execution_count": null,
   "id": "fa54f3d4-b544-4b74-86b4-555f7a8fcf69",
   "metadata": {},
   "outputs": [],
   "source": [
    "# or even this one that starts with an empty list\n",
    "avector = []\n",
    "for i in range(5):\n",
    "    avector += [f(i)]\n",
    "avector = np.array(avector)\n",
    "\n",
    "print(avector)"
   ]
  },
  {
   "cell_type": "code",
   "execution_count": null,
   "id": "fc81b20f-ab8f-411b-8df2-0c18299d6a85",
   "metadata": {},
   "outputs": [],
   "source": [
    "# since we are talking about numpy already\n",
    "# it can be also defined as\n",
    "avector = f(np.arange(5)) # assuming f(i) is vectorizable\n",
    "\n",
    "print(avector)"
   ]
  },
  {
   "cell_type": "code",
   "execution_count": null,
   "id": "e62f5666-f36e-44e0-990b-205565795716",
   "metadata": {},
   "outputs": [],
   "source": [
    "# it can also be used to build matrices or tensors\n",
    "\n",
    "# simple function to ilustrete\n",
    "f = lambda i,j: i + j*1j\n",
    "\n",
    "# loops run over columns first and then lines\n",
    "columns = range(3)\n",
    "lines = range(3)\n",
    "amatrix = np.array([[f(i, j) for j in columns] for i in lines])\n",
    "\n",
    "print(amatrix)"
   ]
  },
  {
   "cell_type": "code",
   "execution_count": null,
   "id": "cc4752cc-4066-4762-86ca-62722ddb697c",
   "metadata": {},
   "outputs": [],
   "source": [
    "# is equivalent to two nested loops\n",
    "amatrix = np.zeros([3,3], dtype=complex)\n",
    "for i in range(3):\n",
    "    for j in range(3):\n",
    "        amatrix[i, j] = f(i, j)\n",
    "\n",
    "print(amatrix)"
   ]
  },
  {
   "cell_type": "markdown",
   "id": "1a41bcd4-8aef-4ea7-96fb-c3a69ec92015",
   "metadata": {},
   "source": [
    "**13) Dictionaries**"
   ]
  },
  {
   "cell_type": "code",
   "execution_count": null,
   "id": "4fad5daf-3149-4148-8725-5e3c128b3dec",
   "metadata": {},
   "outputs": [],
   "source": [
    "params = {}\n",
    "params['temperature'] = 300\n",
    "params['mag. field'] = 10\n",
    "params['method'] = 'RK4'\n",
    "\n",
    "print('List all params:', params)\n",
    "print('T =', params['temperature'])"
   ]
  },
  {
   "cell_type": "markdown",
   "id": "c4bf2eb3-22b9-48f0-ae70-c48dbf3852a8",
   "metadata": {},
   "source": [
    "-------------------------\n",
    "## Exercise: factorial\n",
    "\n",
    "Write a function called `myfactorial` that uses a `for loop` to calculate the factorial $n!$\n",
    "\n",
    "Your function should work as in the test code below:"
   ]
  },
  {
   "cell_type": "code",
   "execution_count": null,
   "id": "0789817c-8802-4b2f-9aaa-813e59c9e803",
   "metadata": {},
   "outputs": [],
   "source": [
    "def myfactorial(n):\n",
    "    f = 1\n",
    "    #######################\n",
    "    # YOUR CODE GOES HERE #\n",
    "    #######################\n",
    "    return f\n",
    "    \n",
    "# testing it\n",
    "n = 10 # try it with different values\n",
    "print('From numpy: ', np.math.factorial(n))\n",
    "print(' Your code: ', myfactorial(n))"
   ]
  }
 ],
 "metadata": {
  "kernelspec": {
   "display_name": "Python 3",
   "language": "python",
   "name": "python3"
  },
  "language_info": {
   "codemirror_mode": {
    "name": "ipython",
    "version": 3
   },
   "file_extension": ".py",
   "mimetype": "text/x-python",
   "name": "python",
   "nbconvert_exporter": "python",
   "pygments_lexer": "ipython3",
   "version": "3.9.7"
  }
 },
 "nbformat": 4,
 "nbformat_minor": 5
}
