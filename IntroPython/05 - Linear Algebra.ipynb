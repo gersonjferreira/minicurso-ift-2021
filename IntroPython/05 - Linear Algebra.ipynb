{
 "cells": [
  {
   "cell_type": "markdown",
   "id": "961c427c-15bc-4e62-942f-bef74e5f6e57",
   "metadata": {},
   "source": [
    "# Linear algebra and numpy"
   ]
  },
  {
   "cell_type": "code",
   "execution_count": 1,
   "id": "b244b537-0309-4767-abe2-085f8355a3d5",
   "metadata": {},
   "outputs": [],
   "source": [
    "import numpy as np\n",
    "import numpy.linalg as la # the linear algebra module"
   ]
  },
  {
   "cell_type": "markdown",
   "id": "fcf3e250-d63c-49c1-869a-f73ae632e9ef",
   "metadata": {},
   "source": [
    "# Vector - vector operations\n",
    "\n",
    "- Cross product: $\\vec{z} = \\vec{x} \\times \\vec{y}$\n",
    "\n",
    "- Dot product: $\\displaystyle \\vec{x} \\cdot \\vec{y} = \\sum_i x_i y_i$"
   ]
  },
  {
   "cell_type": "code",
   "execution_count": 2,
   "id": "ed4e60af-8861-45d5-832c-283cbe9c7c1e",
   "metadata": {},
   "outputs": [
    {
     "name": "stdout",
     "output_type": "stream",
     "text": [
      "the cross product is: [0 0 1]\n",
      "the dot product is: 0\n"
     ]
    }
   ],
   "source": [
    "x = np.array([1, 0, 0])\n",
    "y = np.array([0, 1, 0])\n",
    "\n",
    "z = np.cross(x, y)\n",
    "print('the cross product is:', z)\n",
    "\n",
    "d = np.dot(x, y)\n",
    "print('the dot product is:', d)"
   ]
  },
  {
   "cell_type": "markdown",
   "id": "a88706f0-4095-47cb-884a-9d616e10d60f",
   "metadata": {},
   "source": [
    "Recall that `*` refers to elementwise multiplication:"
   ]
  },
  {
   "cell_type": "code",
   "execution_count": 3,
   "id": "60cfac1c-bffd-4975-b8b6-0b91867fd932",
   "metadata": {},
   "outputs": [
    {
     "name": "stdout",
     "output_type": "stream",
     "text": [
      "this is a element-wise multiplication:  [ 4 10 18]\n"
     ]
    }
   ],
   "source": [
    "x = np.array([1, 2, 3])\n",
    "y = np.array([4, 5, 6])\n",
    "\n",
    "p = x * y\n",
    "print('this is a element-wise multiplication: ', p)"
   ]
  },
  {
   "cell_type": "markdown",
   "id": "5499ea89-5274-429c-8f7e-1d8a20d1ddfb",
   "metadata": {},
   "source": [
    "For complex numbers (quantum mechanics) the bra requires a complex conjugation.\n",
    "\n",
    "This is done with `np.vdot`\n",
    "\n",
    "- `np.vdot(x,y) =` $\\displaystyle \\langle x | y \\rangle = \\sum_i x_i^* y_i$"
   ]
  },
  {
   "cell_type": "code",
   "execution_count": 4,
   "id": "ba6a7a48-0334-4d93-b125-2f748f5fb537",
   "metadata": {},
   "outputs": [
    {
     "name": "stdout",
     "output_type": "stream",
     "text": [
      "vdot takes the conjugate of the left operator:  -1j\n"
     ]
    }
   ],
   "source": [
    "x = np.array([1j, 0, 0])\n",
    "y = np.array([1, 2, 3])\n",
    "\n",
    "p = np.vdot(x, y)\n",
    "print('vdot takes the conjugate of the left operator: ', p)"
   ]
  },
  {
   "cell_type": "code",
   "execution_count": 5,
   "id": "975c007e-a8c0-40e3-a72c-ef3fec034a50",
   "metadata": {},
   "outputs": [
    {
     "name": "stdout",
     "output_type": "stream",
     "text": [
      "The norm of a vector is: 1.4142135623730951\n"
     ]
    }
   ],
   "source": [
    "x = np.array([1, 1, 0])\n",
    "print('The norm of a vector is:', la.norm(x))"
   ]
  },
  {
   "cell_type": "markdown",
   "id": "cc6a63e6-0167-4f2c-a72f-96719373af2b",
   "metadata": {},
   "source": [
    "## Matrix - matrix operations"
   ]
  },
  {
   "cell_type": "code",
   "execution_count": 20,
   "id": "9df73c56-61a3-46f3-b6fd-05ab0030fc88",
   "metadata": {},
   "outputs": [
    {
     "name": "stdout",
     "output_type": "stream",
     "text": [
      "the matrix product is: \n",
      " [[3 4]\n",
      " [1 2]]\n",
      "which can be written as: \n",
      " [[3 4]\n",
      " [1 2]]\n",
      "this is an element-wise multiplication: \n",
      " [[0 2]\n",
      " [3 0]]\n"
     ]
    }
   ],
   "source": [
    "# let's use simple 2x2 matrices\n",
    "A = np.array([[0, 1], [1, 0]])\n",
    "B = np.array([[1, 2], [3, 4]])\n",
    "\n",
    "print('the matrix product is: \\n', np.dot(A, B))\n",
    "\n",
    "print('which can be written as: \\n', A @ B)\n",
    "\n",
    "print('this is an element-wise multiplication: \\n', A * B)"
   ]
  },
  {
   "cell_type": "code",
   "execution_count": null,
   "id": "9075bdcf-d5fd-41c8-a500-457e9ecaefd1",
   "metadata": {},
   "outputs": [],
   "source": []
  },
  {
   "cell_type": "markdown",
   "id": "fc45ba3d-50e2-4023-b693-47065ac09b46",
   "metadata": {},
   "source": [
    "To calculate powers of a matrix, use `np.linalg.matrix_power(A, n)`"
   ]
  },
  {
   "cell_type": "code",
   "execution_count": 21,
   "id": "a14d99cb-3246-4e0a-ad12-cfa25f2b68c3",
   "metadata": {},
   "outputs": [
    {
     "name": "stdout",
     "output_type": "stream",
     "text": [
      "This is an elementwise power: \n",
      " [[0 1]\n",
      " [1 0]]\n",
      "This is the matrix squared: \n",
      " [[1 0]\n",
      " [0 1]]\n",
      "Or simply:\n",
      " [[1 0]\n",
      " [0 1]]\n"
     ]
    }
   ],
   "source": [
    "print('This is an elementwise power: \\n', A**2)\n",
    "\n",
    "print('This is the matrix squared: \\n', la.matrix_power(A, 2))\n",
    "\n",
    "print('Or simply:\\n', A @ A)"
   ]
  },
  {
   "cell_type": "code",
   "execution_count": 22,
   "id": "a7b1d04e-9294-4064-8c4a-1fd5683f6905",
   "metadata": {},
   "outputs": [
    {
     "name": "stdout",
     "output_type": "stream",
     "text": [
      "The determinant: -1.0\n",
      "The inverse: [[0. 1.]\n",
      " [1. 0.]]\n",
      "The trace: 0\n"
     ]
    }
   ],
   "source": [
    "print('The determinant:', la.det(A))\n",
    "print('The inverse:', la.inv(A))\n",
    "print('The trace:', np.trace(A))\n",
    "# notice np instead of la... confusing..."
   ]
  },
  {
   "cell_type": "code",
   "execution_count": null,
   "id": "e854cc55-c899-49cb-af82-9a1796f444d2",
   "metadata": {},
   "outputs": [],
   "source": []
  },
  {
   "cell_type": "markdown",
   "id": "7718dca8-6e24-4471-8d71-204e3dfba636",
   "metadata": {},
   "source": [
    "## Matrix - vector operations\n",
    "\n",
    "As a simple example, consider the system of equations\n",
    "\n",
    "$$3x_0 + x_1 = 9$$\n",
    "\n",
    "$$2x_1 + x_0 = 8$$\n",
    "\n",
    "or simply:\n",
    "\n",
    "$$\\begin{pmatrix}3 & 1 \\\\ 1 & 2\\end{pmatrix}\\begin{pmatrix}x_0 \\\\ x_1\\end{pmatrix} = \\begin{pmatrix}9 \\\\ 8\\end{pmatrix}$$"
   ]
  },
  {
   "cell_type": "code",
   "execution_count": 23,
   "id": "e220c013-1a02-48e2-bcbb-1b3e07ef002b",
   "metadata": {},
   "outputs": [
    {
     "name": "stdout",
     "output_type": "stream",
     "text": [
      "the solution is: [2. 3.]\n",
      "the solution is: [2. 3.]\n"
     ]
    }
   ],
   "source": [
    "A = np.array([[3, 1], [1, 2]])\n",
    "B = np.array([9, 8])\n",
    "\n",
    "# solve using the linear system solver\n",
    "X = la.solve(A, B)\n",
    "print('the solution is:', X)\n",
    "\n",
    "# is the same as applying the inverse\n",
    "# but we don't like inverses...\n",
    "X = np.linalg.inv(A) @ B\n",
    "print('the solution is:', X)"
   ]
  },
  {
   "cell_type": "code",
   "execution_count": null,
   "id": "afbab035-0936-4499-a0b3-9a1924c72d4b",
   "metadata": {},
   "outputs": [],
   "source": []
  },
  {
   "cell_type": "markdown",
   "id": "c4f2e438-ae9a-4785-b8b5-e71e116d4a07",
   "metadata": {},
   "source": [
    "A quantum mechanics matrix element can be written as"
   ]
  },
  {
   "cell_type": "code",
   "execution_count": 24,
   "id": "c981121c-c94c-4456-9ff7-205ab6e3cfbe",
   "metadata": {},
   "outputs": [
    {
     "name": "stdout",
     "output_type": "stream",
     "text": [
      "<x|A|y> = 0j\n",
      "<x|A|x> = (0.9999999999999998+0j)\n",
      "<y|A|y> = (-0.9999999999999998+0j)\n"
     ]
    }
   ],
   "source": [
    "A = np.array([[0, -1j], [1j, 0]])\n",
    "\n",
    "x = np.array([1, 1j])/np.sqrt(2)\n",
    "y = np.array([1, -1j])/np.sqrt(2)\n",
    "\n",
    "print('<x|A|y> =', np.vdot(x, np.dot(A, y)))\n",
    "print('<x|A|x> =', np.vdot(x, A.dot(x)))\n",
    "print('<y|A|y> =', np.vdot(y, A @ y))"
   ]
  },
  {
   "cell_type": "code",
   "execution_count": null,
   "id": "0b7292f7-6106-4051-9a53-cfffd371f4b1",
   "metadata": {},
   "outputs": [],
   "source": []
  },
  {
   "cell_type": "markdown",
   "id": "10905707-f4f3-4ae7-9c9d-2fc01ff51fcd",
   "metadata": {},
   "source": [
    "# Eigenproblems\n",
    "\n",
    "For hermitian matrices, use `la.eigh(...)` or `la.eigvalsh(...)`\n",
    "\n",
    "For general matrices, use `la.eig(...)` or `la.eigvals(...)`"
   ]
  },
  {
   "cell_type": "code",
   "execution_count": 25,
   "id": "5573413f-2051-46f0-94da-a245e1e4b14a",
   "metadata": {},
   "outputs": [
    {
     "name": "stdout",
     "output_type": "stream",
     "text": [
      "[[0 1]\n",
      " [1 0]]\n"
     ]
    }
   ],
   "source": [
    "A = np.array([[0, 1], [1, 0]])\n",
    "print(A)"
   ]
  },
  {
   "cell_type": "code",
   "execution_count": 26,
   "id": "d89f37d6-4436-488e-b8f5-908a9b640f4a",
   "metadata": {},
   "outputs": [
    {
     "name": "stdout",
     "output_type": "stream",
     "text": [
      "[-1.  1.]\n"
     ]
    }
   ],
   "source": [
    "# eigenvalues only: if A is hermitian, \n",
    "#                   sorted from lowest to highest\n",
    "evals = la.eigvalsh(A)\n",
    "print(evals)"
   ]
  },
  {
   "cell_type": "code",
   "execution_count": null,
   "id": "6c38c53f-7c59-422c-b53c-783f0c1df3d6",
   "metadata": {},
   "outputs": [],
   "source": []
  },
  {
   "cell_type": "code",
   "execution_count": 27,
   "id": "df76b5c6-e248-4e5a-ab78-72fda99f119e",
   "metadata": {},
   "outputs": [
    {
     "name": "stdout",
     "output_type": "stream",
     "text": [
      "[-1.  1.]\n"
     ]
    }
   ],
   "source": [
    "# eigenvalues and eigenvectors\n",
    "evals, evects = la.eigh(A)\n",
    "print(evals)"
   ]
  },
  {
   "cell_type": "code",
   "execution_count": null,
   "id": "f92d73fa-bca4-49d0-8f0a-d5d823988636",
   "metadata": {},
   "outputs": [],
   "source": []
  },
  {
   "cell_type": "code",
   "execution_count": 28,
   "id": "395dc36a-4ede-4160-9e0d-82d166de3de1",
   "metadata": {},
   "outputs": [
    {
     "name": "stdout",
     "output_type": "stream",
     "text": [
      "eval = -1.0  and its eigenvector = [-0.70710678  0.70710678]\n",
      "eval = 1.0  and its eigenvector = [0.70710678 0.70710678]\n"
     ]
    }
   ],
   "source": [
    "# the eigenvectors are stored in columns\n",
    "print('eval =', evals[0], # all lines, column 0\n",
    "      ' and its eigenvector =', evects[:,0]) \n",
    "\n",
    "print('eval =', evals[1], # all lines, column 1\n",
    "      ' and its eigenvector =', evects[:,1]) "
   ]
  },
  {
   "cell_type": "code",
   "execution_count": null,
   "id": "0c84973b-4acc-4055-adae-207631c238c4",
   "metadata": {},
   "outputs": [],
   "source": []
  }
 ],
 "metadata": {
  "kernelspec": {
   "display_name": "Python 3",
   "language": "python",
   "name": "python3"
  },
  "language_info": {
   "codemirror_mode": {
    "name": "ipython",
    "version": 3
   },
   "file_extension": ".py",
   "mimetype": "text/x-python",
   "name": "python",
   "nbconvert_exporter": "python",
   "pygments_lexer": "ipython3",
   "version": "3.9.7"
  }
 },
 "nbformat": 4,
 "nbformat_minor": 5
}
