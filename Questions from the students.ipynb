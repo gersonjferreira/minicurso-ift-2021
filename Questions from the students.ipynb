{
 "cells": [
  {
   "cell_type": "markdown",
   "id": "14e45f84-5586-42c3-bcbb-dd3ce074a6a1",
   "metadata": {},
   "source": [
    "# Answering questions from the students"
   ]
  },
  {
   "cell_type": "markdown",
   "id": "bc62f215-eb30-41fa-bc56-4c5fc2a2a626",
   "metadata": {},
   "source": [
    "## 1) Float pointing (in)precision\n",
    "\n",
    "What is the difference between these two cases below?\n",
    "\n",
    "### Original example during the class:"
   ]
  },
  {
   "cell_type": "code",
   "execution_count": 6,
   "id": "64357011-aaf0-4d37-a650-a57db72bfe77",
   "metadata": {},
   "outputs": [
    {
     "name": "stdout",
     "output_type": "stream",
     "text": [
      "Is z == 0.3? True\n",
      "Is z == y? False\n",
      "y = 0.300000000000000044408920985006\n",
      "z = 0.299999999999999988897769753748\n"
     ]
    }
   ],
   "source": [
    "y = 3 * 0.1\n",
    "z = 0.3\n",
    "\n",
    "print('Is z == 0.3?', z == 0.3)\n",
    "print('Is z == y?', z == y)\n",
    "\n",
    "print('y = %.30f' % y)\n",
    "print('z = %.30f' % z)"
   ]
  },
  {
   "cell_type": "markdown",
   "id": "161d1224-029f-43cc-8e4b-a8049a569af9",
   "metadata": {},
   "source": [
    "### Replacing 0.1 with 1/10"
   ]
  },
  {
   "cell_type": "code",
   "execution_count": 7,
   "id": "b2158d43-adcd-4e4e-98ab-227272840134",
   "metadata": {},
   "outputs": [
    {
     "name": "stdout",
     "output_type": "stream",
     "text": [
      "Is z == 0.3? True\n",
      "Is z == y? True\n",
      "y = 0.299999999999999988897769753748\n",
      "z = 0.299999999999999988897769753748\n"
     ]
    }
   ],
   "source": [
    "y = 3 / 10\n",
    "z = 0.3\n",
    "\n",
    "print('Is z == 0.3?', z == 0.3)\n",
    "print('Is z == y?', z == y)\n",
    "\n",
    "print('y = %.30f' % y)\n",
    "print('z = %.30f' % z)"
   ]
  },
  {
   "cell_type": "markdown",
   "id": "3990a056-b1bf-4344-8c6a-33785abca1fc",
   "metadata": {},
   "source": [
    "### Answer\n",
    "\n",
    "First, as we have seen, the binary representation of 0.1 is a repeating fraction\n",
    "\n",
    "$$(0.1)_b = 0.0001100110011001100110011001100110011\\dots$$\n",
    "\n",
    "So a truncation leads to imprecision.\n",
    "\n",
    "On the other hand, 10 is an exact integers. All integers are exact (up to the memory limit):\n",
    "\n",
    "$$(10)_b = 1010$$\n",
    "\n",
    "So, in the first case (`y = 3 * 0.1`), the 0.1 has the truncaded binary representation. Let's use 9 binary digits, which gives:\n",
    "\n",
    "$$ (3)_b * (0.1)_b = (11) * (0.000110011) = 0.010011001 \\rightarrow 0.298828125$$\n",
    "\n",
    "In the second case (`y = 3 / 10`) we first do the exact integer division and later truncate the binary representation of the result:\n",
    "\n",
    "$$ (3)_b / (10)_b = (11) / (1010) = 0.01001101 \\rightarrow 0.30078125$$\n",
    "\n",
    "**Therefore,** the main difference between `y = 3*0.1` and `y = 3/10` is when the binary truncation is done in the CPU."
   ]
  },
  {
   "cell_type": "markdown",
   "id": "32a3026d-273a-4de1-89df-2259733e8eee",
   "metadata": {},
   "source": [
    "## 2) How slow is the inverse of a matrix?\n",
    "\n",
    "Let's solve A.x = b and check it the time it takes to solve it using the inverse of A, or its LU decomposition.\n",
    "\n",
    "The correct way to check this would be to run it many times and take the average. Then, calculate this average time for each N and make a plot of the time vs N.\n",
    "\n",
    "... but first I'll just illustrate with a direct time measurement."
   ]
  },
  {
   "cell_type": "code",
   "execution_count": 1,
   "id": "778bc0b8-f52e-4ba1-9c31-d3a9d1c96c14",
   "metadata": {},
   "outputs": [],
   "source": [
    "import numpy as np\n",
    "from time import time\n",
    "\n",
    "N = 5000\n",
    "\n",
    "# the b vector\n",
    "b = np.random.randn(N)\n",
    "\n",
    "# random matrix with gaussian distribution\n",
    "A = np.random.randn(N,N)/N\n",
    "# make it symmetric and positive\n",
    "A = A.T @ A"
   ]
  },
  {
   "cell_type": "code",
   "execution_count": 2,
   "id": "f9589f70-a1dc-4111-b167-4d50ce7fba3f",
   "metadata": {},
   "outputs": [
    {
     "name": "stdout",
     "output_type": "stream",
     "text": [
      "Using the inverse took 14.528341054916382  seconds\n"
     ]
    }
   ],
   "source": [
    "t0 = time()\n",
    "# solve it using the inverse\n",
    "x0 = np.linalg.inv(A) @ b\n",
    "t1 = time()\n",
    "print('Using the inverse took', t1-t0, ' seconds')"
   ]
  },
  {
   "cell_type": "code",
   "execution_count": 4,
   "id": "2e91087c-ec7d-4631-a768-1f51679e7f9d",
   "metadata": {},
   "outputs": [
    {
     "name": "stdout",
     "output_type": "stream",
     "text": [
      "Using the LU decomposition 1.6843228340148926  seconds\n"
     ]
    }
   ],
   "source": [
    "t0 = time()\n",
    "# solve it using Lapacks _gesv (LU decomposition)\n",
    "x1 = np.linalg.solve(A, b)\n",
    "t1 = time()\n",
    "print('Using the LU decomposition', t1-t0, ' seconds')"
   ]
  },
  {
   "cell_type": "markdown",
   "id": "7c9f85ca-7a04-4adb-8d69-9fed0d67c24c",
   "metadata": {},
   "source": [
    "## Now let's do the proper plot"
   ]
  },
  {
   "cell_type": "code",
   "execution_count": 12,
   "id": "19245e8e-f8af-468d-b372-00b81bf3f706",
   "metadata": {},
   "outputs": [],
   "source": [
    "import matplotlib.pyplot as plt\n",
    "plt.rcParams.update({'font.size': 20})"
   ]
  },
  {
   "cell_type": "code",
   "execution_count": 13,
   "id": "4f7e6733-e88c-4b50-a75d-0c312828ef41",
   "metadata": {},
   "outputs": [],
   "source": [
    "def averagetime1(N, its):\n",
    "    b = np.random.randn(N)\n",
    "    A = np.random.randn(N,N)/N\n",
    "    A = A.T @ A\n",
    "\n",
    "    delta = 0\n",
    "    for n in range(its):\n",
    "        t0 = time()\n",
    "        x1 = np.linalg.solve(A, b)\n",
    "        t1 = time()\n",
    "        delta += t1-t0\n",
    "    return delta/n"
   ]
  },
  {
   "cell_type": "code",
   "execution_count": 19,
   "id": "9c52f7e1-839d-4441-bdc0-d01056eb830a",
   "metadata": {},
   "outputs": [],
   "source": [
    "def averagetime2(N, its):\n",
    "    b = np.random.randn(N)\n",
    "    A = np.random.randn(N,N)/N\n",
    "    A = A.T @ A\n",
    "\n",
    "    delta = 0\n",
    "    for n in range(its):\n",
    "        t0 = time()\n",
    "        x0 = np.linalg.inv(A) @ b\n",
    "        t1 = time()\n",
    "        delta += t1-t0\n",
    "    return delta/n"
   ]
  },
  {
   "cell_type": "code",
   "execution_count": 25,
   "id": "cc5e7e8b-e10e-441f-b068-bcd016c28f35",
   "metadata": {},
   "outputs": [],
   "source": [
    "Ns = list(range(50, 2000, 50))\n",
    "\n",
    "# for each N, run 20 trials to average\n",
    "t1 = [averagetime1(N, 20) for N in Ns]\n",
    "t2 = [averagetime2(N, 20) for N in Ns]"
   ]
  },
  {
   "cell_type": "code",
   "execution_count": 30,
   "id": "2501bdb0-ad4a-41ad-9de3-b32980242a70",
   "metadata": {},
   "outputs": [
    {
     "data": {
      "image/png": "[encoded data removed]",
      "text/plain": [
       "<Figure size 432x288 with 1 Axes>"
      ]
     },
     "metadata": {
      "needs_background": "light"
     },
     "output_type": "display_data"
    }
   ],
   "source": [
    "plt.title('To reduce noise, run more trials', fontsize=15)\n",
    "plt.plot(Ns, t1, label='LU')\n",
    "plt.plot(Ns, t2, label='Inverse')\n",
    "plt.xlabel('N')\n",
    "plt.ylabel('Time (s)')\n",
    "#plt.ylim(0, 1)\n",
    "plt.legend(fontsize=15)\n",
    "plt.tight_layout()\n",
    "plt.show()"
   ]
  },
  {
   "cell_type": "code",
   "execution_count": 35,
   "id": "c2eb4e5d-f6c1-4b8e-b3aa-92c48d00b775",
   "metadata": {},
   "outputs": [
    {
     "data": {
      "image/png": "[encoded data removed]",
      "text/plain": [
       "<Figure size 432x288 with 1 Axes>"
      ]
     },
     "metadata": {
      "needs_background": "light"
     },
     "output_type": "display_data"
    }
   ],
   "source": [
    "plt.title('Adding the N=5000 points by hand', fontsize=15)\n",
    "plt.plot(Ns, t1, label='LU')\n",
    "plt.plot(Ns, t2, label='Inverse')\n",
    "plt.scatter([5000], [1.7], c='C0')\n",
    "plt.scatter([5000], [15], c='C1')\n",
    "plt.plot(Ns + [5000], t1 + [1.7], ls=':', c='C0')\n",
    "plt.plot(Ns + [5000], t2 + [15], ls=':', c='C1')\n",
    "plt.xlabel('N')\n",
    "plt.ylabel('Time (s)')\n",
    "#plt.ylim(0, 1)\n",
    "plt.legend(fontsize=15)\n",
    "plt.tight_layout()\n",
    "plt.show()"
   ]
  },
  {
   "cell_type": "code",
   "execution_count": null,
   "id": "ee55d28c-e628-4e9d-a783-ab223d74aec1",
   "metadata": {},
   "outputs": [],
   "source": []
  },
  {
   "cell_type": "code",
   "execution_count": null,
   "id": "210a85ab-e3ec-4120-ba20-89baf4361d98",
   "metadata": {},
   "outputs": [],
   "source": []
  }
 ],
 "metadata": {
  "kernelspec": {
   "display_name": "Python 3",
   "language": "python",
   "name": "python3"
  },
  "language_info": {
   "codemirror_mode": {
    "name": "ipython",
    "version": 3
   },
   "file_extension": ".py",
   "mimetype": "text/x-python",
   "name": "python",
   "nbconvert_exporter": "python",
   "pygments_lexer": "ipython3",
   "version": "3.9.7"
  }
 },
 "nbformat": 4,
 "nbformat_minor": 5
}
