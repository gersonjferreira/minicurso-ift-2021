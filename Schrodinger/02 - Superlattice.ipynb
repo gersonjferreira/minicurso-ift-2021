{
 "cells": [
  {
   "cell_type": "markdown",
   "id": "0bf68f8d-7203-4eed-ae58-bc545894c75d",
   "metadata": {},
   "source": [
    "# Superlattice"
   ]
  },
  {
   "cell_type": "code",
   "execution_count": null,
   "id": "0f11a62e-1ef9-4fc1-b527-8e23ecf73b91",
   "metadata": {},
   "outputs": [],
   "source": [
    "import numpy as np\n",
    "import matplotlib.pyplot as plt\n",
    "plt.rcParams.update({'font.size': 20})"
   ]
  },
  {
   "cell_type": "code",
   "execution_count": null,
   "id": "97e6def7-ea68-4251-9522-d15c9b72fe7e",
   "metadata": {},
   "outputs": [],
   "source": [
    "L = 50\n",
    "N = 501\n",
    "x = np.linspace(-L/2, L/2, N, endpoint=False)\n",
    "dx = x[1]-x[0]\n",
    "\n",
    "V0 = 20\n",
    "q = (2*np.pi/50)*20\n",
    "V = -V0*(np.cos(q*x) + 1)\n",
    "\n",
    "plt.plot(x, V, lw=4, c='black')\n",
    "plt.xlabel(r'$x$')\n",
    "plt.ylabel(r'$V(x)$')\n",
    "plt.grid()\n",
    "plt.tight_layout()\n",
    "plt.show()"
   ]
  },
  {
   "cell_type": "markdown",
   "id": "4240ec83-02aa-4b6d-ab4a-05e5d095b552",
   "metadata": {},
   "source": [
    "## Build the kinetic operator as a tridiagonal matrix"
   ]
  },
  {
   "cell_type": "code",
   "execution_count": null,
   "id": "85819aff-8b1b-47a5-806c-1b9fccded98f",
   "metadata": {},
   "outputs": [],
   "source": [
    "T = -0.5*(np.eye(N, k=-1) - 2*np.eye(N) + np.eye(N, k=+1))/dx**2\n",
    "\n",
    "# add periodic boundary conditions\n",
    "T[0,-1] = T[-1,0] = -0.5/dx**2\n",
    "\n",
    "tmax = np.max(np.abs(T))\n",
    "\n",
    "plt.imshow(T, vmin=-tmax, vmax=+tmax, cmap='bwr')\n",
    "plt.tight_layout()\n",
    "plt.show()"
   ]
  },
  {
   "cell_type": "markdown",
   "id": "590b6fb3-2111-4ffc-bb96-cf46e29b0512",
   "metadata": {},
   "source": [
    "## Solve the eigenproblem and plot the results"
   ]
  },
  {
   "cell_type": "code",
   "execution_count": null,
   "id": "06c2eeae-7d82-454d-9e89-00df621b1045",
   "metadata": {},
   "outputs": [],
   "source": [
    "H = T + np.diag(V)\n",
    "\n",
    "en, psi = np.linalg.eigh(H)\n",
    "print('First energies:', list(np.round(en[:5],1)))"
   ]
  },
  {
   "cell_type": "code",
   "execution_count": null,
   "id": "f4727033-344f-4e81-a297-33c2546bbe0e",
   "metadata": {},
   "outputs": [],
   "source": [
    "plt.figure(figsize=(10,6))\n",
    "\n",
    "plt.subplot(121)\n",
    "plt.plot(x, V, c='black')\n",
    "for n in range(100):\n",
    "    plt.axhline(en[n], c='C0')\n",
    "plt.xlabel(r'$x$')\n",
    "plt.ylabel(r'$V(x)$')\n",
    "plt.ylim(-2*V0, V0)\n",
    "\n",
    "for n in range(3): # 322 324 326\n",
    "    plt.subplot(322 + 2*n)\n",
    "    plt.plot(x, psi[:, 0 + n])\n",
    "    plt.xlabel(r'$x$')\n",
    "    plt.ylabel(r'$\\psi_'+str(n)+'(x)$')\n",
    "\n",
    "plt.tight_layout()\n",
    "plt.show()"
   ]
  },
  {
   "cell_type": "code",
   "execution_count": null,
   "id": "5edfac8a-6b1b-4cb5-a960-2204a7d48934",
   "metadata": {},
   "outputs": [],
   "source": [
    "np.argwhere(en > -15)[0]"
   ]
  },
  {
   "cell_type": "code",
   "execution_count": null,
   "id": "88b22ba4-442e-49e9-89a0-7a03abe66eb9",
   "metadata": {},
   "outputs": [],
   "source": [
    "#plt.plot(en[:25])\n",
    "#plt.plot(en[25:50])\n",
    "#plt.plot(en[50:75])"
   ]
  },
  {
   "cell_type": "code",
   "execution_count": null,
   "id": "078cdaa6-7915-4800-b204-0630dba03664",
   "metadata": {},
   "outputs": [],
   "source": []
  }
 ],
 "metadata": {
  "kernelspec": {
   "display_name": "Python 3",
   "language": "python",
   "name": "python3"
  },
  "language_info": {
   "codemirror_mode": {
    "name": "ipython",
    "version": 3
   },
   "file_extension": ".py",
   "mimetype": "text/x-python",
   "name": "python",
   "nbconvert_exporter": "python",
   "pygments_lexer": "ipython3",
   "version": "3.9.7"
  }
 },
 "nbformat": 4,
 "nbformat_minor": 5
}
