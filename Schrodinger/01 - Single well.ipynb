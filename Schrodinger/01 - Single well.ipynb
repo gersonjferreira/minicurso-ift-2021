{
 "cells": [
  {
   "cell_type": "markdown",
   "id": "80565122-cd1e-4f45-9a8f-3095471f96f2",
   "metadata": {},
   "source": [
    "# Schrödinger equation: quantum wells\n",
    "\n",
    "Let's consider the atomic units (a.u.) with $\\hbar = m = 1$, such that our Schrödinger equation reads\n",
    "\n",
    "$$\\Big[-\\dfrac{1}{2}\\dfrac{\\partial^2}{\\partial x^2} + V(x)\\Big] \\psi(x) = E \\psi(x)$$\n",
    "\n",
    "Under this notation, energies, distances and time are expressed in units of:\n",
    "\n",
    "- Energy in units of Hartree, or 2 Rydbergs: $E_H = 2R_y = 27.211386245988$ eV\n",
    "- Distances in units of Bohr: $a_0 = 0.529177210903$ Å\n",
    "- Time in units of $T = \\frac{\\hbar}{2R_y} = 2.4188843265857 \\times 10^{-5}$ ps\n",
    "\n",
    "## Harmonic oscillator\n",
    "\n",
    "Always the first example... So, let's use $V(x) = \\dfrac{1}{2} k x^2$. We know that the solutions are\n",
    "\n",
    "$$E_n = \\left(n+\\frac{1}{2}\\right)\\omega, \\text{ with } \\omega = \\sqrt{k}$$\n",
    "\n",
    "$$\\psi_n(x) = \\dfrac{1}{\\sqrt{2^n n!}} \\left(\\dfrac{\\omega}{\\pi}\\right)^{1/4} e^{-\\omega x^2/2} H_n(\\sqrt{\\omega} x)$$\n",
    "\n",
    "For simplicity, let's use $k = \\omega = 1$."
   ]
  },
  {
   "cell_type": "code",
   "execution_count": null,
   "id": "0f11a62e-1ef9-4fc1-b527-8e23ecf73b91",
   "metadata": {},
   "outputs": [],
   "source": [
    "import numpy as np\n",
    "import matplotlib.pyplot as plt\n",
    "plt.rcParams.update({'font.size': 20})"
   ]
  },
  {
   "cell_type": "markdown",
   "id": "3d969a5b-fa1b-45c1-abb3-44cb88d328ec",
   "metadata": {},
   "source": [
    "### Build the array for V(x)"
   ]
  },
  {
   "cell_type": "code",
   "execution_count": null,
   "id": "97e6def7-ea68-4251-9522-d15c9b72fe7e",
   "metadata": {},
   "outputs": [],
   "source": [
    "L = 10\n",
    "N = 15\n",
    "x = np.linspace(-L/2, L/2, N)\n",
    "dx = x[1]-x[0]\n",
    "\n",
    "V = 0.5*x**2\n",
    "\n",
    "plt.plot(x, V, lw=4, c='black')\n",
    "plt.xlabel(r'$x$')\n",
    "plt.ylabel(r'$V(x)$')\n",
    "plt.grid()\n",
    "plt.tight_layout()\n",
    "plt.show()"
   ]
  },
  {
   "cell_type": "markdown",
   "id": "4240ec83-02aa-4b6d-ab4a-05e5d095b552",
   "metadata": {},
   "source": [
    "### Build the kinetic operator as a tridiagonal matrix"
   ]
  },
  {
   "cell_type": "code",
   "execution_count": null,
   "id": "85819aff-8b1b-47a5-806c-1b9fccded98f",
   "metadata": {},
   "outputs": [],
   "source": [
    "T = -0.5*(np.eye(N, k=-1) - 2*np.eye(N) + np.eye(N, k=+1))/dx**2\n",
    "\n",
    "tmax = np.max(np.abs(T))\n",
    "\n",
    "plt.imshow(T, vmin=-tmax, vmax=+tmax, cmap='bwr')\n",
    "plt.tight_layout()\n",
    "plt.show()"
   ]
  },
  {
   "cell_type": "markdown",
   "id": "590b6fb3-2111-4ffc-bb96-cf46e29b0512",
   "metadata": {},
   "source": [
    "### Solve the eigenproblem and plot the results"
   ]
  },
  {
   "cell_type": "code",
   "execution_count": null,
   "id": "06c2eeae-7d82-454d-9e89-00df621b1045",
   "metadata": {},
   "outputs": [],
   "source": [
    "H = T + np.diag(V)\n",
    "\n",
    "en, psi = np.linalg.eigh(H)\n",
    "print('First energies:', list(np.round(en[:5],1)))\n",
    "print('Expected......:', [(n+0.5) for n in range(5)])"
   ]
  },
  {
   "cell_type": "code",
   "execution_count": null,
   "id": "f4727033-344f-4e81-a297-33c2546bbe0e",
   "metadata": {},
   "outputs": [],
   "source": [
    "plt.figure(figsize=(10,6))\n",
    "\n",
    "plt.subplot(121)\n",
    "plt.plot(x, V, lw=4, c='black')\n",
    "for n in range(15):\n",
    "    plt.axhline(en[n], c='black', ls=':')\n",
    "plt.xlabel(r'$x$')\n",
    "plt.ylabel(r'$V(x)$')\n",
    "plt.ylim(0, 16)\n",
    "\n",
    "for n in range(3): # 322 324 326\n",
    "    plt.subplot(322 + 2*n)\n",
    "    plt.plot(x, psi[:,n], lw=4)\n",
    "    plt.xlabel(r'$x$')\n",
    "    plt.ylabel(r'$\\psi_'+str(n)+'(x)$')\n",
    "\n",
    "plt.tight_layout()\n",
    "plt.show()"
   ]
  },
  {
   "cell_type": "markdown",
   "id": "d55ff8fe-f3ce-4fb8-967a-d23e0496f9cf",
   "metadata": {},
   "source": [
    "## Exercises\n",
    "\n",
    "**(1)** How to change the code to use **periodic boundary conditions**? How does it affect the results?\n",
    "\n",
    "**(2)** Change the code to run with \n",
    "\n",
    "- domain $-L/2 \\leq x < L/2$ with $N = 500$ points and $L = 50$\n",
    "- periodic boundary conditions\n",
    "- a potential $V(x) = -V_0 [\\cos(q x) + 1]$, with $V_0 = 20$, \n",
    "- use $q = (2\\pi/50)n$ and vary $n$ from 1 to 25.\n",
    "\n",
    "Questions:\n",
    "\n",
    "a) What does $n$ represent?\n",
    "\n",
    "b) Can you see the formation of bands? How does the eigenstates look like?"
   ]
  },
  {
   "cell_type": "code",
   "execution_count": null,
   "id": "88b22ba4-442e-49e9-89a0-7a03abe66eb9",
   "metadata": {},
   "outputs": [],
   "source": []
  }
 ],
 "metadata": {
  "kernelspec": {
   "display_name": "Python 3",
   "language": "python",
   "name": "python3"
  },
  "language_info": {
   "codemirror_mode": {
    "name": "ipython",
    "version": 3
   },
   "file_extension": ".py",
   "mimetype": "text/x-python",
   "name": "python",
   "nbconvert_exporter": "python",
   "pygments_lexer": "ipython3",
   "version": "3.9.7"
  }
 },
 "nbformat": 4,
 "nbformat_minor": 5
}
