{
 "cells": [
  {
   "cell_type": "markdown",
   "id": "993dbe6d-4cce-409e-b72c-45b1dcfdf77d",
   "metadata": {},
   "source": [
    "# MINI COURSE: Computational solid state physics in python\n",
    "\n",
    "**Prof. Dr. Gerson J. Ferreira**\n",
    "\n",
    "*Instituto de Física - Universidade Federal de Uberlândia - MG, Brasil*\n",
    "\n",
    "-----------------\n",
    "\n",
    "XLIV Congresso Paulo Leal Ferreira\n",
    "IFT / UNESP\n",
    "\n",
    "25 – 27 de outubro de 2021\n",
    "\n",
    "-----------------\n",
    "\n",
    "## Who am I?\n",
    "\n",
    "You can find me here: https://gjferreira.wordpress.com/\n",
    "\n",
    "-----------------"
   ]
  },
  {
   "cell_type": "markdown",
   "id": "6df1e5ce-7fb9-4933-b385-9a22ba2da92d",
   "metadata": {},
   "source": [
    "## Summary\n",
    "\n",
    "The purpose of this mini course is to learn how to use python to solve typical problems in physics, while also improving our knowledge of fundamental solid state topics. The selected examples to be presented here allow us to learn: (i) how to represent quantum operators either as explicit matrices or as linear operators that act on wave-functions; (ii) solve eigenproblems and other linear algebra elements; (iii) apply Gram-Schmidt orthogonalizations; (iv) use FFT; (v) how to use python efficiently.\n",
    "\n",
    "At the Unversidade Federal de Uberlândia we have been teaching these and other related topics:\n",
    "\n",
    "**1. Introduction to computational physics (mandatory):** Numerical integration and differentiation. Solving ordinary differential equations of initial value (Newtonian dynamics) and boundary condition problems (waves on a string, heat). Fast Fourier transforms (FFT). Statistics. \n",
    "\n",
    "**2. Advanced computational physics (optional):** Numerical methods applied to (i) quantum mechanics; (ii) solid state physics; (iii) machine learning.\n",
    "\n",
    "**3. High performance computing (optional, offered only once):** How to develop the similar tasks above in C or Fortran language using openMP and MPI. How to build and configure a cluster.\n",
    "\n"
   ]
  },
  {
   "cell_type": "markdown",
   "id": "f8597bd8-e672-410e-bebd-a2dd65794147",
   "metadata": {
    "tags": []
   },
   "source": [
    "-----------------\n",
    "## Content\n",
    "\n",
    "### Introduction to python\n",
    "\n",
    "- IDEs: spyder, jupyter, VS Code, PyCharm, ...\n",
    "- Python essentials: variables, functions, operations, ...\n",
    "- **numpy** essentials: arrays, broadcasting, vector/matrix/elementwise operations\n",
    "- Plotting figures with **matplotlib**\n",
    "- Linear algebra with **numpy** and/or **scipy**\n",
    "- Fast Fourier transforms (**FFT**) with **numpy** and/or **scipy**\n",
    "\n",
    "### Schrödinger's equation\n",
    "\n",
    "- Finite differences and matrix representation\n",
    "    - Eigenstates of potential wells\n",
    "- Inverse power method and $H$ as a linear operator using FFT\n",
    "    - Gram-Schmidt orthonormalization\n",
    "\n",
    "### Topological insulators\n",
    "\n",
    "- The BHZ model\n",
    "- Bulk band structure and the band inversion\n",
    "- Berry curvature and the Chern number\n",
    "- Edge states"
   ]
  }
 ],
 "metadata": {
  "kernelspec": {
   "display_name": "Python 3",
   "language": "python",
   "name": "python3"
  },
  "language_info": {
   "codemirror_mode": {
    "name": "ipython",
    "version": 3
   },
   "file_extension": ".py",
   "mimetype": "text/x-python",
   "name": "python",
   "nbconvert_exporter": "python",
   "pygments_lexer": "ipython3",
   "version": "3.9.7"
  }
 },
 "nbformat": 4,
 "nbformat_minor": 5
}
