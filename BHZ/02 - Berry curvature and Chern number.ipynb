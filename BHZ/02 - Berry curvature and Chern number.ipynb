{
 "cells": [
  {
   "cell_type": "markdown",
   "id": "2ca1d46b-d613-4ff4-a499-136c6cde2c4c",
   "metadata": {},
   "source": [
    "# Berry curvature and Chern number"
   ]
  },
  {
   "cell_type": "code",
   "execution_count": 1,
   "id": "7e89f54f-0fad-4cf4-a4bb-8ae3db4a387a",
   "metadata": {},
   "outputs": [],
   "source": [
    "import numpy as np\n",
    "import matplotlib.pyplot as plt\n",
    "from scipy import integrate\n",
    "\n",
    "plt.rcParams.update({'font.size': 20})"
   ]
  },
  {
   "cell_type": "markdown",
   "id": "9dfeacce-a2d9-489d-ad5e-528096d863e8",
   "metadata": {},
   "source": [
    "## Define functions for H and the velocities"
   ]
  },
  {
   "cell_type": "code",
   "execution_count": null,
   "id": "fda6613c-e2c0-443a-8f66-f109965fbd69",
   "metadata": {},
   "outputs": [],
   "source": [
    "s0 = np.eye(2)\n",
    "sx = np.array([[0,1],[1,0]])\n",
    "sy = np.array([[0,-1j],[1j,0]])\n",
    "sz = np.array([[1,0],[0,-1]])\n",
    "\n",
    "def BHZ_H(kx, ky=0, m=1, a=1, b=-0.1):\n",
    "    k2 = kx**2 + ky**2\n",
    "    h = a*(sx*kx + sy*ky) + (m - b*k2)*sz\n",
    "    return h\n",
    "\n",
    "def BHZ_VX(kx, ky=0, m=1, a=1, b=-0.1):\n",
    "    return a*sx - 2*b*kx*sz\n",
    "    \n",
    "def BHZ_VY(kx, ky=0, m=1, a=1, b=-0.1):\n",
    "    return a*sy - 2*b*ky*sz"
   ]
  },
  {
   "cell_type": "markdown",
   "id": "ae1234b4-5ea5-4dba-96ac-1fe95be59f2c",
   "metadata": {},
   "source": [
    "## The Berry curvature"
   ]
  },
  {
   "cell_type": "code",
   "execution_count": null,
   "id": "f413db5c-6802-40b1-ad88-3d56372d9073",
   "metadata": {},
   "outputs": [],
   "source": [
    "def BerrtCurv(kx, ky=0, m=1, a=1, b=-0.1):\n",
    "    H  = BHZ_H (kx, ky, m, a, b)\n",
    "    VX = BHZ_VX(kx, ky, m, a, b)\n",
    "    VY = BHZ_VY(kx, ky, m, a, b)\n",
    "        \n",
    "    evs, psi = np.linalg.eigh(H)\n",
    "    \n",
    "    BC = np.zeros(2, dtype=complex)\n",
    "    for n in range(2):\n",
    "        n1 = (not n)*1\n",
    "        \n",
    "        matel1 = np.vdot(psi[:,n ], VX @ psi[:,n1])\n",
    "        matel2 = np.vdot(psi[:,n1], VY @ psi[:,n ])\n",
    "\n",
    "        matel3 = np.vdot(psi[:,n ], VY @ psi[:,n1])\n",
    "        matel4 = np.vdot(psi[:,n1], VX @ psi[:,n ])\n",
    "        \n",
    "        BC[n] = 1j*(matel1*matel2 - matel3*matel4)/(evs[n1]-evs[n])**2\n",
    "        \n",
    "    return BC.real"
   ]
  },
  {
   "cell_type": "markdown",
   "id": "712eb670-ff6e-4f53-b4cb-ef77dae6aab8",
   "metadata": {},
   "source": [
    "## Calculate the Berry curvature vs k"
   ]
  },
  {
   "cell_type": "code",
   "execution_count": null,
   "id": "4edd01a9-8edf-41a0-9b29-cbd1b68481d8",
   "metadata": {},
   "outputs": [],
   "source": [
    "nk = 500\n",
    "ks = np.linspace(-5, 5, nk)\n",
    "dk = ks[1]-ks[0]\n",
    "\n",
    "a = 0.1\n",
    "\n",
    "ms = np.array([1, 0.5, 0, -0.5, -1])\n",
    "berry = {}\n",
    "for m in ms:\n",
    "    berry[m] = np.array([BerrtCurv(kx, m=m, a=a) for kx in ks])"
   ]
  },
  {
   "cell_type": "markdown",
   "id": "0f2d76d6-43ec-4709-8303-33cae6534881",
   "metadata": {},
   "source": [
    "## Chern number, integral of the Berry curvature"
   ]
  },
  {
   "cell_type": "code",
   "execution_count": null,
   "id": "155bebf9-df3b-4e15-873d-d1632043f34c",
   "metadata": {},
   "outputs": [],
   "source": [
    "chern = {}\n",
    "for m in ms:\n",
    "    arg = lambda k: k*BerrtCurv(k, m=m, a=a)[0]\n",
    "    chern[m] = integrate.quad(arg, 0, np.inf)[0]"
   ]
  },
  {
   "cell_type": "markdown",
   "id": "c527793b-d421-43dc-ae7f-73e77226048c",
   "metadata": {},
   "source": [
    "## Plot the results"
   ]
  },
  {
   "cell_type": "code",
   "execution_count": null,
   "id": "f41bb890-5fa1-4919-8f37-08d2367b9daa",
   "metadata": {},
   "outputs": [],
   "source": [
    "plt.figure(figsize=(10,4))\n",
    "spt = 150\n",
    "for m in ms:\n",
    "    spt += 1\n",
    "    plt.subplot(spt)\n",
    "    \n",
    "    plt.title('Chern = ' + str(np.round(chern[m], 5)), fontsize=15)\n",
    "    \n",
    "    plt.plot(ks, berry[m][:,0])\n",
    "    plt.plot(ks, berry[m][:,1])\n",
    "    \n",
    "    plt.axhline(0, lw=1, c='grey')\n",
    "    plt.axvline(0, lw=1, c='grey')\n",
    "    plt.xticks([])\n",
    "    plt.yticks([])\n",
    "    \n",
    "plt.tight_layout()\n",
    "plt.show()"
   ]
  },
  {
   "cell_type": "code",
   "execution_count": null,
   "id": "4fff6949-7f9b-402d-88ea-45669b53e48b",
   "metadata": {},
   "outputs": [],
   "source": []
  }
 ],
 "metadata": {
  "kernelspec": {
   "display_name": "Python 3",
   "language": "python",
   "name": "python3"
  },
  "language_info": {
   "codemirror_mode": {
    "name": "ipython",
    "version": 3
   },
   "file_extension": ".py",
   "mimetype": "text/x-python",
   "name": "python",
   "nbconvert_exporter": "python",
   "pygments_lexer": "ipython3",
   "version": "3.9.7"
  }
 },
 "nbformat": 4,
 "nbformat_minor": 5
}
