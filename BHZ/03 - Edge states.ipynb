{
 "cells": [
  {
   "cell_type": "markdown",
   "id": "c0e2d4e4-8404-441b-8f72-698c4c030614",
   "metadata": {},
   "source": [
    "# Edge states"
   ]
  },
  {
   "cell_type": "code",
   "execution_count": null,
   "id": "595d6364-d9f1-4557-a76e-42eaaa0ea950",
   "metadata": {},
   "outputs": [],
   "source": [
    "import numpy as np\n",
    "import matplotlib.pyplot as plt\n",
    "plt.rcParams.update({'font.size': 20})"
   ]
  },
  {
   "cell_type": "markdown",
   "id": "e215c43e-cb28-46c8-a048-5729d7ab4b2b",
   "metadata": {},
   "source": [
    "## Hamiltonian discretized for a ribbon"
   ]
  },
  {
   "cell_type": "code",
   "execution_count": null,
   "id": "56e5262c-fd67-4eca-8923-14a1bdb171ae",
   "metadata": {},
   "outputs": [],
   "source": [
    "s0 = np.eye(2)\n",
    "sx = np.array([[0,1],[1,0]])\n",
    "sy = np.array([[0,-1j],[1j,0]])\n",
    "sz = np.array([[1,0],[0,-1]])\n",
    "\n",
    "L = 10\n",
    "N = 101\n",
    "x = np.linspace(-L/2, L/2, N)\n",
    "dx = x[1]-x[0]\n",
    "\n",
    "op_I  = np.eye(N)\n",
    "op_k  = (-1j/(2*dx))*(-np.eye(N, k=-1) + np.eye(N, k=+1))\n",
    "op_k2 = (-1/(dx**2))*(np.eye(N, k=-1) - 2*np.eye(N) + np.eye(N, k=+1))\n",
    "\n",
    "def BHZ_Ribbon(ky=0, m=1, a=1, b=-0.1):\n",
    "    h  = a * (np.kron(sx, op_k) + np.kron(sy, op_I)*ky)\n",
    "    h += m * np.kron(sz, op_I)\n",
    "    h += -b * np.kron(sz, op_k2 + op_I*ky**2)\n",
    "    return h"
   ]
  },
  {
   "cell_type": "markdown",
   "id": "fc43afd0-0b7c-4583-88a9-4894d61aebe8",
   "metadata": {},
   "source": [
    "## Bands: the eigenvalues"
   ]
  },
  {
   "cell_type": "code",
   "execution_count": null,
   "id": "10d7d1e5-a660-45ef-90a7-aea07575bf27",
   "metadata": {},
   "outputs": [],
   "source": [
    "nk = 51\n",
    "ks = np.linspace(-5, 5, nk)\n",
    "\n",
    "a=0.1\n",
    "\n",
    "ms = np.array([1, 0.5, 0, -0.5, -1])\n",
    "bands = {}\n",
    "for m in ms:\n",
    "    bands[m] = np.array([np.linalg.eigvalsh(BHZ_Ribbon(ky, m, a)) for ky in ks])"
   ]
  },
  {
   "cell_type": "code",
   "execution_count": null,
   "id": "45db5097-a140-4b40-9ff7-d35d76c51c9a",
   "metadata": {},
   "outputs": [],
   "source": [
    "plt.figure(figsize=(10,4))\n",
    "spt = 150\n",
    "for m in ms:\n",
    "    spt += 1\n",
    "    plt.subplot(spt)\n",
    "    plt.plot(ks, bands[m], c='black')\n",
    "    plt.xticks([])\n",
    "    plt.yticks([])\n",
    "    plt.ylim(-1.5, 1.5)\n",
    "    \n",
    "plt.tight_layout()\n",
    "plt.show()"
   ]
  },
  {
   "cell_type": "markdown",
   "id": "b982d59e-19a3-4a1d-8757-87a3c1a1ea44",
   "metadata": {},
   "source": [
    "## The edge states"
   ]
  },
  {
   "cell_type": "code",
   "execution_count": null,
   "id": "e02ccaf0-9219-487b-b0c7-7b43b1647628",
   "metadata": {},
   "outputs": [],
   "source": [
    "k0 = 1\n",
    "eks, psi = np.linalg.eigh(BHZ_Ribbon(k0, -1, a))\n",
    "id0 = np.argwhere(eks>0)[0][0]\n",
    "print('Index of first band with E>0: ', id0)\n",
    "\n",
    "plt.plot(ks, bands[-1], c='black')\n",
    "plt.scatter([k0], [eks[id0]], c='red')\n",
    "plt.ylim(-1.5, 1.5)\n",
    "plt.xlabel(r'$k$')\n",
    "plt.ylabel(r'$E$')\n",
    "plt.tight_layout()\n",
    "plt.show()"
   ]
  },
  {
   "cell_type": "code",
   "execution_count": null,
   "id": "a639d9bc-1711-4787-b9cc-09d3495f4d0f",
   "metadata": {},
   "outputs": [],
   "source": [
    "dens = np.abs(psi[:N, id0])**2 + np.abs(psi[N:, id0])**2\n",
    "plt.plot(x, dens, lw=4)\n",
    "plt.xlabel(r'$x$')\n",
    "plt.ylabel(r'$|\\psi(x)|^2$')\n",
    "plt.tight_layout()\n",
    "plt.show()"
   ]
  },
  {
   "cell_type": "code",
   "execution_count": null,
   "id": "dd8150f2-6fab-4697-a56f-57f973145eb8",
   "metadata": {},
   "outputs": [],
   "source": []
  }
 ],
 "metadata": {
  "kernelspec": {
   "display_name": "Python 3",
   "language": "python",
   "name": "python3"
  },
  "language_info": {
   "codemirror_mode": {
    "name": "ipython",
    "version": 3
   },
   "file_extension": ".py",
   "mimetype": "text/x-python",
   "name": "python",
   "nbconvert_exporter": "python",
   "pygments_lexer": "ipython3",
   "version": "3.9.7"
  }
 },
 "nbformat": 4,
 "nbformat_minor": 5
}
